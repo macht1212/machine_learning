{
 "cells": [
  {
   "cell_type": "code",
   "execution_count": 65,
   "id": "ef686889",
   "metadata": {},
   "outputs": [],
   "source": [
    "import pandas as pd\n",
    "import numpy as np\n",
    "\n",
    "import matplotlib.pyplot as plt\n",
    "import seaborn as sns\n",
    "\n",
    "import warnings\n",
    "warnings.filterwarnings(\"ignore\")\n",
    "\n",
    "pd.set_option('display.max_columns', 200)"
   ]
  },
  {
   "cell_type": "code",
   "execution_count": 66,
   "id": "abdef0f8",
   "metadata": {},
   "outputs": [],
   "source": [
    "from sklearn.datasets import fetch_california_housing"
   ]
  },
  {
   "cell_type": "code",
   "execution_count": 67,
   "id": "43d1e3e4",
   "metadata": {},
   "outputs": [],
   "source": [
    "from sklearn.model_selection import train_test_split\n",
    "from sklearn.metrics import mean_squared_error, r2_score\n",
    "\n",
    "from sklearn.linear_model import LinearRegression\n",
    "from sklearn.preprocessing import StandardScaler\n",
    "from sklearn.pipeline import make_pipeline"
   ]
  },
  {
   "cell_type": "code",
   "execution_count": 68,
   "id": "87634fc4",
   "metadata": {},
   "outputs": [],
   "source": [
    "from sklearn.preprocessing import LabelEncoder\n",
    "from category_encoders.count import CountEncoder"
   ]
  },
  {
   "cell_type": "markdown",
   "id": "3b0dff9e",
   "metadata": {},
   "source": [
    "# Функции расчета модели и построение графиков"
   ]
  },
  {
   "cell_type": "code",
   "execution_count": 69,
   "id": "4752a47e",
   "metadata": {},
   "outputs": [],
   "source": [
    "def get_score(data: pd.DataFrame, y: pd.Series, random_state=42, test_size=.2, model_type=None, stand=True):\n",
    "    \n",
    "    data = data.copy()\n",
    "    y = y.copy()\n",
    "    \n",
    "    if not model_type:\n",
    "        if stand:\n",
    "            model = make_pipeline(\n",
    "                StandardScaler(),\n",
    "                LinearRegression()        \n",
    "            )\n",
    "        else:\n",
    "            model = make_pipeline(\n",
    "                LinearRegression()        \n",
    "            )\n",
    "    else:\n",
    "        if stand:\n",
    "            model = make_pipeline(\n",
    "                StandardScaler(),\n",
    "                model_type\n",
    "            )\n",
    "        else:\n",
    "            model = make_pipeline(\n",
    "                model_type        \n",
    "            )\n",
    "        \n",
    "    \n",
    "    X_train, X_test, y_train, y_test = train_test_split(data, y, test_size=test_size, random_state=random_state)\n",
    "    \n",
    "    model.fit(X_train, y_train)\n",
    "    \n",
    "    mse = mean_squared_error(y_test, model.predict(X_test))\n",
    "    r2 = r2_score(y_test, model.predict(X_test))\n",
    "    \n",
    "    score = model.score(X_test, y_test)\n",
    "    \n",
    "    return score, mse, r2, model.predict(X_test)"
   ]
  },
  {
   "cell_type": "code",
   "execution_count": 70,
   "id": "4885a8d5",
   "metadata": {},
   "outputs": [],
   "source": [
    "def plots(y_pred):\n",
    "    fig, ax = plt.subplots(nrows=1, ncols=2)\n",
    "    ax[0].boxplot(y_pred)\n",
    "    ax[1].hist(y_pred)\n",
    "    plt.show()"
   ]
  },
  {
   "cell_type": "code",
   "execution_count": 71,
   "id": "533a08ba",
   "metadata": {},
   "outputs": [],
   "source": [
    "def corr_heatmap(data):\n",
    "    sns.heatmap(data.corr(), annot=True)"
   ]
  },
  {
   "cell_type": "code",
   "execution_count": 72,
   "id": "7e9d48ef",
   "metadata": {},
   "outputs": [],
   "source": [
    "def zero(d):\n",
    "    if d < 0:\n",
    "        return 1\n",
    "    return d"
   ]
  },
  {
   "cell_type": "code",
   "execution_count": 73,
   "id": "989916ee",
   "metadata": {},
   "outputs": [],
   "source": [
    "def log_(d):\n",
    "    return np.log(d)"
   ]
  },
  {
   "cell_type": "code",
   "execution_count": 74,
   "id": "e3495ee0",
   "metadata": {},
   "outputs": [],
   "source": [
    "def pow_(d):\n",
    "    return d ** 2"
   ]
  },
  {
   "cell_type": "code",
   "execution_count": 75,
   "id": "9d39d6ac",
   "metadata": {},
   "outputs": [],
   "source": [
    "def sqrt_(d):\n",
    "    return np.sqrt(d)"
   ]
  },
  {
   "cell_type": "code",
   "execution_count": 76,
   "id": "ffa405e8",
   "metadata": {},
   "outputs": [],
   "source": [
    "def get_one_hot(X, cols):\n",
    "    for each in cols:\n",
    "        dummies = pd.get_dummies(X[each], prefix=each)\n",
    "        X = pd.concat([X, dummies], axis=1)\n",
    "    return X"
   ]
  },
  {
   "cell_type": "code",
   "execution_count": 77,
   "id": "1ced6fc9",
   "metadata": {},
   "outputs": [],
   "source": [
    "def get_label(X, cols):\n",
    "    X = X.copy()\n",
    "    for each in cols:\n",
    "        le = LabelEncoder()\n",
    "        labels = le.fit_transform(X[each])\n",
    "        X[each] = labels\n",
    "    return X"
   ]
  },
  {
   "cell_type": "code",
   "execution_count": 78,
   "id": "e02231b6",
   "metadata": {},
   "outputs": [],
   "source": [
    "def get_count(X, cols):\n",
    "    X = X.copy()\n",
    "    \n",
    "    for col in cols:\n",
    "        X[col] = X[col].astype('str')\n",
    "\n",
    "    ce = CountEncoder(handle_unknown=-1)\n",
    "    ce.fit(X[cols])\n",
    "    X[cols] = ce.transform(X[cols])\n",
    "    return X"
   ]
  },
  {
   "cell_type": "markdown",
   "id": "db4829fd",
   "metadata": {},
   "source": [
    "# Подготовка датасета"
   ]
  },
  {
   "cell_type": "code",
   "execution_count": 79,
   "id": "2997ecf6",
   "metadata": {},
   "outputs": [],
   "source": [
    "df = fetch_california_housing(as_frame=True)\n",
    "data = df.frame"
   ]
  },
  {
   "cell_type": "code",
   "execution_count": 80,
   "id": "da79421b",
   "metadata": {},
   "outputs": [
    {
     "name": "stdout",
     "output_type": "stream",
     "text": [
      ".. _california_housing_dataset:\n",
      "\n",
      "California Housing dataset\n",
      "--------------------------\n",
      "\n",
      "**Data Set Characteristics:**\n",
      "\n",
      "    :Number of Instances: 20640\n",
      "\n",
      "    :Number of Attributes: 8 numeric, predictive attributes and the target\n",
      "\n",
      "    :Attribute Information:\n",
      "        - MedInc        median income in block group\n",
      "        - HouseAge      median house age in block group\n",
      "        - AveRooms      average number of rooms per household\n",
      "        - AveBedrms     average number of bedrooms per household\n",
      "        - Population    block group population\n",
      "        - AveOccup      average number of household members\n",
      "        - Latitude      block group latitude\n",
      "        - Longitude     block group longitude\n",
      "\n",
      "    :Missing Attribute Values: None\n",
      "\n",
      "This dataset was obtained from the StatLib repository.\n",
      "https://www.dcc.fc.up.pt/~ltorgo/Regression/cal_housing.html\n",
      "\n",
      "The target variable is the median house value for California districts,\n",
      "expressed in hundreds of thousands of dollars ($100,000).\n",
      "\n",
      "This dataset was derived from the 1990 U.S. census, using one row per census\n",
      "block group. A block group is the smallest geographical unit for which the U.S.\n",
      "Census Bureau publishes sample data (a block group typically has a population\n",
      "of 600 to 3,000 people).\n",
      "\n",
      "A household is a group of people residing within a home. Since the average\n",
      "number of rooms and bedrooms in this dataset are provided per household, these\n",
      "columns may take surprisingly large values for block groups with few households\n",
      "and many empty houses, such as vacation resorts.\n",
      "\n",
      "It can be downloaded/loaded using the\n",
      ":func:`sklearn.datasets.fetch_california_housing` function.\n",
      "\n",
      ".. topic:: References\n",
      "\n",
      "    - Pace, R. Kelley and Ronald Barry, Sparse Spatial Autoregressions,\n",
      "      Statistics and Probability Letters, 33 (1997) 291-297\n",
      "\n"
     ]
    }
   ],
   "source": [
    "print(df.DESCR)"
   ]
  },
  {
   "cell_type": "code",
   "execution_count": 81,
   "id": "aee57290",
   "metadata": {},
   "outputs": [
    {
     "name": "stdout",
     "output_type": "stream",
     "text": [
      "<class 'pandas.core.frame.DataFrame'>\n",
      "RangeIndex: 20640 entries, 0 to 20639\n",
      "Data columns (total 9 columns):\n",
      " #   Column       Non-Null Count  Dtype  \n",
      "---  ------       --------------  -----  \n",
      " 0   MedInc       20640 non-null  float64\n",
      " 1   HouseAge     20640 non-null  float64\n",
      " 2   AveRooms     20640 non-null  float64\n",
      " 3   AveBedrms    20640 non-null  float64\n",
      " 4   Population   20640 non-null  float64\n",
      " 5   AveOccup     20640 non-null  float64\n",
      " 6   Latitude     20640 non-null  float64\n",
      " 7   Longitude    20640 non-null  float64\n",
      " 8   MedHouseVal  20640 non-null  float64\n",
      "dtypes: float64(9)\n",
      "memory usage: 1.4 MB\n"
     ]
    }
   ],
   "source": [
    "data.info()\n",
    "#1.4 Мб памяти"
   ]
  },
  {
   "cell_type": "code",
   "execution_count": 82,
   "id": "491fb10a",
   "metadata": {},
   "outputs": [],
   "source": [
    "data.Population = data.Population.apply(zero)"
   ]
  },
  {
   "cell_type": "code",
   "execution_count": 83,
   "id": "42c2e2e5",
   "metadata": {},
   "outputs": [],
   "source": [
    "cols_i16 = ['HouseAge', 'Population']\n",
    "for col in cols_i16:\n",
    "    data[col] = data[col].astype(np.int16)\n",
    "cols_f16 = ['MedInc', 'AveRooms', 'AveBedrms', 'AveOccup', 'Latitude', 'Longitude', 'MedHouseVal']\n",
    "for col in cols_f16:\n",
    "    data[col] = data[col].astype(np.float16)"
   ]
  },
  {
   "cell_type": "code",
   "execution_count": 84,
   "id": "b4e83486",
   "metadata": {},
   "outputs": [
    {
     "name": "stdout",
     "output_type": "stream",
     "text": [
      "<class 'pandas.core.frame.DataFrame'>\n",
      "RangeIndex: 20640 entries, 0 to 20639\n",
      "Data columns (total 9 columns):\n",
      " #   Column       Non-Null Count  Dtype  \n",
      "---  ------       --------------  -----  \n",
      " 0   MedInc       20640 non-null  float16\n",
      " 1   HouseAge     20640 non-null  int16  \n",
      " 2   AveRooms     20640 non-null  float16\n",
      " 3   AveBedrms    20640 non-null  float16\n",
      " 4   Population   20640 non-null  int16  \n",
      " 5   AveOccup     20640 non-null  float16\n",
      " 6   Latitude     20640 non-null  float16\n",
      " 7   Longitude    20640 non-null  float16\n",
      " 8   MedHouseVal  20640 non-null  float16\n",
      "dtypes: float16(7), int16(2)\n",
      "memory usage: 362.9 KB\n"
     ]
    }
   ],
   "source": [
    "data.info()\n",
    "# 363 кб памяти (меньше почти в 4 раза)"
   ]
  },
  {
   "cell_type": "code",
   "execution_count": 85,
   "id": "b5e43f7b",
   "metadata": {},
   "outputs": [],
   "source": [
    "y = data.MedHouseVal\n",
    "del data['MedHouseVal']"
   ]
  },
  {
   "cell_type": "markdown",
   "id": "bf5cf2b9",
   "metadata": {},
   "source": [
    "# Расчет регрессии без манипуляций"
   ]
  },
  {
   "cell_type": "code",
   "execution_count": 86,
   "id": "65e4e91a",
   "metadata": {},
   "outputs": [
    {
     "name": "stdout",
     "output_type": "stream",
     "text": [
      "Score = 0.5758705326700009\n",
      "MSE = 0.555743932723999\n",
      "R2 = 0.5758705326700009\n"
     ]
    }
   ],
   "source": [
    "# Без стандартизации\n",
    "score, mse, r2, y_pred = get_score(data, y, stand=False)\n",
    "print(f'Score = {score}')\n",
    "print(f'MSE = {mse}')\n",
    "print(f'R2 = {r2}')"
   ]
  },
  {
   "cell_type": "code",
   "execution_count": 87,
   "id": "5172edaa",
   "metadata": {},
   "outputs": [
    {
     "data": {
      "image/png": "[encoded data removed]",
      "text/plain": [
       "<Figure size 640x480 with 2 Axes>"
      ]
     },
     "metadata": {},
     "output_type": "display_data"
    }
   ],
   "source": [
    "plots(y_pred)"
   ]
  },
  {
   "cell_type": "code",
   "execution_count": 88,
   "id": "541f4f55",
   "metadata": {},
   "outputs": [
    {
     "name": "stdout",
     "output_type": "stream",
     "text": [
      "Score = 0.5758703976372199\n",
      "MSE = 0.5557441115379333\n",
      "R2 = 0.5758703976372199\n"
     ]
    }
   ],
   "source": [
    "# Со стандартизацией\n",
    "score, mse, r2, y_pred = get_score(data, y, stand=True)\n",
    "print(f'Score = {score}')\n",
    "print(f'MSE = {mse}')\n",
    "print(f'R2 = {r2}')"
   ]
  },
  {
   "cell_type": "code",
   "execution_count": 89,
   "id": "baa0a11b",
   "metadata": {},
   "outputs": [
    {
     "data": {
      "image/png": "[encoded data removed]",
      "text/plain": [
       "<Figure size 640x480 with 2 Axes>"
      ]
     },
     "metadata": {},
     "output_type": "display_data"
    }
   ],
   "source": [
    "plots(y_pred)"
   ]
  },
  {
   "cell_type": "markdown",
   "id": "2b7a2fcd",
   "metadata": {},
   "source": [
    "Различие в параметре R2 - составляет только в 7 знаке после запятой, далее - со стандартизацией  \n",
    "Стоит отметить наличие одного выброса около 12"
   ]
  },
  {
   "cell_type": "code",
   "execution_count": 90,
   "id": "d6fe05cc",
   "metadata": {},
   "outputs": [
    {
     "data": {
      "image/png": "[encoded data removed]",
      "text/plain": [
       "<Figure size 640x480 with 2 Axes>"
      ]
     },
     "metadata": {},
     "output_type": "display_data"
    }
   ],
   "source": [
    "corr_heatmap(data)"
   ]
  },
  {
   "cell_type": "markdown",
   "id": "480ba5cb",
   "metadata": {},
   "source": [
    "Высокая корреляция наблюдается между показателями Среднего колличества спален и комнат, а также между координатами.  \n",
    "Удалим среднее количество спален"
   ]
  },
  {
   "cell_type": "markdown",
   "id": "c95ae8f5",
   "metadata": {},
   "source": [
    "# Удаление среднего количества спален"
   ]
  },
  {
   "cell_type": "code",
   "execution_count": 91,
   "id": "1eef48ed",
   "metadata": {},
   "outputs": [],
   "source": [
    "drop_data = data.copy()\n",
    "drop_data = drop_data.drop(columns=['AveBedrms'])"
   ]
  },
  {
   "cell_type": "code",
   "execution_count": 92,
   "id": "696e3013",
   "metadata": {},
   "outputs": [
    {
     "name": "stdout",
     "output_type": "stream",
     "text": [
      "Score = 0.5823348769525658\n",
      "MSE = 0.5472735166549683\n",
      "R2 = 0.5823348769525658\n"
     ]
    }
   ],
   "source": [
    "# Было: R2 = 0.5758703976372199\n",
    "\n",
    "score, mse, r2, y_pred = get_score(drop_data, y, stand=True)\n",
    "print(f'Score = {score}')\n",
    "print(f'MSE = {mse}')\n",
    "print(f'R2 = {r2}')"
   ]
  },
  {
   "cell_type": "code",
   "execution_count": 93,
   "id": "2f0737c5",
   "metadata": {},
   "outputs": [
    {
     "data": {
      "image/png": "[encoded data removed]",
      "text/plain": [
       "<Figure size 640x480 with 2 Axes>"
      ]
     },
     "metadata": {},
     "output_type": "display_data"
    }
   ],
   "source": [
    "plots(y_pred)"
   ]
  },
  {
   "cell_type": "markdown",
   "id": "2f7b9575",
   "metadata": {},
   "source": [
    "Выброс исчез, при этом также стоит заметить, что значение СКО уменьшилось, а R2 увеличился"
   ]
  },
  {
   "cell_type": "markdown",
   "id": "1f21f448",
   "metadata": {},
   "source": [
    "# Логарифмирование населения"
   ]
  },
  {
   "cell_type": "code",
   "execution_count": 94,
   "id": "7a31cf39",
   "metadata": {},
   "outputs": [],
   "source": [
    "log_data = drop_data.copy()\n",
    "log_data.Population = log_data.Population.apply(zero)\n",
    "log_data.Population = log_data.Population.apply(log_)"
   ]
  },
  {
   "cell_type": "code",
   "execution_count": 95,
   "id": "f2b896be",
   "metadata": {},
   "outputs": [
    {
     "name": "stdout",
     "output_type": "stream",
     "text": [
      "Score = 0.5826058398855867\n",
      "MSE = 0.5469185031381486\n",
      "R2 = 0.5826058398855867\n"
     ]
    }
   ],
   "source": [
    "# Было: R2 = 0.5823348769525658\n",
    "\n",
    "score, mse, r2, y_pred = get_score(log_data, y, stand=True)\n",
    "print(f'Score = {score}')\n",
    "print(f'MSE = {mse}')\n",
    "print(f'R2 = {r2}')"
   ]
  },
  {
   "cell_type": "code",
   "execution_count": 96,
   "id": "e6dd5ef9",
   "metadata": {},
   "outputs": [
    {
     "data": {
      "image/png": "[encoded data removed]",
      "text/plain": [
       "<Figure size 640x480 with 2 Axes>"
      ]
     },
     "metadata": {},
     "output_type": "display_data"
    }
   ],
   "source": [
    "plots(y_pred)"
   ]
  },
  {
   "cell_type": "markdown",
   "id": "c2a3791a",
   "metadata": {},
   "source": [
    "Значение СКО незначительно уменьшилось, а R2 незначительно увеличился"
   ]
  },
  {
   "cell_type": "markdown",
   "id": "673e1eae",
   "metadata": {},
   "source": [
    "# Возведение в степень 2 Среднего населения квартиры"
   ]
  },
  {
   "cell_type": "code",
   "execution_count": 97,
   "id": "ec53a11a",
   "metadata": {},
   "outputs": [],
   "source": [
    "power_data = log_data.copy()\n",
    "power_data.AveOccup = power_data.AveOccup.apply(pow_)"
   ]
  },
  {
   "cell_type": "code",
   "execution_count": 98,
   "id": "6fcc7100",
   "metadata": {},
   "outputs": [
    {
     "name": "stdout",
     "output_type": "stream",
     "text": [
      "Score = 0.5817088012292074\n",
      "MSE = 0.5480939077941924\n",
      "R2 = 0.5817088012292074\n"
     ]
    }
   ],
   "source": [
    "# Было: R2 = 0.5826058398855867\n",
    "\n",
    "score, mse, r2, y_pred = get_score(power_data, y, stand=True)\n",
    "print(f'Score = {score}')\n",
    "print(f'MSE = {mse}')\n",
    "print(f'R2 = {r2}')"
   ]
  },
  {
   "cell_type": "markdown",
   "id": "85f09d1f",
   "metadata": {},
   "source": [
    "Значение R2 уменьшилось, далее эту манипуляцию не пускаем. "
   ]
  },
  {
   "cell_type": "markdown",
   "id": "5f400806",
   "metadata": {},
   "source": [
    "# Квадратный корень от Средней стоимости"
   ]
  },
  {
   "cell_type": "code",
   "execution_count": 99,
   "id": "724d9344",
   "metadata": {},
   "outputs": [],
   "source": [
    "sqrt_data = log_data.copy()\n",
    "sqrt_data.MedInc = sqrt_data.MedInc.apply(sqrt_)"
   ]
  },
  {
   "cell_type": "code",
   "execution_count": 100,
   "id": "1c2b4fcd",
   "metadata": {},
   "outputs": [
    {
     "name": "stdout",
     "output_type": "stream",
     "text": [
      "Score = 0.5734177274273025\n",
      "MSE = 0.5589578395557264\n",
      "R2 = 0.5734177274273025\n"
     ]
    }
   ],
   "source": [
    "# Было: R2 = 0.5826058398855867\n",
    "\n",
    "score, mse, r2, y_pred = get_score(sqrt_data, y, stand=True)\n",
    "print(f'Score = {score}')\n",
    "print(f'MSE = {mse}')\n",
    "print(f'R2 = {r2}')"
   ]
  },
  {
   "cell_type": "markdown",
   "id": "8c6adaf7",
   "metadata": {},
   "source": [
    "Значение R2 уменьшилось, далее эту манипуляцию не пускаем. "
   ]
  },
  {
   "cell_type": "markdown",
   "id": "4b5ccbec",
   "metadata": {},
   "source": [
    "# Создание новых признаков"
   ]
  },
  {
   "cell_type": "code",
   "execution_count": 101,
   "id": "7a2ce68d",
   "metadata": {},
   "outputs": [],
   "source": [
    "new_data = log_data.copy()"
   ]
  },
  {
   "cell_type": "code",
   "execution_count": 102,
   "id": "4f45f230",
   "metadata": {},
   "outputs": [],
   "source": [
    "# Количество комнат на количество людей в квартире\n",
    "new_data['Room_per_Occup'] = new_data.AveRooms / new_data.AveOccup"
   ]
  },
  {
   "cell_type": "code",
   "execution_count": 103,
   "id": "73de534c",
   "metadata": {},
   "outputs": [
    {
     "name": "stdout",
     "output_type": "stream",
     "text": [
      "Score = 0.6428065115812205\n",
      "MSE = 0.4680365627615462\n",
      "R2 = 0.6428065115812205\n"
     ]
    }
   ],
   "source": [
    "# Было: R2 = 0.5826058398855867\n",
    "\n",
    "score, mse, r2, y_pred = get_score(new_data, y, stand=True)\n",
    "print(f'Score = {score}')\n",
    "print(f'MSE = {mse}')\n",
    "print(f'R2 = {r2}')"
   ]
  },
  {
   "cell_type": "code",
   "execution_count": 104,
   "id": "921fd6e4",
   "metadata": {},
   "outputs": [
    {
     "data": {
      "image/png": "[encoded data removed]",
      "text/plain": [
       "<Figure size 640x480 with 2 Axes>"
      ]
     },
     "metadata": {},
     "output_type": "display_data"
    }
   ],
   "source": [
    "plots(y_pred)"
   ]
  },
  {
   "cell_type": "markdown",
   "id": "84bf0cdd",
   "metadata": {},
   "source": [
    "Появились выбросы, но при этом значение R2 увеличилось значительно, а СКО - наоборот хорошо уменбшилось.  \n",
    "Попробуем сделать новые признаки"
   ]
  },
  {
   "cell_type": "code",
   "execution_count": 105,
   "id": "3ef6972b",
   "metadata": {},
   "outputs": [],
   "source": [
    "# Средняя стоимость от возраста здания\n",
    "new_data['Lat_lon'] = new_data.Latitude / new_data.Longitude"
   ]
  },
  {
   "cell_type": "code",
   "execution_count": 106,
   "id": "288d5e5b",
   "metadata": {},
   "outputs": [
    {
     "name": "stdout",
     "output_type": "stream",
     "text": [
      "Score = 0.6434139296236909\n",
      "MSE = 0.4672406528080481\n",
      "R2 = 0.6434139296236909\n"
     ]
    }
   ],
   "source": [
    "# Было: R2 = 0.6428065115812205\n",
    "\n",
    "score, mse, r2, y_pred = get_score(new_data, y, stand=True)\n",
    "print(f'Score = {score}')\n",
    "print(f'MSE = {mse}')\n",
    "print(f'R2 = {r2}')"
   ]
  },
  {
   "cell_type": "code",
   "execution_count": 107,
   "id": "667ffe4a",
   "metadata": {},
   "outputs": [
    {
     "data": {
      "image/png": "[encoded data removed]",
      "text/plain": [
       "<Figure size 640x480 with 2 Axes>"
      ]
     },
     "metadata": {},
     "output_type": "display_data"
    }
   ],
   "source": [
    "plots(y_pred)"
   ]
  },
  {
   "cell_type": "markdown",
   "id": "7745e014",
   "metadata": {},
   "source": [
    "Добавление отношения долготы к широте значение R2 увеличилось, а СКО - снизилось"
   ]
  },
  {
   "cell_type": "code",
   "execution_count": 108,
   "id": "4a635093",
   "metadata": {},
   "outputs": [],
   "source": [
    "new_drop_data = new_data.copy()\n",
    "new_drop_data = new_drop_data.drop(columns=['Latitude', 'Longitude'])"
   ]
  },
  {
   "cell_type": "code",
   "execution_count": 109,
   "id": "0faa668b",
   "metadata": {},
   "outputs": [
    {
     "name": "stdout",
     "output_type": "stream",
     "text": [
      "Score = 0.5865238414084908\n",
      "MSE = 0.541784680643813\n",
      "R2 = 0.5865238414084908\n"
     ]
    }
   ],
   "source": [
    "score, mse, r2, y_pred = get_score(new_drop_data, y, stand=True)\n",
    "print(f'Score = {score}')\n",
    "print(f'MSE = {mse}')\n",
    "print(f'R2 = {r2}')"
   ]
  },
  {
   "cell_type": "markdown",
   "id": "a53a150f",
   "metadata": {},
   "source": [
    "Удаление Долготы и Широты приводит к ухудшению качества модели. "
   ]
  },
  {
   "cell_type": "markdown",
   "id": "57bf9f38",
   "metadata": {},
   "source": [
    "# Создание новых признаков при помощи специальных методов"
   ]
  },
  {
   "cell_type": "code",
   "execution_count": 110,
   "id": "6f154074",
   "metadata": {},
   "outputs": [
    {
     "data": {
      "text/html": [
       "<div>\n",
       "<style scoped>\n",
       "    .dataframe tbody tr th:only-of-type {\n",
       "        vertical-align: middle;\n",
       "    }\n",
       "\n",
       "    .dataframe tbody tr th {\n",
       "        vertical-align: top;\n",
       "    }\n",
       "\n",
       "    .dataframe thead th {\n",
       "        text-align: right;\n",
       "    }\n",
       "</style>\n",
       "<table border=\"1\" class=\"dataframe\">\n",
       "  <thead>\n",
       "    <tr style=\"text-align: right;\">\n",
       "      <th></th>\n",
       "      <th>MedInc</th>\n",
       "      <th>HouseAge</th>\n",
       "      <th>AveRooms</th>\n",
       "      <th>Population</th>\n",
       "      <th>AveOccup</th>\n",
       "      <th>Latitude</th>\n",
       "      <th>Longitude</th>\n",
       "      <th>Room_per_Occup</th>\n",
       "      <th>Lat_lon</th>\n",
       "    </tr>\n",
       "  </thead>\n",
       "  <tbody>\n",
       "    <tr>\n",
       "      <th>0</th>\n",
       "      <td>8.328125</td>\n",
       "      <td>41</td>\n",
       "      <td>6.984375</td>\n",
       "      <td>5.774552</td>\n",
       "      <td>2.554688</td>\n",
       "      <td>37.87500</td>\n",
       "      <td>-122.2500</td>\n",
       "      <td>2.734375</td>\n",
       "      <td>-0.309814</td>\n",
       "    </tr>\n",
       "    <tr>\n",
       "      <th>1</th>\n",
       "      <td>8.304688</td>\n",
       "      <td>21</td>\n",
       "      <td>6.238281</td>\n",
       "      <td>7.783641</td>\n",
       "      <td>2.109375</td>\n",
       "      <td>37.87500</td>\n",
       "      <td>-122.2500</td>\n",
       "      <td>2.957031</td>\n",
       "      <td>-0.309814</td>\n",
       "    </tr>\n",
       "    <tr>\n",
       "      <th>2</th>\n",
       "      <td>7.257812</td>\n",
       "      <td>52</td>\n",
       "      <td>8.289062</td>\n",
       "      <td>6.206576</td>\n",
       "      <td>2.802734</td>\n",
       "      <td>37.84375</td>\n",
       "      <td>-122.2500</td>\n",
       "      <td>2.957031</td>\n",
       "      <td>-0.309570</td>\n",
       "    </tr>\n",
       "    <tr>\n",
       "      <th>3</th>\n",
       "      <td>5.644531</td>\n",
       "      <td>52</td>\n",
       "      <td>5.816406</td>\n",
       "      <td>6.324359</td>\n",
       "      <td>2.548828</td>\n",
       "      <td>37.84375</td>\n",
       "      <td>-122.2500</td>\n",
       "      <td>2.281250</td>\n",
       "      <td>-0.309570</td>\n",
       "    </tr>\n",
       "    <tr>\n",
       "      <th>4</th>\n",
       "      <td>3.845703</td>\n",
       "      <td>52</td>\n",
       "      <td>6.281250</td>\n",
       "      <td>6.336826</td>\n",
       "      <td>2.181641</td>\n",
       "      <td>37.84375</td>\n",
       "      <td>-122.2500</td>\n",
       "      <td>2.878906</td>\n",
       "      <td>-0.309570</td>\n",
       "    </tr>\n",
       "    <tr>\n",
       "      <th>...</th>\n",
       "      <td>...</td>\n",
       "      <td>...</td>\n",
       "      <td>...</td>\n",
       "      <td>...</td>\n",
       "      <td>...</td>\n",
       "      <td>...</td>\n",
       "      <td>...</td>\n",
       "      <td>...</td>\n",
       "      <td>...</td>\n",
       "    </tr>\n",
       "    <tr>\n",
       "      <th>20635</th>\n",
       "      <td>1.560547</td>\n",
       "      <td>25</td>\n",
       "      <td>5.046875</td>\n",
       "      <td>6.739337</td>\n",
       "      <td>2.560547</td>\n",
       "      <td>39.46875</td>\n",
       "      <td>-121.0625</td>\n",
       "      <td>1.970703</td>\n",
       "      <td>-0.325928</td>\n",
       "    </tr>\n",
       "    <tr>\n",
       "      <th>20636</th>\n",
       "      <td>2.556641</td>\n",
       "      <td>18</td>\n",
       "      <td>6.113281</td>\n",
       "      <td>5.874931</td>\n",
       "      <td>3.123047</td>\n",
       "      <td>39.50000</td>\n",
       "      <td>-121.1875</td>\n",
       "      <td>1.957031</td>\n",
       "      <td>-0.325928</td>\n",
       "    </tr>\n",
       "    <tr>\n",
       "      <th>20637</th>\n",
       "      <td>1.700195</td>\n",
       "      <td>17</td>\n",
       "      <td>5.207031</td>\n",
       "      <td>6.914731</td>\n",
       "      <td>2.326172</td>\n",
       "      <td>39.43750</td>\n",
       "      <td>-121.2500</td>\n",
       "      <td>2.238281</td>\n",
       "      <td>-0.325195</td>\n",
       "    </tr>\n",
       "    <tr>\n",
       "      <th>20638</th>\n",
       "      <td>1.867188</td>\n",
       "      <td>18</td>\n",
       "      <td>5.328125</td>\n",
       "      <td>6.608001</td>\n",
       "      <td>2.123047</td>\n",
       "      <td>39.43750</td>\n",
       "      <td>-121.3125</td>\n",
       "      <td>2.509766</td>\n",
       "      <td>-0.325195</td>\n",
       "    </tr>\n",
       "    <tr>\n",
       "      <th>20639</th>\n",
       "      <td>2.388672</td>\n",
       "      <td>16</td>\n",
       "      <td>5.253906</td>\n",
       "      <td>7.234898</td>\n",
       "      <td>2.617188</td>\n",
       "      <td>39.37500</td>\n",
       "      <td>-121.2500</td>\n",
       "      <td>2.007812</td>\n",
       "      <td>-0.324707</td>\n",
       "    </tr>\n",
       "  </tbody>\n",
       "</table>\n",
       "<p>20640 rows × 9 columns</p>\n",
       "</div>"
      ],
      "text/plain": [
       "         MedInc  HouseAge  AveRooms  Population  AveOccup  Latitude  \\\n",
       "0      8.328125        41  6.984375    5.774552  2.554688  37.87500   \n",
       "1      8.304688        21  6.238281    7.783641  2.109375  37.87500   \n",
       "2      7.257812        52  8.289062    6.206576  2.802734  37.84375   \n",
       "3      5.644531        52  5.816406    6.324359  2.548828  37.84375   \n",
       "4      3.845703        52  6.281250    6.336826  2.181641  37.84375   \n",
       "...         ...       ...       ...         ...       ...       ...   \n",
       "20635  1.560547        25  5.046875    6.739337  2.560547  39.46875   \n",
       "20636  2.556641        18  6.113281    5.874931  3.123047  39.50000   \n",
       "20637  1.700195        17  5.207031    6.914731  2.326172  39.43750   \n",
       "20638  1.867188        18  5.328125    6.608001  2.123047  39.43750   \n",
       "20639  2.388672        16  5.253906    7.234898  2.617188  39.37500   \n",
       "\n",
       "       Longitude  Room_per_Occup   Lat_lon  \n",
       "0      -122.2500        2.734375 -0.309814  \n",
       "1      -122.2500        2.957031 -0.309814  \n",
       "2      -122.2500        2.957031 -0.309570  \n",
       "3      -122.2500        2.281250 -0.309570  \n",
       "4      -122.2500        2.878906 -0.309570  \n",
       "...          ...             ...       ...  \n",
       "20635  -121.0625        1.970703 -0.325928  \n",
       "20636  -121.1875        1.957031 -0.325928  \n",
       "20637  -121.2500        2.238281 -0.325195  \n",
       "20638  -121.3125        2.509766 -0.325195  \n",
       "20639  -121.2500        2.007812 -0.324707  \n",
       "\n",
       "[20640 rows x 9 columns]"
      ]
     },
     "execution_count": 110,
     "metadata": {},
     "output_type": "execute_result"
    }
   ],
   "source": [
    "new_data"
   ]
  },
  {
   "cell_type": "code",
   "execution_count": 111,
   "id": "25ddcc74",
   "metadata": {},
   "outputs": [],
   "source": [
    "new_data_1 = get_one_hot(new_data, ['HouseAge'])"
   ]
  },
  {
   "cell_type": "code",
   "execution_count": 112,
   "id": "b8c7f2f7",
   "metadata": {},
   "outputs": [
    {
     "name": "stdout",
     "output_type": "stream",
     "text": [
      "Score = 0.6457536939625501\n",
      "MSE = 0.46417482071889254\n",
      "R2 = 0.6457536939625501\n"
     ]
    }
   ],
   "source": [
    "# Было: R2 = 0.6428065115812205\n",
    "\n",
    "score, mse, r2, y_pred = get_score(new_data_1, y, stand=True)\n",
    "print(f'Score = {score}')\n",
    "print(f'MSE = {mse}')\n",
    "print(f'R2 = {r2}')"
   ]
  },
  {
   "cell_type": "markdown",
   "id": "8c95af97",
   "metadata": {},
   "source": [
    "Значение R2 выростает в случае применения метода one_hot на признак возраста дома"
   ]
  },
  {
   "cell_type": "code",
   "execution_count": 113,
   "id": "5c7a33fd",
   "metadata": {},
   "outputs": [],
   "source": [
    "new_data_2 = get_label(new_data, ['HouseAge'])"
   ]
  },
  {
   "cell_type": "code",
   "execution_count": 114,
   "id": "590dbd77",
   "metadata": {},
   "outputs": [
    {
     "name": "stdout",
     "output_type": "stream",
     "text": [
      "Score = 0.6434139296236909\n",
      "MSE = 0.4672406528080481\n",
      "R2 = 0.6434139296236909\n"
     ]
    }
   ],
   "source": [
    "# Было: R2 = 0.6457536939625501\n",
    "\n",
    "score, mse, r2, y_pred = get_score(new_data_2, y, stand=True)\n",
    "print(f'Score = {score}')\n",
    "print(f'MSE = {mse}')\n",
    "print(f'R2 = {r2}')"
   ]
  },
  {
   "cell_type": "markdown",
   "id": "b307ca6a",
   "metadata": {},
   "source": [
    "Значение R2 уменьшается в случае применения метода label на признак возраста дома"
   ]
  },
  {
   "cell_type": "code",
   "execution_count": 115,
   "id": "3068d9dc",
   "metadata": {},
   "outputs": [],
   "source": [
    "new_data_3 = get_count(new_data_1, ['Lat_lon'])"
   ]
  },
  {
   "cell_type": "code",
   "execution_count": 116,
   "id": "4fb1d686",
   "metadata": {},
   "outputs": [
    {
     "name": "stdout",
     "output_type": "stream",
     "text": [
      "Score = 0.6518263085949565\n",
      "MSE = 0.45621777286757603\n",
      "R2 = 0.6518263085949565\n"
     ]
    }
   ],
   "source": [
    "# Было: R2 = 0.6457536939625501\n",
    "\n",
    "score, mse, r2, y_pred = get_score(new_data_3, y, stand=True)\n",
    "print(f'Score = {score}')\n",
    "print(f'MSE = {mse}')\n",
    "print(f'R2 = {r2}')"
   ]
  },
  {
   "cell_type": "markdown",
   "id": "12ebd2fa",
   "metadata": {},
   "source": [
    "Дополнительное воздействие метода на признак Lat_lon позволяет еще повысить значение R2"
   ]
  },
  {
   "cell_type": "markdown",
   "id": "649b7c99",
   "metadata": {},
   "source": [
    "# Выводы"
   ]
  },
  {
   "cell_type": "markdown",
   "id": "89827402",
   "metadata": {},
   "source": [
    "Были сделаны следующие манипуляции:\n",
    "1. Удаление значений с высокой корреляцией\n",
    "2. Логарифмирование признаков\n",
    "3. Создание новых признаков исходя из манипуляций с имеющимися\n",
    "4. Методы one_hot и count"
   ]
  },
  {
   "cell_type": "code",
   "execution_count": 117,
   "id": "be96379c",
   "metadata": {},
   "outputs": [],
   "source": [
    "final_data = pd.DataFrame({\n",
    "    'MSE': {'Base': 0.55574, 'Drop': 0.54727, 'Log': 0.54691, 'New': 0.46724, 'one_hot': 0.46417, 'count': 0.45621},\n",
    "    'R2': {'Base': 0.57587, 'Drop': 0.58233, 'Log': 0.58260, 'New': 0.64280, 'one_hot': 0.64575, 'count': 0.65182},\n",
    "})"
   ]
  },
  {
   "cell_type": "code",
   "execution_count": 118,
   "id": "1417bd5a",
   "metadata": {},
   "outputs": [
    {
     "data": {
      "text/html": [
       "<div>\n",
       "<style scoped>\n",
       "    .dataframe tbody tr th:only-of-type {\n",
       "        vertical-align: middle;\n",
       "    }\n",
       "\n",
       "    .dataframe tbody tr th {\n",
       "        vertical-align: top;\n",
       "    }\n",
       "\n",
       "    .dataframe thead th {\n",
       "        text-align: right;\n",
       "    }\n",
       "</style>\n",
       "<table border=\"1\" class=\"dataframe\">\n",
       "  <thead>\n",
       "    <tr style=\"text-align: right;\">\n",
       "      <th></th>\n",
       "      <th>MSE</th>\n",
       "      <th>R2</th>\n",
       "    </tr>\n",
       "  </thead>\n",
       "  <tbody>\n",
       "    <tr>\n",
       "      <th>Base</th>\n",
       "      <td>0.55574</td>\n",
       "      <td>0.57587</td>\n",
       "    </tr>\n",
       "    <tr>\n",
       "      <th>Drop</th>\n",
       "      <td>0.54727</td>\n",
       "      <td>0.58233</td>\n",
       "    </tr>\n",
       "    <tr>\n",
       "      <th>Log</th>\n",
       "      <td>0.54691</td>\n",
       "      <td>0.58260</td>\n",
       "    </tr>\n",
       "    <tr>\n",
       "      <th>New</th>\n",
       "      <td>0.46724</td>\n",
       "      <td>0.64280</td>\n",
       "    </tr>\n",
       "    <tr>\n",
       "      <th>one_hot</th>\n",
       "      <td>0.46417</td>\n",
       "      <td>0.64575</td>\n",
       "    </tr>\n",
       "    <tr>\n",
       "      <th>count</th>\n",
       "      <td>0.45621</td>\n",
       "      <td>0.65182</td>\n",
       "    </tr>\n",
       "  </tbody>\n",
       "</table>\n",
       "</div>"
      ],
      "text/plain": [
       "             MSE       R2\n",
       "Base     0.55574  0.57587\n",
       "Drop     0.54727  0.58233\n",
       "Log      0.54691  0.58260\n",
       "New      0.46724  0.64280\n",
       "one_hot  0.46417  0.64575\n",
       "count    0.45621  0.65182"
      ]
     },
     "execution_count": 118,
     "metadata": {},
     "output_type": "execute_result"
    }
   ],
   "source": [
    "final_data"
   ]
  },
  {
   "cell_type": "markdown",
   "id": "a60db398",
   "metadata": {},
   "source": [
    "Правильный выбор действий с признаками позволяет повысить качество модели и ее точность"
   ]
  },
  {
   "cell_type": "markdown",
   "id": "6a9768c4",
   "metadata": {},
   "source": [
    "# Часть 2. Деревья решений"
   ]
  },
  {
   "cell_type": "code",
   "execution_count": 119,
   "id": "244c5659",
   "metadata": {},
   "outputs": [],
   "source": [
    "from sklearn.tree import DecisionTreeRegressor"
   ]
  },
  {
   "cell_type": "code",
   "execution_count": null,
   "id": "801817d2",
   "metadata": {},
   "outputs": [],
   "source": []
  },
  {
   "cell_type": "code",
   "execution_count": 64,
   "id": "68b7a31f",
   "metadata": {},
   "outputs": [
    {
     "ename": "NameError",
     "evalue": "name 'X' is not defined",
     "output_type": "error",
     "traceback": [
      "\u001b[0;31m---------------------------------------------------------------------------\u001b[0m",
      "\u001b[0;31mNameError\u001b[0m                                 Traceback (most recent call last)",
      "Cell \u001b[0;32mIn[64], line 5\u001b[0m\n\u001b[1;32m      3\u001b[0m dt_regs \u001b[38;5;241m=\u001b[39m {}\n\u001b[1;32m      4\u001b[0m \u001b[38;5;28;01mfor\u001b[39;00m i \u001b[38;5;129;01min\u001b[39;00m list_depth:\n\u001b[0;32m----> 5\u001b[0m     dt_regs[\u001b[38;5;124mf\u001b[39m\u001b[38;5;124m'\u001b[39m\u001b[38;5;124mdepth=\u001b[39m\u001b[38;5;132;01m{\u001b[39;00mi\u001b[38;5;132;01m}\u001b[39;00m\u001b[38;5;124m'\u001b[39m] \u001b[38;5;241m=\u001b[39m DecisionTreeRegressor(max_depth\u001b[38;5;241m=\u001b[39mi, random_state\u001b[38;5;241m=\u001b[39m\u001b[38;5;241m10\u001b[39m)\u001b[38;5;241m.\u001b[39mfit(X, y)\n\u001b[1;32m      7\u001b[0m dt_regs[\u001b[38;5;124m'\u001b[39m\u001b[38;5;124mdepth=inf\u001b[39m\u001b[38;5;124m'\u001b[39m] \u001b[38;5;241m=\u001b[39m DecisionTreeRegressor(random_state\u001b[38;5;241m=\u001b[39m\u001b[38;5;241m10\u001b[39m)\u001b[38;5;241m.\u001b[39mfit(X, y)\n\u001b[1;32m      8\u001b[0m dt_regs[\u001b[38;5;124m'\u001b[39m\u001b[38;5;124mreg\u001b[39m\u001b[38;5;124m'\u001b[39m] \u001b[38;5;241m=\u001b[39m DecisionTreeRegressor(min_samples_leaf\u001b[38;5;241m=\u001b[39m\u001b[38;5;241m3\u001b[39m, random_state\u001b[38;5;241m=\u001b[39m\u001b[38;5;241m10\u001b[39m)\u001b[38;5;241m.\u001b[39mfit(X, y)\n",
      "\u001b[0;31mNameError\u001b[0m: name 'X' is not defined"
     ]
    }
   ],
   "source": [
    "list_depth = [1,2,3,4,5,7]\n",
    "\n",
    "dt_regs = {}\n",
    "for i in list_depth:\n",
    "    dt_regs[f'depth={i}'] = DecisionTreeRegressor(max_depth=i, random_state=10).fit(X, y)\n",
    "\n",
    "dt_regs['depth=inf'] = DecisionTreeRegressor(random_state=10).fit(X, y)\n",
    "dt_regs['reg'] = DecisionTreeRegressor(min_samples_leaf=3, random_state=10).fit(X, y)"
   ]
  },
  {
   "cell_type": "code",
   "execution_count": null,
   "id": "2955cd16",
   "metadata": {},
   "outputs": [],
   "source": []
  },
  {
   "cell_type": "code",
   "execution_count": null,
   "id": "5d3630b7",
   "metadata": {},
   "outputs": [],
   "source": []
  },
  {
   "cell_type": "code",
   "execution_count": null,
   "id": "22d57b75",
   "metadata": {},
   "outputs": [],
   "source": []
  },
  {
   "cell_type": "code",
   "execution_count": null,
   "id": "f51e2b0f",
   "metadata": {},
   "outputs": [],
   "source": []
  },
  {
   "cell_type": "code",
   "execution_count": null,
   "id": "3bd78e14",
   "metadata": {},
   "outputs": [],
   "source": []
  },
  {
   "cell_type": "code",
   "execution_count": null,
   "id": "cc882a23",
   "metadata": {},
   "outputs": [],
   "source": []
  },
  {
   "cell_type": "code",
   "execution_count": null,
   "id": "82da18cb",
   "metadata": {},
   "outputs": [],
   "source": []
  },
  {
   "cell_type": "code",
   "execution_count": null,
   "id": "f388dbd4",
   "metadata": {},
   "outputs": [],
   "source": []
  },
  {
   "cell_type": "code",
   "execution_count": null,
   "id": "9225db06",
   "metadata": {},
   "outputs": [],
   "source": []
  },
  {
   "cell_type": "code",
   "execution_count": null,
   "id": "db9a94ab",
   "metadata": {},
   "outputs": [],
   "source": []
  },
  {
   "cell_type": "code",
   "execution_count": null,
   "id": "37302c01",
   "metadata": {},
   "outputs": [],
   "source": []
  },
  {
   "cell_type": "code",
   "execution_count": null,
   "id": "fbdcacab",
   "metadata": {},
   "outputs": [],
   "source": []
  },
  {
   "cell_type": "code",
   "execution_count": null,
   "id": "5f953dc4",
   "metadata": {},
   "outputs": [],
   "source": []
  },
  {
   "cell_type": "code",
   "execution_count": null,
   "id": "51bdfd6d",
   "metadata": {},
   "outputs": [],
   "source": []
  }
 ],
 "metadata": {
  "kernelspec": {
   "display_name": "Python 3 (ipykernel)",
   "language": "python",
   "name": "python3"
  },
  "language_info": {
   "codemirror_mode": {
    "name": "ipython",
    "version": 3
   },
   "file_extension": ".py",
   "mimetype": "text/x-python",
   "name": "python",
   "nbconvert_exporter": "python",
   "pygments_lexer": "ipython3",
   "version": "3.11.4"
  }
 },
 "nbformat": 4,
 "nbformat_minor": 5
}
