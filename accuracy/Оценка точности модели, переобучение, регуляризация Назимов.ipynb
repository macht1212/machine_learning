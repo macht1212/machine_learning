{
 "cells": [
  {
   "cell_type": "code",
   "execution_count": 1,
   "id": "334e7c24",
   "metadata": {},
   "outputs": [],
   "source": [
    "import pandas as pd\n",
    "import numpy as np\n",
    "import matplotlib.pyplot as plt\n",
    "\n",
    "pd.set_option('display.max_columns', 200)"
   ]
  },
  {
   "cell_type": "code",
   "execution_count": 2,
   "id": "5e10d5d3",
   "metadata": {},
   "outputs": [],
   "source": [
    "data = pd.read_csv('data/athletes.csv')"
   ]
  },
  {
   "cell_type": "code",
   "execution_count": 3,
   "id": "334b1373",
   "metadata": {},
   "outputs": [
    {
     "data": {
      "text/html": [
       "<div>\n",
       "<style scoped>\n",
       "    .dataframe tbody tr th:only-of-type {\n",
       "        vertical-align: middle;\n",
       "    }\n",
       "\n",
       "    .dataframe tbody tr th {\n",
       "        vertical-align: top;\n",
       "    }\n",
       "\n",
       "    .dataframe thead th {\n",
       "        text-align: right;\n",
       "    }\n",
       "</style>\n",
       "<table border=\"1\" class=\"dataframe\">\n",
       "  <thead>\n",
       "    <tr style=\"text-align: right;\">\n",
       "      <th></th>\n",
       "      <th>id</th>\n",
       "      <th>name</th>\n",
       "      <th>nationality</th>\n",
       "      <th>sex</th>\n",
       "      <th>dob</th>\n",
       "      <th>height</th>\n",
       "      <th>weight</th>\n",
       "      <th>sport</th>\n",
       "      <th>gold</th>\n",
       "      <th>silver</th>\n",
       "      <th>bronze</th>\n",
       "    </tr>\n",
       "  </thead>\n",
       "  <tbody>\n",
       "    <tr>\n",
       "      <th>0</th>\n",
       "      <td>736041664</td>\n",
       "      <td>A Jesus Garcia</td>\n",
       "      <td>ESP</td>\n",
       "      <td>male</td>\n",
       "      <td>10/17/69</td>\n",
       "      <td>1.72</td>\n",
       "      <td>64.0</td>\n",
       "      <td>athletics</td>\n",
       "      <td>0</td>\n",
       "      <td>0</td>\n",
       "      <td>0</td>\n",
       "    </tr>\n",
       "    <tr>\n",
       "      <th>1</th>\n",
       "      <td>532037425</td>\n",
       "      <td>A Lam Shin</td>\n",
       "      <td>KOR</td>\n",
       "      <td>female</td>\n",
       "      <td>9/23/86</td>\n",
       "      <td>1.68</td>\n",
       "      <td>56.0</td>\n",
       "      <td>fencing</td>\n",
       "      <td>0</td>\n",
       "      <td>0</td>\n",
       "      <td>0</td>\n",
       "    </tr>\n",
       "    <tr>\n",
       "      <th>2</th>\n",
       "      <td>435962603</td>\n",
       "      <td>Aaron Brown</td>\n",
       "      <td>CAN</td>\n",
       "      <td>male</td>\n",
       "      <td>5/27/92</td>\n",
       "      <td>1.98</td>\n",
       "      <td>79.0</td>\n",
       "      <td>athletics</td>\n",
       "      <td>0</td>\n",
       "      <td>0</td>\n",
       "      <td>1</td>\n",
       "    </tr>\n",
       "    <tr>\n",
       "      <th>3</th>\n",
       "      <td>521041435</td>\n",
       "      <td>Aaron Cook</td>\n",
       "      <td>MDA</td>\n",
       "      <td>male</td>\n",
       "      <td>1/2/91</td>\n",
       "      <td>1.83</td>\n",
       "      <td>80.0</td>\n",
       "      <td>taekwondo</td>\n",
       "      <td>0</td>\n",
       "      <td>0</td>\n",
       "      <td>0</td>\n",
       "    </tr>\n",
       "    <tr>\n",
       "      <th>4</th>\n",
       "      <td>33922579</td>\n",
       "      <td>Aaron Gate</td>\n",
       "      <td>NZL</td>\n",
       "      <td>male</td>\n",
       "      <td>11/26/90</td>\n",
       "      <td>1.81</td>\n",
       "      <td>71.0</td>\n",
       "      <td>cycling</td>\n",
       "      <td>0</td>\n",
       "      <td>0</td>\n",
       "      <td>0</td>\n",
       "    </tr>\n",
       "  </tbody>\n",
       "</table>\n",
       "</div>"
      ],
      "text/plain": [
       "          id            name nationality     sex       dob  height  weight  \\\n",
       "0  736041664  A Jesus Garcia         ESP    male  10/17/69    1.72    64.0   \n",
       "1  532037425      A Lam Shin         KOR  female   9/23/86    1.68    56.0   \n",
       "2  435962603     Aaron Brown         CAN    male   5/27/92    1.98    79.0   \n",
       "3  521041435      Aaron Cook         MDA    male    1/2/91    1.83    80.0   \n",
       "4   33922579      Aaron Gate         NZL    male  11/26/90    1.81    71.0   \n",
       "\n",
       "       sport  gold  silver  bronze  \n",
       "0  athletics     0       0       0  \n",
       "1    fencing     0       0       0  \n",
       "2  athletics     0       0       1  \n",
       "3  taekwondo     0       0       0  \n",
       "4    cycling     0       0       0  "
      ]
     },
     "execution_count": 3,
     "metadata": {},
     "output_type": "execute_result"
    }
   ],
   "source": [
    "data.head()"
   ]
  },
  {
   "cell_type": "markdown",
   "id": "139658f8",
   "metadata": {},
   "source": [
    "### Признаки\n",
    "**id** - идентификатор спортсмена  \n",
    "**name** - имя спортсмена  \n",
    "**nationality** - национальность  \n",
    "**sex** - пол  \n",
    "**dob** - дата рождения  \n",
    "**height** - рост  \n",
    "**weight** - вес  \n",
    "**sport** - вид спорта  \n",
    "**gold** - количество золотых медалей  \n",
    "**silver** - количество серебрянных медалей  \n",
    "**bronze** - количество бронзовых медалей  "
   ]
  },
  {
   "cell_type": "markdown",
   "id": "262495d0",
   "metadata": {},
   "source": [
    "# Подготовка и анализ датасета "
   ]
  },
  {
   "cell_type": "code",
   "execution_count": 4,
   "id": "5102c0d7",
   "metadata": {},
   "outputs": [
    {
     "name": "stdout",
     "output_type": "stream",
     "text": [
      "<class 'pandas.core.frame.DataFrame'>\n",
      "RangeIndex: 11538 entries, 0 to 11537\n",
      "Data columns (total 11 columns):\n",
      " #   Column       Non-Null Count  Dtype  \n",
      "---  ------       --------------  -----  \n",
      " 0   id           11538 non-null  int64  \n",
      " 1   name         11538 non-null  object \n",
      " 2   nationality  11538 non-null  object \n",
      " 3   sex          11538 non-null  object \n",
      " 4   dob          11537 non-null  object \n",
      " 5   height       11208 non-null  float64\n",
      " 6   weight       10879 non-null  float64\n",
      " 7   sport        11538 non-null  object \n",
      " 8   gold         11538 non-null  int64  \n",
      " 9   silver       11538 non-null  int64  \n",
      " 10  bronze       11538 non-null  int64  \n",
      "dtypes: float64(2), int64(4), object(5)\n",
      "memory usage: 991.7+ KB\n"
     ]
    }
   ],
   "source": [
    "data.info()"
   ]
  },
  {
   "cell_type": "markdown",
   "id": "e598ddff",
   "metadata": {},
   "source": [
    "Данных по первичному осмотру не хватает по весу и росту атлета.  \n",
    "Стоит также посмотреть на пропуски в виде \"?\"\n",
    "\n",
    "есть еще один пропуск в признаке 'dob', но так как он относится к дате рождения, им можно пренебречь"
   ]
  },
  {
   "cell_type": "code",
   "execution_count": 5,
   "id": "d57ec6df",
   "metadata": {},
   "outputs": [
    {
     "name": "stdout",
     "output_type": "stream",
     "text": [
      "Знак ? отсутствует в параметре id\n",
      "Знак ? отсутствует в параметре name\n",
      "Знак ? отсутствует в параметре nationality\n",
      "Знак ? отсутствует в параметре sex\n",
      "Знак ? отсутствует в параметре dob\n",
      "Знак ? отсутствует в параметре height\n",
      "Знак ? отсутствует в параметре weight\n",
      "Знак ? отсутствует в параметре sport\n",
      "Знак ? отсутствует в параметре gold\n",
      "Знак ? отсутствует в параметре silver\n",
      "Знак ? отсутствует в параметре bronze\n"
     ]
    }
   ],
   "source": [
    "for col in data.columns:\n",
    "    if '?' in data[col]:\n",
    "        print(col)\n",
    "    else:\n",
    "        print(f'Знак ? отсутствует в параметре {col}')"
   ]
  },
  {
   "cell_type": "markdown",
   "id": "c0fc66e6",
   "metadata": {},
   "source": [
    "По итогу скрытых пропусков не обнаружено"
   ]
  },
  {
   "cell_type": "markdown",
   "id": "8a11ad52",
   "metadata": {},
   "source": [
    "### Просто удалим пропуски.  \n"
   ]
  },
  {
   "cell_type": "code",
   "execution_count": 6,
   "id": "5d52266e",
   "metadata": {},
   "outputs": [],
   "source": [
    "data = data[~(data['height'].isna())]\n",
    "data = data[~(data['weight'].isna())]"
   ]
  },
  {
   "cell_type": "code",
   "execution_count": 7,
   "id": "888ce013",
   "metadata": {},
   "outputs": [
    {
     "name": "stdout",
     "output_type": "stream",
     "text": [
      "<class 'pandas.core.frame.DataFrame'>\n",
      "Int64Index: 10858 entries, 0 to 11537\n",
      "Data columns (total 11 columns):\n",
      " #   Column       Non-Null Count  Dtype  \n",
      "---  ------       --------------  -----  \n",
      " 0   id           10858 non-null  int64  \n",
      " 1   name         10858 non-null  object \n",
      " 2   nationality  10858 non-null  object \n",
      " 3   sex          10858 non-null  object \n",
      " 4   dob          10858 non-null  object \n",
      " 5   height       10858 non-null  float64\n",
      " 6   weight       10858 non-null  float64\n",
      " 7   sport        10858 non-null  object \n",
      " 8   gold         10858 non-null  int64  \n",
      " 9   silver       10858 non-null  int64  \n",
      " 10  bronze       10858 non-null  int64  \n",
      "dtypes: float64(2), int64(4), object(5)\n",
      "memory usage: 1017.9+ KB\n"
     ]
    }
   ],
   "source": [
    "data.info()"
   ]
  },
  {
   "cell_type": "code",
   "execution_count": 8,
   "id": "6c423390",
   "metadata": {},
   "outputs": [],
   "source": [
    "data_for_analysis = pd.get_dummies(data[['height', 'weight', 'sport', 'gold', 'silver', 'bronze']], columns=['sport'])"
   ]
  },
  {
   "cell_type": "code",
   "execution_count": 9,
   "id": "f09f9a45",
   "metadata": {
    "scrolled": false
   },
   "outputs": [
    {
     "data": {
      "text/html": [
       "<div>\n",
       "<style scoped>\n",
       "    .dataframe tbody tr th:only-of-type {\n",
       "        vertical-align: middle;\n",
       "    }\n",
       "\n",
       "    .dataframe tbody tr th {\n",
       "        vertical-align: top;\n",
       "    }\n",
       "\n",
       "    .dataframe thead th {\n",
       "        text-align: right;\n",
       "    }\n",
       "</style>\n",
       "<table border=\"1\" class=\"dataframe\">\n",
       "  <thead>\n",
       "    <tr style=\"text-align: right;\">\n",
       "      <th></th>\n",
       "      <th>height</th>\n",
       "      <th>weight</th>\n",
       "      <th>gold</th>\n",
       "      <th>silver</th>\n",
       "      <th>bronze</th>\n",
       "      <th>sport_aquatics</th>\n",
       "      <th>sport_archery</th>\n",
       "      <th>sport_athletics</th>\n",
       "      <th>sport_badminton</th>\n",
       "      <th>sport_basketball</th>\n",
       "      <th>sport_canoe</th>\n",
       "      <th>sport_cycling</th>\n",
       "      <th>sport_equestrian</th>\n",
       "      <th>sport_fencing</th>\n",
       "      <th>sport_football</th>\n",
       "      <th>sport_golf</th>\n",
       "      <th>sport_gymnastics</th>\n",
       "      <th>sport_handball</th>\n",
       "      <th>sport_hockey</th>\n",
       "      <th>sport_judo</th>\n",
       "      <th>sport_modern pentathlon</th>\n",
       "      <th>sport_rowing</th>\n",
       "      <th>sport_rugby sevens</th>\n",
       "      <th>sport_sailing</th>\n",
       "      <th>sport_shooting</th>\n",
       "      <th>sport_table tennis</th>\n",
       "      <th>sport_taekwondo</th>\n",
       "      <th>sport_tennis</th>\n",
       "      <th>sport_triathlon</th>\n",
       "      <th>sport_volleyball</th>\n",
       "      <th>sport_weightlifting</th>\n",
       "      <th>sport_wrestling</th>\n",
       "    </tr>\n",
       "  </thead>\n",
       "  <tbody>\n",
       "    <tr>\n",
       "      <th>0</th>\n",
       "      <td>1.72</td>\n",
       "      <td>64.0</td>\n",
       "      <td>0</td>\n",
       "      <td>0</td>\n",
       "      <td>0</td>\n",
       "      <td>0</td>\n",
       "      <td>0</td>\n",
       "      <td>1</td>\n",
       "      <td>0</td>\n",
       "      <td>0</td>\n",
       "      <td>0</td>\n",
       "      <td>0</td>\n",
       "      <td>0</td>\n",
       "      <td>0</td>\n",
       "      <td>0</td>\n",
       "      <td>0</td>\n",
       "      <td>0</td>\n",
       "      <td>0</td>\n",
       "      <td>0</td>\n",
       "      <td>0</td>\n",
       "      <td>0</td>\n",
       "      <td>0</td>\n",
       "      <td>0</td>\n",
       "      <td>0</td>\n",
       "      <td>0</td>\n",
       "      <td>0</td>\n",
       "      <td>0</td>\n",
       "      <td>0</td>\n",
       "      <td>0</td>\n",
       "      <td>0</td>\n",
       "      <td>0</td>\n",
       "      <td>0</td>\n",
       "    </tr>\n",
       "    <tr>\n",
       "      <th>1</th>\n",
       "      <td>1.68</td>\n",
       "      <td>56.0</td>\n",
       "      <td>0</td>\n",
       "      <td>0</td>\n",
       "      <td>0</td>\n",
       "      <td>0</td>\n",
       "      <td>0</td>\n",
       "      <td>0</td>\n",
       "      <td>0</td>\n",
       "      <td>0</td>\n",
       "      <td>0</td>\n",
       "      <td>0</td>\n",
       "      <td>0</td>\n",
       "      <td>1</td>\n",
       "      <td>0</td>\n",
       "      <td>0</td>\n",
       "      <td>0</td>\n",
       "      <td>0</td>\n",
       "      <td>0</td>\n",
       "      <td>0</td>\n",
       "      <td>0</td>\n",
       "      <td>0</td>\n",
       "      <td>0</td>\n",
       "      <td>0</td>\n",
       "      <td>0</td>\n",
       "      <td>0</td>\n",
       "      <td>0</td>\n",
       "      <td>0</td>\n",
       "      <td>0</td>\n",
       "      <td>0</td>\n",
       "      <td>0</td>\n",
       "      <td>0</td>\n",
       "    </tr>\n",
       "    <tr>\n",
       "      <th>2</th>\n",
       "      <td>1.98</td>\n",
       "      <td>79.0</td>\n",
       "      <td>0</td>\n",
       "      <td>0</td>\n",
       "      <td>1</td>\n",
       "      <td>0</td>\n",
       "      <td>0</td>\n",
       "      <td>1</td>\n",
       "      <td>0</td>\n",
       "      <td>0</td>\n",
       "      <td>0</td>\n",
       "      <td>0</td>\n",
       "      <td>0</td>\n",
       "      <td>0</td>\n",
       "      <td>0</td>\n",
       "      <td>0</td>\n",
       "      <td>0</td>\n",
       "      <td>0</td>\n",
       "      <td>0</td>\n",
       "      <td>0</td>\n",
       "      <td>0</td>\n",
       "      <td>0</td>\n",
       "      <td>0</td>\n",
       "      <td>0</td>\n",
       "      <td>0</td>\n",
       "      <td>0</td>\n",
       "      <td>0</td>\n",
       "      <td>0</td>\n",
       "      <td>0</td>\n",
       "      <td>0</td>\n",
       "      <td>0</td>\n",
       "      <td>0</td>\n",
       "    </tr>\n",
       "  </tbody>\n",
       "</table>\n",
       "</div>"
      ],
      "text/plain": [
       "   height  weight  gold  silver  bronze  sport_aquatics  sport_archery  \\\n",
       "0    1.72    64.0     0       0       0               0              0   \n",
       "1    1.68    56.0     0       0       0               0              0   \n",
       "2    1.98    79.0     0       0       1               0              0   \n",
       "\n",
       "   sport_athletics  sport_badminton  sport_basketball  sport_canoe  \\\n",
       "0                1                0                 0            0   \n",
       "1                0                0                 0            0   \n",
       "2                1                0                 0            0   \n",
       "\n",
       "   sport_cycling  sport_equestrian  sport_fencing  sport_football  sport_golf  \\\n",
       "0              0                 0              0               0           0   \n",
       "1              0                 0              1               0           0   \n",
       "2              0                 0              0               0           0   \n",
       "\n",
       "   sport_gymnastics  sport_handball  sport_hockey  sport_judo  \\\n",
       "0                 0               0             0           0   \n",
       "1                 0               0             0           0   \n",
       "2                 0               0             0           0   \n",
       "\n",
       "   sport_modern pentathlon  sport_rowing  sport_rugby sevens  sport_sailing  \\\n",
       "0                        0             0                   0              0   \n",
       "1                        0             0                   0              0   \n",
       "2                        0             0                   0              0   \n",
       "\n",
       "   sport_shooting  sport_table tennis  sport_taekwondo  sport_tennis  \\\n",
       "0               0                   0                0             0   \n",
       "1               0                   0                0             0   \n",
       "2               0                   0                0             0   \n",
       "\n",
       "   sport_triathlon  sport_volleyball  sport_weightlifting  sport_wrestling  \n",
       "0                0                 0                    0                0  \n",
       "1                0                 0                    0                0  \n",
       "2                0                 0                    0                0  "
      ]
     },
     "execution_count": 9,
     "metadata": {},
     "output_type": "execute_result"
    }
   ],
   "source": [
    "data_for_analysis.head(3)"
   ]
  },
  {
   "cell_type": "code",
   "execution_count": 10,
   "id": "5b324d7d",
   "metadata": {},
   "outputs": [
    {
     "name": "stdout",
     "output_type": "stream",
     "text": [
      "<class 'pandas.core.frame.DataFrame'>\n",
      "Int64Index: 10858 entries, 0 to 11537\n",
      "Data columns (total 32 columns):\n",
      " #   Column                   Non-Null Count  Dtype  \n",
      "---  ------                   --------------  -----  \n",
      " 0   height                   10858 non-null  float64\n",
      " 1   weight                   10858 non-null  float64\n",
      " 2   gold                     10858 non-null  int64  \n",
      " 3   silver                   10858 non-null  int64  \n",
      " 4   bronze                   10858 non-null  int64  \n",
      " 5   sport_aquatics           10858 non-null  uint8  \n",
      " 6   sport_archery            10858 non-null  uint8  \n",
      " 7   sport_athletics          10858 non-null  uint8  \n",
      " 8   sport_badminton          10858 non-null  uint8  \n",
      " 9   sport_basketball         10858 non-null  uint8  \n",
      " 10  sport_canoe              10858 non-null  uint8  \n",
      " 11  sport_cycling            10858 non-null  uint8  \n",
      " 12  sport_equestrian         10858 non-null  uint8  \n",
      " 13  sport_fencing            10858 non-null  uint8  \n",
      " 14  sport_football           10858 non-null  uint8  \n",
      " 15  sport_golf               10858 non-null  uint8  \n",
      " 16  sport_gymnastics         10858 non-null  uint8  \n",
      " 17  sport_handball           10858 non-null  uint8  \n",
      " 18  sport_hockey             10858 non-null  uint8  \n",
      " 19  sport_judo               10858 non-null  uint8  \n",
      " 20  sport_modern pentathlon  10858 non-null  uint8  \n",
      " 21  sport_rowing             10858 non-null  uint8  \n",
      " 22  sport_rugby sevens       10858 non-null  uint8  \n",
      " 23  sport_sailing            10858 non-null  uint8  \n",
      " 24  sport_shooting           10858 non-null  uint8  \n",
      " 25  sport_table tennis       10858 non-null  uint8  \n",
      " 26  sport_taekwondo          10858 non-null  uint8  \n",
      " 27  sport_tennis             10858 non-null  uint8  \n",
      " 28  sport_triathlon          10858 non-null  uint8  \n",
      " 29  sport_volleyball         10858 non-null  uint8  \n",
      " 30  sport_weightlifting      10858 non-null  uint8  \n",
      " 31  sport_wrestling          10858 non-null  uint8  \n",
      "dtypes: float64(2), int64(3), uint8(27)\n",
      "memory usage: 795.3 KB\n"
     ]
    }
   ],
   "source": [
    "data_for_analysis.info()"
   ]
  },
  {
   "cell_type": "markdown",
   "id": "f065eb46",
   "metadata": {},
   "source": [
    "Будем проводить логистический анализ спорт, параметры спортсмена / пол  \n",
    "в качестве зависимой переменной будет пол спортсмена"
   ]
  },
  {
   "cell_type": "code",
   "execution_count": 11,
   "id": "59213b8d",
   "metadata": {},
   "outputs": [],
   "source": [
    "from sklearn.preprocessing import LabelEncoder\n",
    "le = LabelEncoder()"
   ]
  },
  {
   "cell_type": "code",
   "execution_count": 12,
   "id": "81320e6a",
   "metadata": {},
   "outputs": [
    {
     "data": {
      "text/html": [
       "<style>#sk-container-id-1 {color: black;}#sk-container-id-1 pre{padding: 0;}#sk-container-id-1 div.sk-toggleable {background-color: white;}#sk-container-id-1 label.sk-toggleable__label {cursor: pointer;display: block;width: 100%;margin-bottom: 0;padding: 0.3em;box-sizing: border-box;text-align: center;}#sk-container-id-1 label.sk-toggleable__label-arrow:before {content: \"▸\";float: left;margin-right: 0.25em;color: #696969;}#sk-container-id-1 label.sk-toggleable__label-arrow:hover:before {color: black;}#sk-container-id-1 div.sk-estimator:hover label.sk-toggleable__label-arrow:before {color: black;}#sk-container-id-1 div.sk-toggleable__content {max-height: 0;max-width: 0;overflow: hidden;text-align: left;background-color: #f0f8ff;}#sk-container-id-1 div.sk-toggleable__content pre {margin: 0.2em;color: black;border-radius: 0.25em;background-color: #f0f8ff;}#sk-container-id-1 input.sk-toggleable__control:checked~div.sk-toggleable__content {max-height: 200px;max-width: 100%;overflow: auto;}#sk-container-id-1 input.sk-toggleable__control:checked~label.sk-toggleable__label-arrow:before {content: \"▾\";}#sk-container-id-1 div.sk-estimator input.sk-toggleable__control:checked~label.sk-toggleable__label {background-color: #d4ebff;}#sk-container-id-1 div.sk-label input.sk-toggleable__control:checked~label.sk-toggleable__label {background-color: #d4ebff;}#sk-container-id-1 input.sk-hidden--visually {border: 0;clip: rect(1px 1px 1px 1px);clip: rect(1px, 1px, 1px, 1px);height: 1px;margin: -1px;overflow: hidden;padding: 0;position: absolute;width: 1px;}#sk-container-id-1 div.sk-estimator {font-family: monospace;background-color: #f0f8ff;border: 1px dotted black;border-radius: 0.25em;box-sizing: border-box;margin-bottom: 0.5em;}#sk-container-id-1 div.sk-estimator:hover {background-color: #d4ebff;}#sk-container-id-1 div.sk-parallel-item::after {content: \"\";width: 100%;border-bottom: 1px solid gray;flex-grow: 1;}#sk-container-id-1 div.sk-label:hover label.sk-toggleable__label {background-color: #d4ebff;}#sk-container-id-1 div.sk-serial::before {content: \"\";position: absolute;border-left: 1px solid gray;box-sizing: border-box;top: 0;bottom: 0;left: 50%;z-index: 0;}#sk-container-id-1 div.sk-serial {display: flex;flex-direction: column;align-items: center;background-color: white;padding-right: 0.2em;padding-left: 0.2em;position: relative;}#sk-container-id-1 div.sk-item {position: relative;z-index: 1;}#sk-container-id-1 div.sk-parallel {display: flex;align-items: stretch;justify-content: center;background-color: white;position: relative;}#sk-container-id-1 div.sk-item::before, #sk-container-id-1 div.sk-parallel-item::before {content: \"\";position: absolute;border-left: 1px solid gray;box-sizing: border-box;top: 0;bottom: 0;left: 50%;z-index: -1;}#sk-container-id-1 div.sk-parallel-item {display: flex;flex-direction: column;z-index: 1;position: relative;background-color: white;}#sk-container-id-1 div.sk-parallel-item:first-child::after {align-self: flex-end;width: 50%;}#sk-container-id-1 div.sk-parallel-item:last-child::after {align-self: flex-start;width: 50%;}#sk-container-id-1 div.sk-parallel-item:only-child::after {width: 0;}#sk-container-id-1 div.sk-dashed-wrapped {border: 1px dashed gray;margin: 0 0.4em 0.5em 0.4em;box-sizing: border-box;padding-bottom: 0.4em;background-color: white;}#sk-container-id-1 div.sk-label label {font-family: monospace;font-weight: bold;display: inline-block;line-height: 1.2em;}#sk-container-id-1 div.sk-label-container {text-align: center;}#sk-container-id-1 div.sk-container {/* jupyter's `normalize.less` sets `[hidden] { display: none; }` but bootstrap.min.css set `[hidden] { display: none !important; }` so we also need the `!important` here to be able to override the default hidden behavior on the sphinx rendered scikit-learn.org. See: https://github.com/scikit-learn/scikit-learn/issues/21755 */display: inline-block !important;position: relative;}#sk-container-id-1 div.sk-text-repr-fallback {display: none;}</style><div id=\"sk-container-id-1\" class=\"sk-top-container\"><div class=\"sk-text-repr-fallback\"><pre>LabelEncoder()</pre><b>In a Jupyter environment, please rerun this cell to show the HTML representation or trust the notebook. <br />On GitHub, the HTML representation is unable to render, please try loading this page with nbviewer.org.</b></div><div class=\"sk-container\" hidden><div class=\"sk-item\"><div class=\"sk-estimator sk-toggleable\"><input class=\"sk-toggleable__control sk-hidden--visually\" id=\"sk-estimator-id-1\" type=\"checkbox\" checked><label for=\"sk-estimator-id-1\" class=\"sk-toggleable__label sk-toggleable__label-arrow\">LabelEncoder</label><div class=\"sk-toggleable__content\"><pre>LabelEncoder()</pre></div></div></div></div></div>"
      ],
      "text/plain": [
       "LabelEncoder()"
      ]
     },
     "execution_count": 12,
     "metadata": {},
     "output_type": "execute_result"
    }
   ],
   "source": [
    "le.fit(data.sex)"
   ]
  },
  {
   "cell_type": "code",
   "execution_count": 13,
   "id": "1542690f",
   "metadata": {},
   "outputs": [],
   "source": [
    "y = pd.Series(data=le.transform(data.sex))"
   ]
  },
  {
   "cell_type": "markdown",
   "id": "6aefd6b6",
   "metadata": {},
   "source": [
    "# Построение модели"
   ]
  },
  {
   "cell_type": "code",
   "execution_count": 14,
   "id": "03480933",
   "metadata": {},
   "outputs": [],
   "source": [
    "from sklearn.model_selection import train_test_split \n",
    "\n",
    "X_train, X_test, y_train, y_test = train_test_split(data_for_analysis, y, test_size=0.2, random_state=42)"
   ]
  },
  {
   "cell_type": "code",
   "execution_count": 15,
   "id": "9701fb3d",
   "metadata": {},
   "outputs": [],
   "source": [
    "from sklearn.linear_model import LogisticRegression"
   ]
  },
  {
   "cell_type": "code",
   "execution_count": 16,
   "id": "7e367fd0",
   "metadata": {},
   "outputs": [],
   "source": [
    "model = LogisticRegression(max_iter=1000)"
   ]
  },
  {
   "cell_type": "code",
   "execution_count": 17,
   "id": "f4dc05b4",
   "metadata": {},
   "outputs": [
    {
     "data": {
      "text/html": [
       "<style>#sk-container-id-2 {color: black;}#sk-container-id-2 pre{padding: 0;}#sk-container-id-2 div.sk-toggleable {background-color: white;}#sk-container-id-2 label.sk-toggleable__label {cursor: pointer;display: block;width: 100%;margin-bottom: 0;padding: 0.3em;box-sizing: border-box;text-align: center;}#sk-container-id-2 label.sk-toggleable__label-arrow:before {content: \"▸\";float: left;margin-right: 0.25em;color: #696969;}#sk-container-id-2 label.sk-toggleable__label-arrow:hover:before {color: black;}#sk-container-id-2 div.sk-estimator:hover label.sk-toggleable__label-arrow:before {color: black;}#sk-container-id-2 div.sk-toggleable__content {max-height: 0;max-width: 0;overflow: hidden;text-align: left;background-color: #f0f8ff;}#sk-container-id-2 div.sk-toggleable__content pre {margin: 0.2em;color: black;border-radius: 0.25em;background-color: #f0f8ff;}#sk-container-id-2 input.sk-toggleable__control:checked~div.sk-toggleable__content {max-height: 200px;max-width: 100%;overflow: auto;}#sk-container-id-2 input.sk-toggleable__control:checked~label.sk-toggleable__label-arrow:before {content: \"▾\";}#sk-container-id-2 div.sk-estimator input.sk-toggleable__control:checked~label.sk-toggleable__label {background-color: #d4ebff;}#sk-container-id-2 div.sk-label input.sk-toggleable__control:checked~label.sk-toggleable__label {background-color: #d4ebff;}#sk-container-id-2 input.sk-hidden--visually {border: 0;clip: rect(1px 1px 1px 1px);clip: rect(1px, 1px, 1px, 1px);height: 1px;margin: -1px;overflow: hidden;padding: 0;position: absolute;width: 1px;}#sk-container-id-2 div.sk-estimator {font-family: monospace;background-color: #f0f8ff;border: 1px dotted black;border-radius: 0.25em;box-sizing: border-box;margin-bottom: 0.5em;}#sk-container-id-2 div.sk-estimator:hover {background-color: #d4ebff;}#sk-container-id-2 div.sk-parallel-item::after {content: \"\";width: 100%;border-bottom: 1px solid gray;flex-grow: 1;}#sk-container-id-2 div.sk-label:hover label.sk-toggleable__label {background-color: #d4ebff;}#sk-container-id-2 div.sk-serial::before {content: \"\";position: absolute;border-left: 1px solid gray;box-sizing: border-box;top: 0;bottom: 0;left: 50%;z-index: 0;}#sk-container-id-2 div.sk-serial {display: flex;flex-direction: column;align-items: center;background-color: white;padding-right: 0.2em;padding-left: 0.2em;position: relative;}#sk-container-id-2 div.sk-item {position: relative;z-index: 1;}#sk-container-id-2 div.sk-parallel {display: flex;align-items: stretch;justify-content: center;background-color: white;position: relative;}#sk-container-id-2 div.sk-item::before, #sk-container-id-2 div.sk-parallel-item::before {content: \"\";position: absolute;border-left: 1px solid gray;box-sizing: border-box;top: 0;bottom: 0;left: 50%;z-index: -1;}#sk-container-id-2 div.sk-parallel-item {display: flex;flex-direction: column;z-index: 1;position: relative;background-color: white;}#sk-container-id-2 div.sk-parallel-item:first-child::after {align-self: flex-end;width: 50%;}#sk-container-id-2 div.sk-parallel-item:last-child::after {align-self: flex-start;width: 50%;}#sk-container-id-2 div.sk-parallel-item:only-child::after {width: 0;}#sk-container-id-2 div.sk-dashed-wrapped {border: 1px dashed gray;margin: 0 0.4em 0.5em 0.4em;box-sizing: border-box;padding-bottom: 0.4em;background-color: white;}#sk-container-id-2 div.sk-label label {font-family: monospace;font-weight: bold;display: inline-block;line-height: 1.2em;}#sk-container-id-2 div.sk-label-container {text-align: center;}#sk-container-id-2 div.sk-container {/* jupyter's `normalize.less` sets `[hidden] { display: none; }` but bootstrap.min.css set `[hidden] { display: none !important; }` so we also need the `!important` here to be able to override the default hidden behavior on the sphinx rendered scikit-learn.org. See: https://github.com/scikit-learn/scikit-learn/issues/21755 */display: inline-block !important;position: relative;}#sk-container-id-2 div.sk-text-repr-fallback {display: none;}</style><div id=\"sk-container-id-2\" class=\"sk-top-container\"><div class=\"sk-text-repr-fallback\"><pre>LogisticRegression(max_iter=1000)</pre><b>In a Jupyter environment, please rerun this cell to show the HTML representation or trust the notebook. <br />On GitHub, the HTML representation is unable to render, please try loading this page with nbviewer.org.</b></div><div class=\"sk-container\" hidden><div class=\"sk-item\"><div class=\"sk-estimator sk-toggleable\"><input class=\"sk-toggleable__control sk-hidden--visually\" id=\"sk-estimator-id-2\" type=\"checkbox\" checked><label for=\"sk-estimator-id-2\" class=\"sk-toggleable__label sk-toggleable__label-arrow\">LogisticRegression</label><div class=\"sk-toggleable__content\"><pre>LogisticRegression(max_iter=1000)</pre></div></div></div></div></div>"
      ],
      "text/plain": [
       "LogisticRegression(max_iter=1000)"
      ]
     },
     "execution_count": 17,
     "metadata": {},
     "output_type": "execute_result"
    }
   ],
   "source": [
    "model.fit(X_train, y_train)"
   ]
  },
  {
   "cell_type": "code",
   "execution_count": 18,
   "id": "8aad073a",
   "metadata": {},
   "outputs": [
    {
     "data": {
      "text/plain": [
       "0.8195947501726917"
      ]
     },
     "execution_count": 18,
     "metadata": {},
     "output_type": "execute_result"
    }
   ],
   "source": [
    "model.score(X_train, y_train)"
   ]
  },
  {
   "cell_type": "code",
   "execution_count": 19,
   "id": "b1f911ab",
   "metadata": {},
   "outputs": [
    {
     "data": {
      "text/plain": [
       "0.8093922651933702"
      ]
     },
     "execution_count": 19,
     "metadata": {},
     "output_type": "execute_result"
    }
   ],
   "source": [
    "model.score(X_test, y_test)"
   ]
  },
  {
   "cell_type": "markdown",
   "id": "d31d0107",
   "metadata": {},
   "source": [
    "# Построение кривых"
   ]
  },
  {
   "cell_type": "markdown",
   "id": "5491268c",
   "metadata": {},
   "source": [
    "### ROC-кривая (библиотека sklearn)"
   ]
  },
  {
   "cell_type": "code",
   "execution_count": 20,
   "id": "e70641b3",
   "metadata": {},
   "outputs": [],
   "source": [
    "from sklearn.metrics import roc_curve"
   ]
  },
  {
   "cell_type": "code",
   "execution_count": 21,
   "id": "d8e20a61",
   "metadata": {},
   "outputs": [],
   "source": [
    "predictions = model.predict_proba(X_test)"
   ]
  },
  {
   "cell_type": "code",
   "execution_count": 22,
   "id": "92e8fd0a",
   "metadata": {},
   "outputs": [
    {
     "data": {
      "text/plain": [
       "(array([[ 9.96936249,  0.09105599, -0.44261757, -0.386477  , -0.32091355,\n",
       "         -0.46242265,  0.0690871 ,  0.4668792 ,  0.21408753, -3.17739013,\n",
       "          0.13481758,  0.85696192,  0.86881817, -0.32405613,  0.42119208,\n",
       "         -0.06887845,  1.62387506, -1.90847762,  0.15058389,  0.49556771,\n",
       "          0.17056517, -1.28256008, -0.53110645,  0.08580291,  0.54250153,\n",
       "          0.83493941, -0.1871001 , -0.68711591,  0.77072916, -2.44263038,\n",
       "          1.23414192,  1.1741579 ]]),\n",
       " array([-23.68276829]))"
      ]
     },
     "execution_count": 22,
     "metadata": {},
     "output_type": "execute_result"
    }
   ],
   "source": [
    "model.coef_, model.intercept_"
   ]
  },
  {
   "cell_type": "code",
   "execution_count": 23,
   "id": "893e539c",
   "metadata": {},
   "outputs": [
    {
     "data": {
      "text/html": [
       "<div>\n",
       "<style scoped>\n",
       "    .dataframe tbody tr th:only-of-type {\n",
       "        vertical-align: middle;\n",
       "    }\n",
       "\n",
       "    .dataframe tbody tr th {\n",
       "        vertical-align: top;\n",
       "    }\n",
       "\n",
       "    .dataframe thead th {\n",
       "        text-align: right;\n",
       "    }\n",
       "</style>\n",
       "<table border=\"1\" class=\"dataframe\">\n",
       "  <thead>\n",
       "    <tr style=\"text-align: right;\">\n",
       "      <th></th>\n",
       "      <th>0</th>\n",
       "    </tr>\n",
       "  </thead>\n",
       "  <tbody>\n",
       "    <tr>\n",
       "      <th>0</th>\n",
       "      <td>-0.241002</td>\n",
       "    </tr>\n",
       "    <tr>\n",
       "      <th>1</th>\n",
       "      <td>-2.159160</td>\n",
       "    </tr>\n",
       "    <tr>\n",
       "      <th>2</th>\n",
       "      <td>3.395958</td>\n",
       "    </tr>\n",
       "    <tr>\n",
       "      <th>3</th>\n",
       "      <td>1.658544</td>\n",
       "    </tr>\n",
       "    <tr>\n",
       "      <th>4</th>\n",
       "      <td>1.683715</td>\n",
       "    </tr>\n",
       "    <tr>\n",
       "      <th>...</th>\n",
       "      <td>...</td>\n",
       "    </tr>\n",
       "    <tr>\n",
       "      <th>11533</th>\n",
       "      <td>-1.584887</td>\n",
       "    </tr>\n",
       "    <tr>\n",
       "      <th>11534</th>\n",
       "      <td>-0.232364</td>\n",
       "    </tr>\n",
       "    <tr>\n",
       "      <th>11535</th>\n",
       "      <td>5.040309</td>\n",
       "    </tr>\n",
       "    <tr>\n",
       "      <th>11536</th>\n",
       "      <td>-1.398511</td>\n",
       "    </tr>\n",
       "    <tr>\n",
       "      <th>11537</th>\n",
       "      <td>1.601351</td>\n",
       "    </tr>\n",
       "  </tbody>\n",
       "</table>\n",
       "<p>10858 rows × 1 columns</p>\n",
       "</div>"
      ],
      "text/plain": [
       "              0\n",
       "0     -0.241002\n",
       "1     -2.159160\n",
       "2      3.395958\n",
       "3      1.658544\n",
       "4      1.683715\n",
       "...         ...\n",
       "11533 -1.584887\n",
       "11534 -0.232364\n",
       "11535  5.040309\n",
       "11536 -1.398511\n",
       "11537  1.601351\n",
       "\n",
       "[10858 rows x 1 columns]"
      ]
     },
     "execution_count": 23,
     "metadata": {},
     "output_type": "execute_result"
    }
   ],
   "source": [
    "data_for_analysis.dot(model.coef_.T) + model.intercept_"
   ]
  },
  {
   "cell_type": "code",
   "execution_count": 24,
   "id": "22441b97",
   "metadata": {},
   "outputs": [],
   "source": [
    "fpr, tpr, thres = roc_curve(y_test, predictions[:, 1])"
   ]
  },
  {
   "cell_type": "markdown",
   "id": "594dcd9f",
   "metadata": {},
   "source": [
    "## Самостоятельный расчет параметров для построения"
   ]
  },
  {
   "cell_type": "markdown",
   "id": "8da36c32",
   "metadata": {},
   "source": [
    "### TPR, FPR"
   ]
  },
  {
   "cell_type": "code",
   "execution_count": 25,
   "id": "dcd50e57",
   "metadata": {},
   "outputs": [],
   "source": [
    "def params(test, answer, thres):\n",
    "    \"\"\"Расчет параметров\"\"\"\n",
    "    tn = 0\n",
    "    fp = 0\n",
    "    tp = 0\n",
    "    fn = 0\n",
    "    \n",
    "    for t, a in zip(test, answer):\n",
    "        if t == 1 and a >= thres:\n",
    "            tp += 1\n",
    "        elif t == 1 and a <= thres:\n",
    "            fn += 1\n",
    "        elif t == 0 and a >= thres:\n",
    "            fp += 1\n",
    "        elif t == 0 and a <= thres:\n",
    "            tn += 1\n",
    "        \n",
    "    return tn, tp, fp, fn"
   ]
  },
  {
   "cell_type": "code",
   "execution_count": 26,
   "id": "5534a878",
   "metadata": {},
   "outputs": [],
   "source": [
    "def gen(finish, start=0, step=.1):\n",
    "    \"\"\"Генератор значений\"\"\"\n",
    "    while start < finish:\n",
    "        yield start\n",
    "        start += step"
   ]
  },
  {
   "cell_type": "code",
   "execution_count": 27,
   "id": "8a283a5f",
   "metadata": {},
   "outputs": [],
   "source": [
    "def fpr_tpr(test, answer, thres):\n",
    "    fpr = []\n",
    "    tpr = []\n",
    "    \n",
    "    for i in range(len(thres)):\n",
    "        tn, tp, fp, fn = params(test, answer, thres[i])\n",
    "        \n",
    "        try:\n",
    "            fpr.append(fp / (fp + tn))\n",
    "        except:\n",
    "            fpr.append(0)\n",
    "        \n",
    "        try:\n",
    "            tpr.append(tp / (tp + fn))\n",
    "        except:\n",
    "            tpr.append(0)\n",
    "    \n",
    "    return fpr, tpr"
   ]
  },
  {
   "cell_type": "markdown",
   "id": "372ca18c",
   "metadata": {},
   "source": [
    "### ROC-кривая"
   ]
  },
  {
   "cell_type": "code",
   "execution_count": 28,
   "id": "54fef122",
   "metadata": {},
   "outputs": [],
   "source": [
    "thres_ = [n for n in gen(start=0, finish=1, step=1/len(y_test))]"
   ]
  },
  {
   "cell_type": "code",
   "execution_count": 29,
   "id": "f908527d",
   "metadata": {},
   "outputs": [],
   "source": [
    "fpr_, tpr_ = fpr_tpr(y_test, predictions[:, 1], thres_)"
   ]
  },
  {
   "cell_type": "markdown",
   "id": "fa5f5001",
   "metadata": {},
   "source": [
    "### ROC-AUC (библиотека sklearn)"
   ]
  },
  {
   "cell_type": "code",
   "execution_count": 30,
   "id": "e25268d5",
   "metadata": {},
   "outputs": [],
   "source": [
    "from sklearn.metrics import roc_auc_score"
   ]
  },
  {
   "cell_type": "code",
   "execution_count": 31,
   "id": "26d06473",
   "metadata": {},
   "outputs": [
    {
     "data": {
      "text/plain": [
       "0.8886185705291396"
      ]
     },
     "execution_count": 31,
     "metadata": {},
     "output_type": "execute_result"
    }
   ],
   "source": [
    "roc_auc_score(y_test, predictions[:, 1])"
   ]
  },
  {
   "cell_type": "markdown",
   "id": "a69715d0",
   "metadata": {},
   "source": [
    "### ROC-AUC"
   ]
  },
  {
   "cell_type": "markdown",
   "id": "68b44f68",
   "metadata": {},
   "source": [
    "#### Уравнение для истино положительных результатов:\n",
    "$$TPR(x) = 1 - x^2$$\n",
    "    \n",
    "#### Уравнение для ложно положительных результатов:\n",
    "$$FPR(x) = (1 - x)^2$$\n",
    "\n",
    "#### Расчет площади под кривой:\n",
    "$$ \\int\\limits_{0}^{1} TPR(x)*FPR'(x)*dx = 2*\\int\\limits_{0}^{1} (1 - x^2)*(1 - x)dx$$\n",
    "#### То есть: \n",
    "$$ TPR = 2*(\\sqrt FPR) - FPR = \\int\\limits_{0}^{1} (2*\\sqrt t - t)dt$$"
   ]
  },
  {
   "cell_type": "code",
   "execution_count": 32,
   "id": "28658e64",
   "metadata": {},
   "outputs": [],
   "source": [
    "from scipy import integrate"
   ]
  },
  {
   "cell_type": "code",
   "execution_count": 33,
   "id": "2e14f0d9",
   "metadata": {},
   "outputs": [],
   "source": [
    "auc = integrate.quad(lambda x: 2 * np.sqrt(x) - x, 0, 1)"
   ]
  },
  {
   "cell_type": "code",
   "execution_count": 34,
   "id": "1ba47ff1",
   "metadata": {},
   "outputs": [
    {
     "data": {
      "text/plain": [
       "0.8333333333333335"
      ]
     },
     "execution_count": 34,
     "metadata": {},
     "output_type": "execute_result"
    }
   ],
   "source": [
    "auc[0]"
   ]
  },
  {
   "cell_type": "markdown",
   "id": "20fa6dbf",
   "metadata": {},
   "source": [
    "Значения AUC рассчитанные вручную и используя библиотечные методы практически равны: чуть выше 0.8.  \n",
    "Разница в значениях составила примерно 5.5%.  "
   ]
  },
  {
   "cell_type": "markdown",
   "id": "b44f891c",
   "metadata": {},
   "source": [
    "### Precision — Recall"
   ]
  },
  {
   "cell_type": "code",
   "execution_count": 35,
   "id": "c8487457",
   "metadata": {},
   "outputs": [],
   "source": [
    "from sklearn.metrics import precision_recall_curve"
   ]
  },
  {
   "cell_type": "code",
   "execution_count": 36,
   "id": "48e4ecbb",
   "metadata": {},
   "outputs": [],
   "source": [
    "def precision_recall(test, answer, thres):\n",
    "    precision = []\n",
    "    recall = []\n",
    "    \n",
    "    for i in range(len(thres)):\n",
    "        tn, tp, fp, fn = params(test, answer, thres[i])\n",
    "        \n",
    "        try:\n",
    "            precision.append(tp / (tp + fp))\n",
    "        except:\n",
    "            precision.append(0)\n",
    "        \n",
    "        try:\n",
    "            recall.append(tp / (tp + fn))\n",
    "        except:\n",
    "            recall.append(0)\n",
    "    \n",
    "    return precision, recall"
   ]
  },
  {
   "cell_type": "code",
   "execution_count": 37,
   "id": "f92f0072",
   "metadata": {},
   "outputs": [],
   "source": [
    "pr, rec, th = precision_recall_curve(y_test, predictions[:, 1])"
   ]
  },
  {
   "cell_type": "code",
   "execution_count": 38,
   "id": "17f24d57",
   "metadata": {},
   "outputs": [],
   "source": [
    "precision, recall = precision_recall(y_test, predictions[:, 1], thres_)"
   ]
  },
  {
   "cell_type": "markdown",
   "id": "a38475bc",
   "metadata": {},
   "source": [
    "# Заключение"
   ]
  },
  {
   "cell_type": "markdown",
   "id": "287f6519",
   "metadata": {},
   "source": [
    "В действительности, чем кривая ближе к виду, когда выпуклая часть стремится к оси **y** образуя прямой угол. \n",
    "При этом самый наихудший вариант - это когда кривая повторяет прямую линию, что в свою очередь означает, что результат получается случайным образом.  \n",
    "\n",
    "Кривая может получиться ниже прямой, но это не означает, что модель плохая, надо просто поменять местами предсказания и кривая будет выше. "
   ]
  },
  {
   "cell_type": "code",
   "execution_count": 39,
   "id": "c5369814",
   "metadata": {},
   "outputs": [
    {
     "data": {
      "image/png": "[encoded data removed]",
      "text/plain": [
       "<Figure size 640x480 with 1 Axes>"
      ]
     },
     "metadata": {},
     "output_type": "display_data"
    }
   ],
   "source": [
    "plt.plot(fpr_, tpr_, label='ROC self')\n",
    "plt.plot(fpr, tpr, label='ROC lib')\n",
    "plt.plot(np.linspace(0, 1), np.linspace(0, 1), label='line')\n",
    "\n",
    "plt.legend()\n",
    "plt.xlabel('FPR')\n",
    "plt.ylabel('TPR')\n",
    "plt.title('FPR vs TPR')\n",
    "plt.show()"
   ]
  },
  {
   "cell_type": "markdown",
   "id": "27f5ce2c",
   "metadata": {},
   "source": [
    "Полученная ROC-кривая, рассчитанная самостоятельно, ложится идеально на кривую, рассчитанную через использование библиотечных методов. "
   ]
  },
  {
   "cell_type": "code",
   "execution_count": 40,
   "id": "e01c6419",
   "metadata": {},
   "outputs": [
    {
     "data": {
      "image/png": "[encoded data removed]",
      "text/plain": [
       "<Figure size 640x480 with 1 Axes>"
      ]
     },
     "metadata": {},
     "output_type": "display_data"
    }
   ],
   "source": [
    "plt.plot(recall, precision, label='PR self')\n",
    "plt.plot(rec, pr, label='PR lib')\n",
    "plt.legend()\n",
    "plt.xlabel('Recall')\n",
    "plt.ylabel('Precision')\n",
    "plt.title('Precision vs Recall')\n",
    "plt.show()"
   ]
  },
  {
   "cell_type": "markdown",
   "id": "d51c8f81",
   "metadata": {},
   "source": [
    "Аналогично и с PR-RE кривой"
   ]
  },
  {
   "cell_type": "code",
   "execution_count": null,
   "id": "d43dd582",
   "metadata": {},
   "outputs": [],
   "source": []
  }
 ],
 "metadata": {
  "kernelspec": {
   "display_name": "Python 3 (ipykernel)",
   "language": "python",
   "name": "python3"
  },
  "language_info": {
   "codemirror_mode": {
    "name": "ipython",
    "version": 3
   },
   "file_extension": ".py",
   "mimetype": "text/x-python",
   "name": "python",
   "nbconvert_exporter": "python",
   "pygments_lexer": "ipython3",
   "version": "3.11.4"
  }
 },
 "nbformat": 4,
 "nbformat_minor": 5
}
