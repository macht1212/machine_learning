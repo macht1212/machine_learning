{
 "cells": [
  {
   "cell_type": "code",
   "execution_count": 1,
   "id": "b2f245b8",
   "metadata": {},
   "outputs": [],
   "source": [
    "import pandas as pd\n",
    "import numpy as np\n",
    "\n",
    "import warnings\n",
    "\n",
    "import matplotlib.pyplot as plt\n",
    "import seaborn as sns\n",
    "\n",
    "warnings.filterwarnings('ignore')\n",
    "pd.set_option('display.max_columns', 200)"
   ]
  },
  {
   "cell_type": "code",
   "execution_count": 59,
   "id": "e0717dfb",
   "metadata": {},
   "outputs": [],
   "source": [
    "from sklearn.model_selection import train_test_split\n",
    "\n",
    "from sklearn.pipeline import make_pipeline\n",
    "from sklearn.ensemble import RandomForestClassifier\n",
    "\n",
    "from sklearn.metrics import classification_report"
   ]
  },
  {
   "cell_type": "markdown",
   "id": "56f4319e",
   "metadata": {},
   "source": [
    "# Attribute Information:\n",
    "\n",
    "\n",
    "   1. **name**\tName of the country concerned\n",
    "   2. **landmass**\t1=N.America, 2=S.America, 3=Europe, 4=Africa, 5=Asia, 6=Oceania\n",
    "   3. **zone**\tGeographic quadrant, based on Greenwich and the Equator\n",
    "                1=NE, 2=SE, 3=SW, 4=NW\n",
    "   4. **area**\tin thousands of square km\n",
    "   5. **population**\tin round millions\n",
    "   6. **language** 1=English, 2=Spanish, 3=French, 4=German, 5=Slavic, 6=Other \n",
    "               Indo-European, 7=Chinese, 8=Arabic, \n",
    "               9=Japanese/Turkish/Finnish/Magyar, 10=Others\n",
    "   7. **religion** 0=Catholic, 1=Other Christian, 2=Muslim, 3=Buddhist, 4=Hindu,\n",
    "               5=Ethnic, 6=Marxist, 7=Others\n",
    "   8. **bars**     Number of vertical bars in the flag\n",
    "   9. **stripes**  Number of horizontal stripes in the flag\n",
    "  10. **colours**  Number of different colours in the flag\n",
    "  11. **red**      0 if red absent, 1 if red present in the flag\n",
    "  12. **green**    same for green\n",
    "  13. **blue**     same for blue\n",
    "  14. **gold**     same for gold (also yellow)\n",
    "  15. **white**    same for white\n",
    "  16. **black**    same for black\n",
    "  17. **orange**   same for orange (also brown)\n",
    "  18. **mainhue**  predominant colour in the flag (tie-breaks decided by taking\n",
    "               the topmost hue, if that fails then the most central hue,\n",
    "               and if that fails the leftmost hue)\n",
    "  19. **circles**  Number of circles in the flag\n",
    "  20. **crosses**  Number of (upright) crosses\n",
    "  21. **saltires** Number of diagonal crosses\n",
    "  22. **quarters** Number of quartered sections\n",
    "  23. **sunstars** Number of sun or star symbols\n",
    "  24. **crescent** 1 if a crescent moon symbol present, else 0\n",
    "  25. **triangle** 1 if any triangles present, 0 otherwise\n",
    "  26. **icon**     1 if an inanimate image present (e.g., a boat), otherwise 0\n",
    "  27. **animate**  1 if an animate image (e.g., an eagle, a tree, a human hand)\n",
    "               present, 0 otherwise\n",
    "  28. **text**     1 if any letters or writing on the flag (e.g., a motto or\n",
    "               slogan), 0 otherwise\n",
    "  29. **topleft**  colour in the top-left corner (moving right to decide \n",
    "               tie-breaks)\n",
    "  30. **botright** Colour in the bottom-left corner (moving left to decide \n",
    "               tie-breaks)"
   ]
  },
  {
   "cell_type": "code",
   "execution_count": 83,
   "id": "f1576c92",
   "metadata": {},
   "outputs": [],
   "source": [
    "names = ['name', \n",
    "         'landmass', \n",
    "         'zone', \n",
    "         'area', \n",
    "         'population', \n",
    "         'language', \n",
    "         'religion', \n",
    "         'bars', \n",
    "         'stripes', \n",
    "         'colours', \n",
    "         'red', \n",
    "         'green', \n",
    "         'blue', \n",
    "         'gold', \n",
    "         'white', \n",
    "         'black', \n",
    "         'orange', \n",
    "         'mainhue', \n",
    "         'circles', \n",
    "         'crosses', \n",
    "         'saltires', \n",
    "         'quarters', \n",
    "         'sunstars', \n",
    "         'crescent', \n",
    "         'triangle', \n",
    "         'icon', \n",
    "         'animate', \n",
    "         'text', \n",
    "         'topleft', \n",
    "         'botright']"
   ]
  },
  {
   "cell_type": "code",
   "execution_count": 84,
   "id": "2c975a6e",
   "metadata": {},
   "outputs": [],
   "source": [
    "data = pd.read_csv('flags/flag.data', names=names)"
   ]
  },
  {
   "cell_type": "code",
   "execution_count": 85,
   "id": "46502bcf",
   "metadata": {},
   "outputs": [
    {
     "data": {
      "text/html": [
       "<div>\n",
       "<style scoped>\n",
       "    .dataframe tbody tr th:only-of-type {\n",
       "        vertical-align: middle;\n",
       "    }\n",
       "\n",
       "    .dataframe tbody tr th {\n",
       "        vertical-align: top;\n",
       "    }\n",
       "\n",
       "    .dataframe thead th {\n",
       "        text-align: right;\n",
       "    }\n",
       "</style>\n",
       "<table border=\"1\" class=\"dataframe\">\n",
       "  <thead>\n",
       "    <tr style=\"text-align: right;\">\n",
       "      <th></th>\n",
       "      <th>name</th>\n",
       "      <th>landmass</th>\n",
       "      <th>zone</th>\n",
       "      <th>area</th>\n",
       "      <th>population</th>\n",
       "      <th>language</th>\n",
       "      <th>religion</th>\n",
       "      <th>bars</th>\n",
       "      <th>stripes</th>\n",
       "      <th>colours</th>\n",
       "      <th>red</th>\n",
       "      <th>green</th>\n",
       "      <th>blue</th>\n",
       "      <th>gold</th>\n",
       "      <th>white</th>\n",
       "      <th>black</th>\n",
       "      <th>orange</th>\n",
       "      <th>mainhue</th>\n",
       "      <th>circles</th>\n",
       "      <th>crosses</th>\n",
       "      <th>saltires</th>\n",
       "      <th>quarters</th>\n",
       "      <th>sunstars</th>\n",
       "      <th>crescent</th>\n",
       "      <th>triangle</th>\n",
       "      <th>icon</th>\n",
       "      <th>animate</th>\n",
       "      <th>text</th>\n",
       "      <th>topleft</th>\n",
       "      <th>botright</th>\n",
       "    </tr>\n",
       "  </thead>\n",
       "  <tbody>\n",
       "    <tr>\n",
       "      <th>0</th>\n",
       "      <td>Afghanistan</td>\n",
       "      <td>5</td>\n",
       "      <td>1</td>\n",
       "      <td>648</td>\n",
       "      <td>16</td>\n",
       "      <td>10</td>\n",
       "      <td>2</td>\n",
       "      <td>0</td>\n",
       "      <td>3</td>\n",
       "      <td>5</td>\n",
       "      <td>1</td>\n",
       "      <td>1</td>\n",
       "      <td>0</td>\n",
       "      <td>1</td>\n",
       "      <td>1</td>\n",
       "      <td>1</td>\n",
       "      <td>0</td>\n",
       "      <td>green</td>\n",
       "      <td>0</td>\n",
       "      <td>0</td>\n",
       "      <td>0</td>\n",
       "      <td>0</td>\n",
       "      <td>1</td>\n",
       "      <td>0</td>\n",
       "      <td>0</td>\n",
       "      <td>1</td>\n",
       "      <td>0</td>\n",
       "      <td>0</td>\n",
       "      <td>black</td>\n",
       "      <td>green</td>\n",
       "    </tr>\n",
       "    <tr>\n",
       "      <th>1</th>\n",
       "      <td>Albania</td>\n",
       "      <td>3</td>\n",
       "      <td>1</td>\n",
       "      <td>29</td>\n",
       "      <td>3</td>\n",
       "      <td>6</td>\n",
       "      <td>6</td>\n",
       "      <td>0</td>\n",
       "      <td>0</td>\n",
       "      <td>3</td>\n",
       "      <td>1</td>\n",
       "      <td>0</td>\n",
       "      <td>0</td>\n",
       "      <td>1</td>\n",
       "      <td>0</td>\n",
       "      <td>1</td>\n",
       "      <td>0</td>\n",
       "      <td>red</td>\n",
       "      <td>0</td>\n",
       "      <td>0</td>\n",
       "      <td>0</td>\n",
       "      <td>0</td>\n",
       "      <td>1</td>\n",
       "      <td>0</td>\n",
       "      <td>0</td>\n",
       "      <td>0</td>\n",
       "      <td>1</td>\n",
       "      <td>0</td>\n",
       "      <td>red</td>\n",
       "      <td>red</td>\n",
       "    </tr>\n",
       "    <tr>\n",
       "      <th>2</th>\n",
       "      <td>Algeria</td>\n",
       "      <td>4</td>\n",
       "      <td>1</td>\n",
       "      <td>2388</td>\n",
       "      <td>20</td>\n",
       "      <td>8</td>\n",
       "      <td>2</td>\n",
       "      <td>2</td>\n",
       "      <td>0</td>\n",
       "      <td>3</td>\n",
       "      <td>1</td>\n",
       "      <td>1</td>\n",
       "      <td>0</td>\n",
       "      <td>0</td>\n",
       "      <td>1</td>\n",
       "      <td>0</td>\n",
       "      <td>0</td>\n",
       "      <td>green</td>\n",
       "      <td>0</td>\n",
       "      <td>0</td>\n",
       "      <td>0</td>\n",
       "      <td>0</td>\n",
       "      <td>1</td>\n",
       "      <td>1</td>\n",
       "      <td>0</td>\n",
       "      <td>0</td>\n",
       "      <td>0</td>\n",
       "      <td>0</td>\n",
       "      <td>green</td>\n",
       "      <td>white</td>\n",
       "    </tr>\n",
       "    <tr>\n",
       "      <th>3</th>\n",
       "      <td>American-Samoa</td>\n",
       "      <td>6</td>\n",
       "      <td>3</td>\n",
       "      <td>0</td>\n",
       "      <td>0</td>\n",
       "      <td>1</td>\n",
       "      <td>1</td>\n",
       "      <td>0</td>\n",
       "      <td>0</td>\n",
       "      <td>5</td>\n",
       "      <td>1</td>\n",
       "      <td>0</td>\n",
       "      <td>1</td>\n",
       "      <td>1</td>\n",
       "      <td>1</td>\n",
       "      <td>0</td>\n",
       "      <td>1</td>\n",
       "      <td>blue</td>\n",
       "      <td>0</td>\n",
       "      <td>0</td>\n",
       "      <td>0</td>\n",
       "      <td>0</td>\n",
       "      <td>0</td>\n",
       "      <td>0</td>\n",
       "      <td>1</td>\n",
       "      <td>1</td>\n",
       "      <td>1</td>\n",
       "      <td>0</td>\n",
       "      <td>blue</td>\n",
       "      <td>red</td>\n",
       "    </tr>\n",
       "    <tr>\n",
       "      <th>4</th>\n",
       "      <td>Andorra</td>\n",
       "      <td>3</td>\n",
       "      <td>1</td>\n",
       "      <td>0</td>\n",
       "      <td>0</td>\n",
       "      <td>6</td>\n",
       "      <td>0</td>\n",
       "      <td>3</td>\n",
       "      <td>0</td>\n",
       "      <td>3</td>\n",
       "      <td>1</td>\n",
       "      <td>0</td>\n",
       "      <td>1</td>\n",
       "      <td>1</td>\n",
       "      <td>0</td>\n",
       "      <td>0</td>\n",
       "      <td>0</td>\n",
       "      <td>gold</td>\n",
       "      <td>0</td>\n",
       "      <td>0</td>\n",
       "      <td>0</td>\n",
       "      <td>0</td>\n",
       "      <td>0</td>\n",
       "      <td>0</td>\n",
       "      <td>0</td>\n",
       "      <td>0</td>\n",
       "      <td>0</td>\n",
       "      <td>0</td>\n",
       "      <td>blue</td>\n",
       "      <td>red</td>\n",
       "    </tr>\n",
       "  </tbody>\n",
       "</table>\n",
       "</div>"
      ],
      "text/plain": [
       "             name  landmass  zone  area  population  language  religion  bars  \\\n",
       "0     Afghanistan         5     1   648          16        10         2     0   \n",
       "1         Albania         3     1    29           3         6         6     0   \n",
       "2         Algeria         4     1  2388          20         8         2     2   \n",
       "3  American-Samoa         6     3     0           0         1         1     0   \n",
       "4         Andorra         3     1     0           0         6         0     3   \n",
       "\n",
       "   stripes  colours  red  green  blue  gold  white  black  orange mainhue  \\\n",
       "0        3        5    1      1     0     1      1      1       0   green   \n",
       "1        0        3    1      0     0     1      0      1       0     red   \n",
       "2        0        3    1      1     0     0      1      0       0   green   \n",
       "3        0        5    1      0     1     1      1      0       1    blue   \n",
       "4        0        3    1      0     1     1      0      0       0    gold   \n",
       "\n",
       "   circles  crosses  saltires  quarters  sunstars  crescent  triangle  icon  \\\n",
       "0        0        0         0         0         1         0         0     1   \n",
       "1        0        0         0         0         1         0         0     0   \n",
       "2        0        0         0         0         1         1         0     0   \n",
       "3        0        0         0         0         0         0         1     1   \n",
       "4        0        0         0         0         0         0         0     0   \n",
       "\n",
       "   animate  text topleft botright  \n",
       "0        0     0   black    green  \n",
       "1        1     0     red      red  \n",
       "2        0     0   green    white  \n",
       "3        1     0    blue      red  \n",
       "4        0     0    blue      red  "
      ]
     },
     "execution_count": 85,
     "metadata": {},
     "output_type": "execute_result"
    }
   ],
   "source": [
    "data.head()"
   ]
  },
  {
   "cell_type": "code",
   "execution_count": 86,
   "id": "1bea5127",
   "metadata": {},
   "outputs": [
    {
     "name": "stdout",
     "output_type": "stream",
     "text": [
      "<class 'pandas.core.frame.DataFrame'>\n",
      "RangeIndex: 194 entries, 0 to 193\n",
      "Data columns (total 30 columns):\n",
      " #   Column      Non-Null Count  Dtype \n",
      "---  ------      --------------  ----- \n",
      " 0   name        194 non-null    object\n",
      " 1   landmass    194 non-null    int64 \n",
      " 2   zone        194 non-null    int64 \n",
      " 3   area        194 non-null    int64 \n",
      " 4   population  194 non-null    int64 \n",
      " 5   language    194 non-null    int64 \n",
      " 6   religion    194 non-null    int64 \n",
      " 7   bars        194 non-null    int64 \n",
      " 8   stripes     194 non-null    int64 \n",
      " 9   colours     194 non-null    int64 \n",
      " 10  red         194 non-null    int64 \n",
      " 11  green       194 non-null    int64 \n",
      " 12  blue        194 non-null    int64 \n",
      " 13  gold        194 non-null    int64 \n",
      " 14  white       194 non-null    int64 \n",
      " 15  black       194 non-null    int64 \n",
      " 16  orange      194 non-null    int64 \n",
      " 17  mainhue     194 non-null    object\n",
      " 18  circles     194 non-null    int64 \n",
      " 19  crosses     194 non-null    int64 \n",
      " 20  saltires    194 non-null    int64 \n",
      " 21  quarters    194 non-null    int64 \n",
      " 22  sunstars    194 non-null    int64 \n",
      " 23  crescent    194 non-null    int64 \n",
      " 24  triangle    194 non-null    int64 \n",
      " 25  icon        194 non-null    int64 \n",
      " 26  animate     194 non-null    int64 \n",
      " 27  text        194 non-null    int64 \n",
      " 28  topleft     194 non-null    object\n",
      " 29  botright    194 non-null    object\n",
      "dtypes: int64(26), object(4)\n",
      "memory usage: 45.6+ KB\n"
     ]
    }
   ],
   "source": [
    "data.info()"
   ]
  },
  {
   "cell_type": "code",
   "execution_count": 58,
   "id": "38477602",
   "metadata": {},
   "outputs": [
    {
     "data": {
      "image/png": "[encoded data removed]",
      "text/plain": [
       "<Figure size 640x480 with 1 Axes>"
      ]
     },
     "metadata": {},
     "output_type": "display_data"
    }
   ],
   "source": [
    "plt.bar(data.landmass.unique(), data.landmass.value_counts())\n",
    "plt.title('Количество стран по материакам')\n",
    "plt.xlabel('1=N.America, 2=S.America, 3=Europe, 4=Africa, 5=Asia, 6=Oceania')\n",
    "plt.ylabel('Количество стран')\n",
    "plt.show()"
   ]
  },
  {
   "cell_type": "code",
   "execution_count": 57,
   "id": "e31fd66c",
   "metadata": {},
   "outputs": [
    {
     "data": {
      "image/png": "[encoded data removed]",
      "text/plain": [
       "<Figure size 640x480 with 1 Axes>"
      ]
     },
     "metadata": {},
     "output_type": "display_data"
    }
   ],
   "source": [
    "plt.bar(data.religion.unique(), data.religion.value_counts())\n",
    "plt.title('Количество стран по релгиям')\n",
    "plt.xlabel(\"\"\"0=Catholic, 1=Other Christian, 2=Muslim, \n",
    "3=Buddhist, 4=Hindu, 5=Ethnic, 6=Marxist, 7=Others\"\"\")\n",
    "plt.ylabel('Количество стран')\n",
    "plt.show()"
   ]
  },
  {
   "cell_type": "markdown",
   "id": "be6ff57c",
   "metadata": {},
   "source": [
    "## RandomForest со всеми названиями стран"
   ]
  },
  {
   "cell_type": "code",
   "execution_count": null,
   "id": "7f0fcc50",
   "metadata": {},
   "outputs": [],
   "source": [
    "X = data.copy()\n",
    "X = pd.get_dummies(X, columns=['name', 'mainhue', 'topleft', 'botright'])"
   ]
  },
  {
   "cell_type": "code",
   "execution_count": null,
   "id": "d69a572d",
   "metadata": {},
   "outputs": [],
   "source": [
    "y = X.religion\n",
    "del X['religion']"
   ]
  },
  {
   "cell_type": "code",
   "execution_count": 52,
   "id": "c507db4d",
   "metadata": {},
   "outputs": [],
   "source": [
    "X_train, X_test, y_train, y_test = train_test_split(X, y, test_size=.2, random_state=42)"
   ]
  },
  {
   "cell_type": "code",
   "execution_count": 53,
   "id": "d6c8ef12",
   "metadata": {},
   "outputs": [],
   "source": []
  },
  {
   "cell_type": "code",
   "execution_count": 54,
   "id": "f1f67807",
   "metadata": {},
   "outputs": [],
   "source": [
    "model = RandomForestClassifier()"
   ]
  },
  {
   "cell_type": "code",
   "execution_count": 55,
   "id": "e6d44b40",
   "metadata": {},
   "outputs": [
    {
     "data": {
      "text/html": [
       "<style>#sk-container-id-1 {color: black;}#sk-container-id-1 pre{padding: 0;}#sk-container-id-1 div.sk-toggleable {background-color: white;}#sk-container-id-1 label.sk-toggleable__label {cursor: pointer;display: block;width: 100%;margin-bottom: 0;padding: 0.3em;box-sizing: border-box;text-align: center;}#sk-container-id-1 label.sk-toggleable__label-arrow:before {content: \"▸\";float: left;margin-right: 0.25em;color: #696969;}#sk-container-id-1 label.sk-toggleable__label-arrow:hover:before {color: black;}#sk-container-id-1 div.sk-estimator:hover label.sk-toggleable__label-arrow:before {color: black;}#sk-container-id-1 div.sk-toggleable__content {max-height: 0;max-width: 0;overflow: hidden;text-align: left;background-color: #f0f8ff;}#sk-container-id-1 div.sk-toggleable__content pre {margin: 0.2em;color: black;border-radius: 0.25em;background-color: #f0f8ff;}#sk-container-id-1 input.sk-toggleable__control:checked~div.sk-toggleable__content {max-height: 200px;max-width: 100%;overflow: auto;}#sk-container-id-1 input.sk-toggleable__control:checked~label.sk-toggleable__label-arrow:before {content: \"▾\";}#sk-container-id-1 div.sk-estimator input.sk-toggleable__control:checked~label.sk-toggleable__label {background-color: #d4ebff;}#sk-container-id-1 div.sk-label input.sk-toggleable__control:checked~label.sk-toggleable__label {background-color: #d4ebff;}#sk-container-id-1 input.sk-hidden--visually {border: 0;clip: rect(1px 1px 1px 1px);clip: rect(1px, 1px, 1px, 1px);height: 1px;margin: -1px;overflow: hidden;padding: 0;position: absolute;width: 1px;}#sk-container-id-1 div.sk-estimator {font-family: monospace;background-color: #f0f8ff;border: 1px dotted black;border-radius: 0.25em;box-sizing: border-box;margin-bottom: 0.5em;}#sk-container-id-1 div.sk-estimator:hover {background-color: #d4ebff;}#sk-container-id-1 div.sk-parallel-item::after {content: \"\";width: 100%;border-bottom: 1px solid gray;flex-grow: 1;}#sk-container-id-1 div.sk-label:hover label.sk-toggleable__label {background-color: #d4ebff;}#sk-container-id-1 div.sk-serial::before {content: \"\";position: absolute;border-left: 1px solid gray;box-sizing: border-box;top: 0;bottom: 0;left: 50%;z-index: 0;}#sk-container-id-1 div.sk-serial {display: flex;flex-direction: column;align-items: center;background-color: white;padding-right: 0.2em;padding-left: 0.2em;position: relative;}#sk-container-id-1 div.sk-item {position: relative;z-index: 1;}#sk-container-id-1 div.sk-parallel {display: flex;align-items: stretch;justify-content: center;background-color: white;position: relative;}#sk-container-id-1 div.sk-item::before, #sk-container-id-1 div.sk-parallel-item::before {content: \"\";position: absolute;border-left: 1px solid gray;box-sizing: border-box;top: 0;bottom: 0;left: 50%;z-index: -1;}#sk-container-id-1 div.sk-parallel-item {display: flex;flex-direction: column;z-index: 1;position: relative;background-color: white;}#sk-container-id-1 div.sk-parallel-item:first-child::after {align-self: flex-end;width: 50%;}#sk-container-id-1 div.sk-parallel-item:last-child::after {align-self: flex-start;width: 50%;}#sk-container-id-1 div.sk-parallel-item:only-child::after {width: 0;}#sk-container-id-1 div.sk-dashed-wrapped {border: 1px dashed gray;margin: 0 0.4em 0.5em 0.4em;box-sizing: border-box;padding-bottom: 0.4em;background-color: white;}#sk-container-id-1 div.sk-label label {font-family: monospace;font-weight: bold;display: inline-block;line-height: 1.2em;}#sk-container-id-1 div.sk-label-container {text-align: center;}#sk-container-id-1 div.sk-container {/* jupyter's `normalize.less` sets `[hidden] { display: none; }` but bootstrap.min.css set `[hidden] { display: none !important; }` so we also need the `!important` here to be able to override the default hidden behavior on the sphinx rendered scikit-learn.org. See: https://github.com/scikit-learn/scikit-learn/issues/21755 */display: inline-block !important;position: relative;}#sk-container-id-1 div.sk-text-repr-fallback {display: none;}</style><div id=\"sk-container-id-1\" class=\"sk-top-container\"><div class=\"sk-text-repr-fallback\"><pre>RandomForestClassifier()</pre><b>In a Jupyter environment, please rerun this cell to show the HTML representation or trust the notebook. <br />On GitHub, the HTML representation is unable to render, please try loading this page with nbviewer.org.</b></div><div class=\"sk-container\" hidden><div class=\"sk-item\"><div class=\"sk-estimator sk-toggleable\"><input class=\"sk-toggleable__control sk-hidden--visually\" id=\"sk-estimator-id-1\" type=\"checkbox\" checked><label for=\"sk-estimator-id-1\" class=\"sk-toggleable__label sk-toggleable__label-arrow\">RandomForestClassifier</label><div class=\"sk-toggleable__content\"><pre>RandomForestClassifier()</pre></div></div></div></div></div>"
      ],
      "text/plain": [
       "RandomForestClassifier()"
      ]
     },
     "execution_count": 55,
     "metadata": {},
     "output_type": "execute_result"
    }
   ],
   "source": [
    "model.fit(X_train, y_train)"
   ]
  },
  {
   "cell_type": "code",
   "execution_count": 56,
   "id": "220e6c08",
   "metadata": {},
   "outputs": [
    {
     "data": {
      "text/plain": [
       "0.6410256410256411"
      ]
     },
     "execution_count": 56,
     "metadata": {},
     "output_type": "execute_result"
    }
   ],
   "source": [
    "model.score(X_test, y_test)"
   ]
  },
  {
   "cell_type": "code",
   "execution_count": 61,
   "id": "bd86924c",
   "metadata": {},
   "outputs": [
    {
     "name": "stdout",
     "output_type": "stream",
     "text": [
      "              precision    recall  f1-score   support\n",
      "\n",
      "           0       0.50      0.80      0.62         5\n",
      "           1       0.81      0.81      0.81        16\n",
      "           2       0.43      0.75      0.55         4\n",
      "           3       0.00      0.00      0.00         1\n",
      "           4       0.00      0.00      0.00         2\n",
      "           5       0.67      0.67      0.67         6\n",
      "           6       1.00      0.20      0.33         5\n",
      "\n",
      "    accuracy                           0.64        39\n",
      "   macro avg       0.49      0.46      0.42        39\n",
      "weighted avg       0.67      0.64      0.61        39\n",
      "\n"
     ]
    }
   ],
   "source": [
    "print(classification_report(y_test, model.predict(X_test)))"
   ]
  },
  {
   "cell_type": "code",
   "execution_count": 72,
   "id": "eab467e5",
   "metadata": {},
   "outputs": [],
   "source": [
    "dc = data.corr()"
   ]
  },
  {
   "cell_type": "code",
   "execution_count": 81,
   "id": "727faee6",
   "metadata": {},
   "outputs": [
    {
     "data": {
      "text/plain": [
       "<Axes: >"
      ]
     },
     "execution_count": 81,
     "metadata": {},
     "output_type": "execute_result"
    },
    {
     "data": {
      "image/png": "[encoded data removed]",
      "text/plain": [
       "<Figure size 100x1000 with 2 Axes>"
      ]
     },
     "metadata": {},
     "output_type": "display_data"
    }
   ],
   "source": [
    "plt.figure(figsize=(1, 10))\n",
    "sns.heatmap(pd.DataFrame(dc.religion), annot=True)"
   ]
  },
  {
   "cell_type": "code",
   "execution_count": 113,
   "id": "5ff0a179",
   "metadata": {},
   "outputs": [],
   "source": [
    "cols = ['landmass', 'zone', 'language', 'crosses', 'population', 'white']"
   ]
  },
  {
   "cell_type": "code",
   "execution_count": 115,
   "id": "90965acc",
   "metadata": {},
   "outputs": [],
   "source": [
    "data_cols = data[cols]"
   ]
  },
  {
   "cell_type": "code",
   "execution_count": 116,
   "id": "673c9256",
   "metadata": {},
   "outputs": [
    {
     "data": {
      "text/html": [
       "<div>\n",
       "<style scoped>\n",
       "    .dataframe tbody tr th:only-of-type {\n",
       "        vertical-align: middle;\n",
       "    }\n",
       "\n",
       "    .dataframe tbody tr th {\n",
       "        vertical-align: top;\n",
       "    }\n",
       "\n",
       "    .dataframe thead th {\n",
       "        text-align: right;\n",
       "    }\n",
       "</style>\n",
       "<table border=\"1\" class=\"dataframe\">\n",
       "  <thead>\n",
       "    <tr style=\"text-align: right;\">\n",
       "      <th></th>\n",
       "      <th>landmass</th>\n",
       "      <th>zone</th>\n",
       "      <th>language</th>\n",
       "      <th>crosses</th>\n",
       "      <th>population</th>\n",
       "      <th>white</th>\n",
       "    </tr>\n",
       "  </thead>\n",
       "  <tbody>\n",
       "    <tr>\n",
       "      <th>0</th>\n",
       "      <td>5</td>\n",
       "      <td>1</td>\n",
       "      <td>10</td>\n",
       "      <td>0</td>\n",
       "      <td>16</td>\n",
       "      <td>1</td>\n",
       "    </tr>\n",
       "    <tr>\n",
       "      <th>1</th>\n",
       "      <td>3</td>\n",
       "      <td>1</td>\n",
       "      <td>6</td>\n",
       "      <td>0</td>\n",
       "      <td>3</td>\n",
       "      <td>0</td>\n",
       "    </tr>\n",
       "    <tr>\n",
       "      <th>2</th>\n",
       "      <td>4</td>\n",
       "      <td>1</td>\n",
       "      <td>8</td>\n",
       "      <td>0</td>\n",
       "      <td>20</td>\n",
       "      <td>1</td>\n",
       "    </tr>\n",
       "    <tr>\n",
       "      <th>3</th>\n",
       "      <td>6</td>\n",
       "      <td>3</td>\n",
       "      <td>1</td>\n",
       "      <td>0</td>\n",
       "      <td>0</td>\n",
       "      <td>1</td>\n",
       "    </tr>\n",
       "    <tr>\n",
       "      <th>4</th>\n",
       "      <td>3</td>\n",
       "      <td>1</td>\n",
       "      <td>6</td>\n",
       "      <td>0</td>\n",
       "      <td>0</td>\n",
       "      <td>0</td>\n",
       "    </tr>\n",
       "    <tr>\n",
       "      <th>...</th>\n",
       "      <td>...</td>\n",
       "      <td>...</td>\n",
       "      <td>...</td>\n",
       "      <td>...</td>\n",
       "      <td>...</td>\n",
       "      <td>...</td>\n",
       "    </tr>\n",
       "    <tr>\n",
       "      <th>189</th>\n",
       "      <td>6</td>\n",
       "      <td>3</td>\n",
       "      <td>1</td>\n",
       "      <td>0</td>\n",
       "      <td>0</td>\n",
       "      <td>1</td>\n",
       "    </tr>\n",
       "    <tr>\n",
       "      <th>190</th>\n",
       "      <td>3</td>\n",
       "      <td>1</td>\n",
       "      <td>6</td>\n",
       "      <td>0</td>\n",
       "      <td>22</td>\n",
       "      <td>1</td>\n",
       "    </tr>\n",
       "    <tr>\n",
       "      <th>191</th>\n",
       "      <td>4</td>\n",
       "      <td>2</td>\n",
       "      <td>10</td>\n",
       "      <td>0</td>\n",
       "      <td>28</td>\n",
       "      <td>0</td>\n",
       "    </tr>\n",
       "    <tr>\n",
       "      <th>192</th>\n",
       "      <td>4</td>\n",
       "      <td>2</td>\n",
       "      <td>10</td>\n",
       "      <td>0</td>\n",
       "      <td>6</td>\n",
       "      <td>0</td>\n",
       "    </tr>\n",
       "    <tr>\n",
       "      <th>193</th>\n",
       "      <td>4</td>\n",
       "      <td>2</td>\n",
       "      <td>10</td>\n",
       "      <td>0</td>\n",
       "      <td>8</td>\n",
       "      <td>1</td>\n",
       "    </tr>\n",
       "  </tbody>\n",
       "</table>\n",
       "<p>194 rows × 6 columns</p>\n",
       "</div>"
      ],
      "text/plain": [
       "     landmass  zone  language  crosses  population  white\n",
       "0           5     1        10        0          16      1\n",
       "1           3     1         6        0           3      0\n",
       "2           4     1         8        0          20      1\n",
       "3           6     3         1        0           0      1\n",
       "4           3     1         6        0           0      0\n",
       "..        ...   ...       ...      ...         ...    ...\n",
       "189         6     3         1        0           0      1\n",
       "190         3     1         6        0          22      1\n",
       "191         4     2        10        0          28      0\n",
       "192         4     2        10        0           6      0\n",
       "193         4     2        10        0           8      1\n",
       "\n",
       "[194 rows x 6 columns]"
      ]
     },
     "execution_count": 116,
     "metadata": {},
     "output_type": "execute_result"
    }
   ],
   "source": [
    "data_cols"
   ]
  },
  {
   "cell_type": "code",
   "execution_count": 121,
   "id": "6e0f643b",
   "metadata": {},
   "outputs": [],
   "source": [
    "X_train_dc, X_test_dc, y_train, y_test = train_test_split(data_cols, y, test_size=.2, random_state=42) "
   ]
  },
  {
   "cell_type": "code",
   "execution_count": 122,
   "id": "a90a7983",
   "metadata": {},
   "outputs": [
    {
     "data": {
      "text/html": [
       "<style>#sk-container-id-6 {color: black;}#sk-container-id-6 pre{padding: 0;}#sk-container-id-6 div.sk-toggleable {background-color: white;}#sk-container-id-6 label.sk-toggleable__label {cursor: pointer;display: block;width: 100%;margin-bottom: 0;padding: 0.3em;box-sizing: border-box;text-align: center;}#sk-container-id-6 label.sk-toggleable__label-arrow:before {content: \"▸\";float: left;margin-right: 0.25em;color: #696969;}#sk-container-id-6 label.sk-toggleable__label-arrow:hover:before {color: black;}#sk-container-id-6 div.sk-estimator:hover label.sk-toggleable__label-arrow:before {color: black;}#sk-container-id-6 div.sk-toggleable__content {max-height: 0;max-width: 0;overflow: hidden;text-align: left;background-color: #f0f8ff;}#sk-container-id-6 div.sk-toggleable__content pre {margin: 0.2em;color: black;border-radius: 0.25em;background-color: #f0f8ff;}#sk-container-id-6 input.sk-toggleable__control:checked~div.sk-toggleable__content {max-height: 200px;max-width: 100%;overflow: auto;}#sk-container-id-6 input.sk-toggleable__control:checked~label.sk-toggleable__label-arrow:before {content: \"▾\";}#sk-container-id-6 div.sk-estimator input.sk-toggleable__control:checked~label.sk-toggleable__label {background-color: #d4ebff;}#sk-container-id-6 div.sk-label input.sk-toggleable__control:checked~label.sk-toggleable__label {background-color: #d4ebff;}#sk-container-id-6 input.sk-hidden--visually {border: 0;clip: rect(1px 1px 1px 1px);clip: rect(1px, 1px, 1px, 1px);height: 1px;margin: -1px;overflow: hidden;padding: 0;position: absolute;width: 1px;}#sk-container-id-6 div.sk-estimator {font-family: monospace;background-color: #f0f8ff;border: 1px dotted black;border-radius: 0.25em;box-sizing: border-box;margin-bottom: 0.5em;}#sk-container-id-6 div.sk-estimator:hover {background-color: #d4ebff;}#sk-container-id-6 div.sk-parallel-item::after {content: \"\";width: 100%;border-bottom: 1px solid gray;flex-grow: 1;}#sk-container-id-6 div.sk-label:hover label.sk-toggleable__label {background-color: #d4ebff;}#sk-container-id-6 div.sk-serial::before {content: \"\";position: absolute;border-left: 1px solid gray;box-sizing: border-box;top: 0;bottom: 0;left: 50%;z-index: 0;}#sk-container-id-6 div.sk-serial {display: flex;flex-direction: column;align-items: center;background-color: white;padding-right: 0.2em;padding-left: 0.2em;position: relative;}#sk-container-id-6 div.sk-item {position: relative;z-index: 1;}#sk-container-id-6 div.sk-parallel {display: flex;align-items: stretch;justify-content: center;background-color: white;position: relative;}#sk-container-id-6 div.sk-item::before, #sk-container-id-6 div.sk-parallel-item::before {content: \"\";position: absolute;border-left: 1px solid gray;box-sizing: border-box;top: 0;bottom: 0;left: 50%;z-index: -1;}#sk-container-id-6 div.sk-parallel-item {display: flex;flex-direction: column;z-index: 1;position: relative;background-color: white;}#sk-container-id-6 div.sk-parallel-item:first-child::after {align-self: flex-end;width: 50%;}#sk-container-id-6 div.sk-parallel-item:last-child::after {align-self: flex-start;width: 50%;}#sk-container-id-6 div.sk-parallel-item:only-child::after {width: 0;}#sk-container-id-6 div.sk-dashed-wrapped {border: 1px dashed gray;margin: 0 0.4em 0.5em 0.4em;box-sizing: border-box;padding-bottom: 0.4em;background-color: white;}#sk-container-id-6 div.sk-label label {font-family: monospace;font-weight: bold;display: inline-block;line-height: 1.2em;}#sk-container-id-6 div.sk-label-container {text-align: center;}#sk-container-id-6 div.sk-container {/* jupyter's `normalize.less` sets `[hidden] { display: none; }` but bootstrap.min.css set `[hidden] { display: none !important; }` so we also need the `!important` here to be able to override the default hidden behavior on the sphinx rendered scikit-learn.org. See: https://github.com/scikit-learn/scikit-learn/issues/21755 */display: inline-block !important;position: relative;}#sk-container-id-6 div.sk-text-repr-fallback {display: none;}</style><div id=\"sk-container-id-6\" class=\"sk-top-container\"><div class=\"sk-text-repr-fallback\"><pre>RandomForestClassifier()</pre><b>In a Jupyter environment, please rerun this cell to show the HTML representation or trust the notebook. <br />On GitHub, the HTML representation is unable to render, please try loading this page with nbviewer.org.</b></div><div class=\"sk-container\" hidden><div class=\"sk-item\"><div class=\"sk-estimator sk-toggleable\"><input class=\"sk-toggleable__control sk-hidden--visually\" id=\"sk-estimator-id-6\" type=\"checkbox\" checked><label for=\"sk-estimator-id-6\" class=\"sk-toggleable__label sk-toggleable__label-arrow\">RandomForestClassifier</label><div class=\"sk-toggleable__content\"><pre>RandomForestClassifier()</pre></div></div></div></div></div>"
      ],
      "text/plain": [
       "RandomForestClassifier()"
      ]
     },
     "execution_count": 122,
     "metadata": {},
     "output_type": "execute_result"
    }
   ],
   "source": [
    "model.fit(X_train_dc, y_train)"
   ]
  },
  {
   "cell_type": "code",
   "execution_count": 123,
   "id": "ac53ee68",
   "metadata": {},
   "outputs": [
    {
     "data": {
      "text/plain": [
       "0.717948717948718"
      ]
     },
     "execution_count": 123,
     "metadata": {},
     "output_type": "execute_result"
    }
   ],
   "source": [
    "model.score(X_test_dc, y_test)"
   ]
  },
  {
   "cell_type": "code",
   "execution_count": 124,
   "id": "7b1a606c",
   "metadata": {},
   "outputs": [
    {
     "name": "stdout",
     "output_type": "stream",
     "text": [
      "              precision    recall  f1-score   support\n",
      "\n",
      "           0       1.00      0.80      0.89         5\n",
      "           1       0.82      0.88      0.85        16\n",
      "           2       0.60      0.75      0.67         4\n",
      "           3       0.00      0.00      0.00         1\n",
      "           4       0.00      0.00      0.00         2\n",
      "           5       0.62      0.83      0.71         6\n",
      "           6       0.67      0.40      0.50         5\n",
      "           7       0.00      0.00      0.00         0\n",
      "\n",
      "    accuracy                           0.72        39\n",
      "   macro avg       0.46      0.46      0.45        39\n",
      "weighted avg       0.71      0.72      0.70        39\n",
      "\n"
     ]
    }
   ],
   "source": [
    "print(classification_report(y_test, model.predict(X_test_dc)))"
   ]
  },
  {
   "cell_type": "code",
   "execution_count": null,
   "id": "d5c87730",
   "metadata": {},
   "outputs": [],
   "source": []
  },
  {
   "cell_type": "code",
   "execution_count": null,
   "id": "f77fdc2a",
   "metadata": {},
   "outputs": [],
   "source": []
  },
  {
   "cell_type": "code",
   "execution_count": null,
   "id": "16a139c9",
   "metadata": {},
   "outputs": [],
   "source": []
  },
  {
   "cell_type": "code",
   "execution_count": null,
   "id": "baa5511f",
   "metadata": {},
   "outputs": [],
   "source": []
  }
 ],
 "metadata": {
  "kernelspec": {
   "display_name": "Python 3 (ipykernel)",
   "language": "python",
   "name": "python3"
  },
  "language_info": {
   "codemirror_mode": {
    "name": "ipython",
    "version": 3
   },
   "file_extension": ".py",
   "mimetype": "text/x-python",
   "name": "python",
   "nbconvert_exporter": "python",
   "pygments_lexer": "ipython3",
   "version": "3.11.4"
  }
 },
 "nbformat": 4,
 "nbformat_minor": 5
}
