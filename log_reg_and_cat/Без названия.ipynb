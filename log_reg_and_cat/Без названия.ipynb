{
 "cells": [
  {
   "cell_type": "code",
   "execution_count": 1,
   "id": "40113a15",
   "metadata": {},
   "outputs": [],
   "source": [
    "import pandas as pd\n",
    "import numpy as np"
   ]
  },
  {
   "cell_type": "code",
   "execution_count": 2,
   "id": "77bcee68",
   "metadata": {},
   "outputs": [],
   "source": [
    "from sklearn.datasets import make_regression"
   ]
  },
  {
   "cell_type": "code",
   "execution_count": 9,
   "id": "9bae74a8",
   "metadata": {},
   "outputs": [],
   "source": [
    "data = make_regression(n_samples=100, n_features=20, noise=10, random_state=42)"
   ]
  },
  {
   "cell_type": "code",
   "execution_count": 10,
   "id": "68f55739",
   "metadata": {},
   "outputs": [],
   "source": [
    "X = data[0]"
   ]
  },
  {
   "cell_type": "code",
   "execution_count": 11,
   "id": "9fb7e95e",
   "metadata": {},
   "outputs": [],
   "source": [
    "y = data[1]"
   ]
  },
  {
   "cell_type": "code",
   "execution_count": 14,
   "id": "e04a4c09",
   "metadata": {},
   "outputs": [],
   "source": [
    "df = pd.DataFrame(X)"
   ]
  },
  {
   "cell_type": "code",
   "execution_count": 15,
   "id": "b07644dc",
   "metadata": {},
   "outputs": [
    {
     "data": {
      "text/html": [
       "<div>\n",
       "<style scoped>\n",
       "    .dataframe tbody tr th:only-of-type {\n",
       "        vertical-align: middle;\n",
       "    }\n",
       "\n",
       "    .dataframe tbody tr th {\n",
       "        vertical-align: top;\n",
       "    }\n",
       "\n",
       "    .dataframe thead th {\n",
       "        text-align: right;\n",
       "    }\n",
       "</style>\n",
       "<table border=\"1\" class=\"dataframe\">\n",
       "  <thead>\n",
       "    <tr style=\"text-align: right;\">\n",
       "      <th></th>\n",
       "      <th>0</th>\n",
       "      <th>1</th>\n",
       "      <th>2</th>\n",
       "      <th>3</th>\n",
       "      <th>4</th>\n",
       "      <th>5</th>\n",
       "      <th>6</th>\n",
       "      <th>7</th>\n",
       "      <th>8</th>\n",
       "      <th>9</th>\n",
       "      <th>10</th>\n",
       "      <th>11</th>\n",
       "      <th>12</th>\n",
       "      <th>13</th>\n",
       "      <th>14</th>\n",
       "      <th>15</th>\n",
       "      <th>16</th>\n",
       "      <th>17</th>\n",
       "      <th>18</th>\n",
       "      <th>19</th>\n",
       "    </tr>\n",
       "  </thead>\n",
       "  <tbody>\n",
       "    <tr>\n",
       "      <th>count</th>\n",
       "      <td>100.000000</td>\n",
       "      <td>100.000000</td>\n",
       "      <td>100.000000</td>\n",
       "      <td>100.000000</td>\n",
       "      <td>100.000000</td>\n",
       "      <td>100.000000</td>\n",
       "      <td>100.000000</td>\n",
       "      <td>100.000000</td>\n",
       "      <td>100.000000</td>\n",
       "      <td>100.000000</td>\n",
       "      <td>100.000000</td>\n",
       "      <td>100.000000</td>\n",
       "      <td>100.000000</td>\n",
       "      <td>100.000000</td>\n",
       "      <td>100.000000</td>\n",
       "      <td>100.000000</td>\n",
       "      <td>100.000000</td>\n",
       "      <td>100.000000</td>\n",
       "      <td>100.000000</td>\n",
       "      <td>100.000000</td>\n",
       "    </tr>\n",
       "    <tr>\n",
       "      <th>mean</th>\n",
       "      <td>0.066483</td>\n",
       "      <td>-0.090669</td>\n",
       "      <td>0.148793</td>\n",
       "      <td>-0.009252</td>\n",
       "      <td>0.066883</td>\n",
       "      <td>0.138678</td>\n",
       "      <td>-0.020263</td>\n",
       "      <td>0.135566</td>\n",
       "      <td>0.048246</td>\n",
       "      <td>0.021527</td>\n",
       "      <td>-0.067366</td>\n",
       "      <td>0.116212</td>\n",
       "      <td>0.181512</td>\n",
       "      <td>-0.021257</td>\n",
       "      <td>0.140830</td>\n",
       "      <td>0.164645</td>\n",
       "      <td>-0.083936</td>\n",
       "      <td>0.011392</td>\n",
       "      <td>-0.013781</td>\n",
       "      <td>-0.032560</td>\n",
       "    </tr>\n",
       "    <tr>\n",
       "      <th>std</th>\n",
       "      <td>1.029991</td>\n",
       "      <td>0.977525</td>\n",
       "      <td>0.933608</td>\n",
       "      <td>0.895542</td>\n",
       "      <td>0.927696</td>\n",
       "      <td>0.923655</td>\n",
       "      <td>0.978568</td>\n",
       "      <td>0.946059</td>\n",
       "      <td>0.904497</td>\n",
       "      <td>1.078934</td>\n",
       "      <td>0.849485</td>\n",
       "      <td>1.024664</td>\n",
       "      <td>1.045479</td>\n",
       "      <td>1.053048</td>\n",
       "      <td>0.921654</td>\n",
       "      <td>1.088579</td>\n",
       "      <td>1.063061</td>\n",
       "      <td>1.186164</td>\n",
       "      <td>1.007022</td>\n",
       "      <td>0.885011</td>\n",
       "    </tr>\n",
       "    <tr>\n",
       "      <th>min</th>\n",
       "      <td>-2.896255</td>\n",
       "      <td>-1.975467</td>\n",
       "      <td>-2.499406</td>\n",
       "      <td>-2.172670</td>\n",
       "      <td>-2.423879</td>\n",
       "      <td>-1.703382</td>\n",
       "      <td>-1.748532</td>\n",
       "      <td>-1.760809</td>\n",
       "      <td>-2.471645</td>\n",
       "      <td>-3.241267</td>\n",
       "      <td>-2.703232</td>\n",
       "      <td>-2.198806</td>\n",
       "      <td>-2.619745</td>\n",
       "      <td>-2.591042</td>\n",
       "      <td>-2.872262</td>\n",
       "      <td>-2.152891</td>\n",
       "      <td>-2.696887</td>\n",
       "      <td>-2.940389</td>\n",
       "      <td>-2.151815</td>\n",
       "      <td>-2.650970</td>\n",
       "    </tr>\n",
       "    <tr>\n",
       "      <th>25%</th>\n",
       "      <td>-0.534866</td>\n",
       "      <td>-0.857052</td>\n",
       "      <td>-0.356271</td>\n",
       "      <td>-0.640109</td>\n",
       "      <td>-0.496090</td>\n",
       "      <td>-0.552580</td>\n",
       "      <td>-0.766607</td>\n",
       "      <td>-0.655722</td>\n",
       "      <td>-0.585946</td>\n",
       "      <td>-0.650129</td>\n",
       "      <td>-0.555773</td>\n",
       "      <td>-0.659615</td>\n",
       "      <td>-0.531525</td>\n",
       "      <td>-0.676945</td>\n",
       "      <td>-0.435979</td>\n",
       "      <td>-0.608664</td>\n",
       "      <td>-0.945732</td>\n",
       "      <td>-0.684015</td>\n",
       "      <td>-0.775432</td>\n",
       "      <td>-0.554979</td>\n",
       "    </tr>\n",
       "    <tr>\n",
       "      <th>50%</th>\n",
       "      <td>-0.028445</td>\n",
       "      <td>-0.076344</td>\n",
       "      <td>0.178798</td>\n",
       "      <td>-0.016458</td>\n",
       "      <td>0.131194</td>\n",
       "      <td>0.145691</td>\n",
       "      <td>-0.020941</td>\n",
       "      <td>0.147305</td>\n",
       "      <td>-0.012252</td>\n",
       "      <td>0.044188</td>\n",
       "      <td>-0.010110</td>\n",
       "      <td>0.214404</td>\n",
       "      <td>0.046091</td>\n",
       "      <td>-0.094711</td>\n",
       "      <td>0.174999</td>\n",
       "      <td>0.024079</td>\n",
       "      <td>-0.004435</td>\n",
       "      <td>0.091795</td>\n",
       "      <td>-0.022596</td>\n",
       "      <td>0.040263</td>\n",
       "    </tr>\n",
       "    <tr>\n",
       "      <th>75%</th>\n",
       "      <td>0.757704</td>\n",
       "      <td>0.531959</td>\n",
       "      <td>0.721849</td>\n",
       "      <td>0.564199</td>\n",
       "      <td>0.493497</td>\n",
       "      <td>0.839220</td>\n",
       "      <td>0.622830</td>\n",
       "      <td>0.759989</td>\n",
       "      <td>0.654505</td>\n",
       "      <td>0.691722</td>\n",
       "      <td>0.466162</td>\n",
       "      <td>0.819755</td>\n",
       "      <td>0.997346</td>\n",
       "      <td>0.648388</td>\n",
       "      <td>0.751524</td>\n",
       "      <td>0.860472</td>\n",
       "      <td>0.623706</td>\n",
       "      <td>0.821707</td>\n",
       "      <td>0.584392</td>\n",
       "      <td>0.591680</td>\n",
       "    </tr>\n",
       "    <tr>\n",
       "      <th>max</th>\n",
       "      <td>2.290943</td>\n",
       "      <td>2.439752</td>\n",
       "      <td>2.526932</td>\n",
       "      <td>2.122156</td>\n",
       "      <td>3.137749</td>\n",
       "      <td>3.078881</td>\n",
       "      <td>2.270693</td>\n",
       "      <td>2.455300</td>\n",
       "      <td>2.133033</td>\n",
       "      <td>2.560085</td>\n",
       "      <td>1.848956</td>\n",
       "      <td>2.601683</td>\n",
       "      <td>2.644343</td>\n",
       "      <td>3.193108</td>\n",
       "      <td>2.720169</td>\n",
       "      <td>3.852731</td>\n",
       "      <td>2.170943</td>\n",
       "      <td>2.558199</td>\n",
       "      <td>2.403416</td>\n",
       "      <td>1.765454</td>\n",
       "    </tr>\n",
       "  </tbody>\n",
       "</table>\n",
       "</div>"
      ],
      "text/plain": [
       "               0           1           2           3           4           5   \\\n",
       "count  100.000000  100.000000  100.000000  100.000000  100.000000  100.000000   \n",
       "mean     0.066483   -0.090669    0.148793   -0.009252    0.066883    0.138678   \n",
       "std      1.029991    0.977525    0.933608    0.895542    0.927696    0.923655   \n",
       "min     -2.896255   -1.975467   -2.499406   -2.172670   -2.423879   -1.703382   \n",
       "25%     -0.534866   -0.857052   -0.356271   -0.640109   -0.496090   -0.552580   \n",
       "50%     -0.028445   -0.076344    0.178798   -0.016458    0.131194    0.145691   \n",
       "75%      0.757704    0.531959    0.721849    0.564199    0.493497    0.839220   \n",
       "max      2.290943    2.439752    2.526932    2.122156    3.137749    3.078881   \n",
       "\n",
       "               6           7           8           9           10          11  \\\n",
       "count  100.000000  100.000000  100.000000  100.000000  100.000000  100.000000   \n",
       "mean    -0.020263    0.135566    0.048246    0.021527   -0.067366    0.116212   \n",
       "std      0.978568    0.946059    0.904497    1.078934    0.849485    1.024664   \n",
       "min     -1.748532   -1.760809   -2.471645   -3.241267   -2.703232   -2.198806   \n",
       "25%     -0.766607   -0.655722   -0.585946   -0.650129   -0.555773   -0.659615   \n",
       "50%     -0.020941    0.147305   -0.012252    0.044188   -0.010110    0.214404   \n",
       "75%      0.622830    0.759989    0.654505    0.691722    0.466162    0.819755   \n",
       "max      2.270693    2.455300    2.133033    2.560085    1.848956    2.601683   \n",
       "\n",
       "               12          13          14          15          16          17  \\\n",
       "count  100.000000  100.000000  100.000000  100.000000  100.000000  100.000000   \n",
       "mean     0.181512   -0.021257    0.140830    0.164645   -0.083936    0.011392   \n",
       "std      1.045479    1.053048    0.921654    1.088579    1.063061    1.186164   \n",
       "min     -2.619745   -2.591042   -2.872262   -2.152891   -2.696887   -2.940389   \n",
       "25%     -0.531525   -0.676945   -0.435979   -0.608664   -0.945732   -0.684015   \n",
       "50%      0.046091   -0.094711    0.174999    0.024079   -0.004435    0.091795   \n",
       "75%      0.997346    0.648388    0.751524    0.860472    0.623706    0.821707   \n",
       "max      2.644343    3.193108    2.720169    3.852731    2.170943    2.558199   \n",
       "\n",
       "               18          19  \n",
       "count  100.000000  100.000000  \n",
       "mean    -0.013781   -0.032560  \n",
       "std      1.007022    0.885011  \n",
       "min     -2.151815   -2.650970  \n",
       "25%     -0.775432   -0.554979  \n",
       "50%     -0.022596    0.040263  \n",
       "75%      0.584392    0.591680  \n",
       "max      2.403416    1.765454  "
      ]
     },
     "execution_count": 15,
     "metadata": {},
     "output_type": "execute_result"
    }
   ],
   "source": [
    "df.describe()"
   ]
  },
  {
   "cell_type": "code",
   "execution_count": 16,
   "id": "7cfe20b3",
   "metadata": {},
   "outputs": [
    {
     "data": {
      "text/html": [
       "<div>\n",
       "<style scoped>\n",
       "    .dataframe tbody tr th:only-of-type {\n",
       "        vertical-align: middle;\n",
       "    }\n",
       "\n",
       "    .dataframe tbody tr th {\n",
       "        vertical-align: top;\n",
       "    }\n",
       "\n",
       "    .dataframe thead th {\n",
       "        text-align: right;\n",
       "    }\n",
       "</style>\n",
       "<table border=\"1\" class=\"dataframe\">\n",
       "  <thead>\n",
       "    <tr style=\"text-align: right;\">\n",
       "      <th></th>\n",
       "      <th>0</th>\n",
       "      <th>1</th>\n",
       "      <th>2</th>\n",
       "      <th>3</th>\n",
       "      <th>4</th>\n",
       "      <th>5</th>\n",
       "      <th>6</th>\n",
       "      <th>7</th>\n",
       "      <th>8</th>\n",
       "      <th>9</th>\n",
       "      <th>10</th>\n",
       "      <th>11</th>\n",
       "      <th>12</th>\n",
       "      <th>13</th>\n",
       "      <th>14</th>\n",
       "      <th>15</th>\n",
       "      <th>16</th>\n",
       "      <th>17</th>\n",
       "      <th>18</th>\n",
       "      <th>19</th>\n",
       "    </tr>\n",
       "  </thead>\n",
       "  <tbody>\n",
       "    <tr>\n",
       "      <th>0</th>\n",
       "      <td>1.000000</td>\n",
       "      <td>0.004548</td>\n",
       "      <td>-0.129191</td>\n",
       "      <td>0.026306</td>\n",
       "      <td>0.009072</td>\n",
       "      <td>-0.172230</td>\n",
       "      <td>-0.159638</td>\n",
       "      <td>0.094057</td>\n",
       "      <td>0.043956</td>\n",
       "      <td>-0.076455</td>\n",
       "      <td>0.084357</td>\n",
       "      <td>0.054632</td>\n",
       "      <td>-0.039641</td>\n",
       "      <td>-0.146794</td>\n",
       "      <td>-0.012493</td>\n",
       "      <td>-0.092397</td>\n",
       "      <td>-0.143799</td>\n",
       "      <td>-0.088933</td>\n",
       "      <td>0.134237</td>\n",
       "      <td>0.082084</td>\n",
       "    </tr>\n",
       "    <tr>\n",
       "      <th>1</th>\n",
       "      <td>0.004548</td>\n",
       "      <td>1.000000</td>\n",
       "      <td>0.114379</td>\n",
       "      <td>-0.003237</td>\n",
       "      <td>-0.071620</td>\n",
       "      <td>0.012699</td>\n",
       "      <td>0.028320</td>\n",
       "      <td>0.041997</td>\n",
       "      <td>-0.002852</td>\n",
       "      <td>0.032839</td>\n",
       "      <td>-0.013414</td>\n",
       "      <td>-0.030318</td>\n",
       "      <td>-0.070530</td>\n",
       "      <td>0.107978</td>\n",
       "      <td>-0.117359</td>\n",
       "      <td>-0.035240</td>\n",
       "      <td>0.040759</td>\n",
       "      <td>-0.112353</td>\n",
       "      <td>-0.058980</td>\n",
       "      <td>0.001684</td>\n",
       "    </tr>\n",
       "    <tr>\n",
       "      <th>2</th>\n",
       "      <td>-0.129191</td>\n",
       "      <td>0.114379</td>\n",
       "      <td>1.000000</td>\n",
       "      <td>0.128799</td>\n",
       "      <td>-0.025503</td>\n",
       "      <td>-0.017215</td>\n",
       "      <td>-0.043973</td>\n",
       "      <td>-0.050788</td>\n",
       "      <td>-0.127256</td>\n",
       "      <td>0.094992</td>\n",
       "      <td>0.042806</td>\n",
       "      <td>-0.194916</td>\n",
       "      <td>0.188536</td>\n",
       "      <td>-0.089567</td>\n",
       "      <td>-0.046992</td>\n",
       "      <td>-0.076500</td>\n",
       "      <td>0.098150</td>\n",
       "      <td>0.049944</td>\n",
       "      <td>-0.027335</td>\n",
       "      <td>-0.026813</td>\n",
       "    </tr>\n",
       "    <tr>\n",
       "      <th>3</th>\n",
       "      <td>0.026306</td>\n",
       "      <td>-0.003237</td>\n",
       "      <td>0.128799</td>\n",
       "      <td>1.000000</td>\n",
       "      <td>-0.269712</td>\n",
       "      <td>-0.075557</td>\n",
       "      <td>0.104791</td>\n",
       "      <td>0.002972</td>\n",
       "      <td>-0.013555</td>\n",
       "      <td>0.046317</td>\n",
       "      <td>0.213739</td>\n",
       "      <td>0.041039</td>\n",
       "      <td>-0.093565</td>\n",
       "      <td>-0.073253</td>\n",
       "      <td>-0.101853</td>\n",
       "      <td>0.042289</td>\n",
       "      <td>0.120003</td>\n",
       "      <td>-0.021204</td>\n",
       "      <td>-0.159526</td>\n",
       "      <td>0.015016</td>\n",
       "    </tr>\n",
       "    <tr>\n",
       "      <th>4</th>\n",
       "      <td>0.009072</td>\n",
       "      <td>-0.071620</td>\n",
       "      <td>-0.025503</td>\n",
       "      <td>-0.269712</td>\n",
       "      <td>1.000000</td>\n",
       "      <td>0.108145</td>\n",
       "      <td>-0.132818</td>\n",
       "      <td>-0.070478</td>\n",
       "      <td>0.134867</td>\n",
       "      <td>-0.077725</td>\n",
       "      <td>-0.076422</td>\n",
       "      <td>-0.168468</td>\n",
       "      <td>0.043386</td>\n",
       "      <td>0.033541</td>\n",
       "      <td>0.135511</td>\n",
       "      <td>0.107892</td>\n",
       "      <td>-0.034121</td>\n",
       "      <td>-0.074995</td>\n",
       "      <td>-0.037652</td>\n",
       "      <td>-0.051054</td>\n",
       "    </tr>\n",
       "    <tr>\n",
       "      <th>5</th>\n",
       "      <td>-0.172230</td>\n",
       "      <td>0.012699</td>\n",
       "      <td>-0.017215</td>\n",
       "      <td>-0.075557</td>\n",
       "      <td>0.108145</td>\n",
       "      <td>1.000000</td>\n",
       "      <td>0.029484</td>\n",
       "      <td>-0.049503</td>\n",
       "      <td>0.011433</td>\n",
       "      <td>0.112203</td>\n",
       "      <td>-0.006337</td>\n",
       "      <td>0.118695</td>\n",
       "      <td>0.142316</td>\n",
       "      <td>0.148123</td>\n",
       "      <td>0.062823</td>\n",
       "      <td>0.034785</td>\n",
       "      <td>-0.017446</td>\n",
       "      <td>-0.025080</td>\n",
       "      <td>0.042316</td>\n",
       "      <td>0.158593</td>\n",
       "    </tr>\n",
       "    <tr>\n",
       "      <th>6</th>\n",
       "      <td>-0.159638</td>\n",
       "      <td>0.028320</td>\n",
       "      <td>-0.043973</td>\n",
       "      <td>0.104791</td>\n",
       "      <td>-0.132818</td>\n",
       "      <td>0.029484</td>\n",
       "      <td>1.000000</td>\n",
       "      <td>-0.024925</td>\n",
       "      <td>-0.033633</td>\n",
       "      <td>0.008165</td>\n",
       "      <td>-0.074601</td>\n",
       "      <td>-0.021824</td>\n",
       "      <td>0.011373</td>\n",
       "      <td>0.025203</td>\n",
       "      <td>0.064736</td>\n",
       "      <td>0.073364</td>\n",
       "      <td>-0.049053</td>\n",
       "      <td>-0.163623</td>\n",
       "      <td>0.053028</td>\n",
       "      <td>0.116623</td>\n",
       "    </tr>\n",
       "    <tr>\n",
       "      <th>7</th>\n",
       "      <td>0.094057</td>\n",
       "      <td>0.041997</td>\n",
       "      <td>-0.050788</td>\n",
       "      <td>0.002972</td>\n",
       "      <td>-0.070478</td>\n",
       "      <td>-0.049503</td>\n",
       "      <td>-0.024925</td>\n",
       "      <td>1.000000</td>\n",
       "      <td>0.009200</td>\n",
       "      <td>0.036454</td>\n",
       "      <td>0.088660</td>\n",
       "      <td>0.107441</td>\n",
       "      <td>-0.122975</td>\n",
       "      <td>-0.051254</td>\n",
       "      <td>0.057023</td>\n",
       "      <td>-0.082422</td>\n",
       "      <td>0.115605</td>\n",
       "      <td>-0.271533</td>\n",
       "      <td>-0.285803</td>\n",
       "      <td>-0.092217</td>\n",
       "    </tr>\n",
       "    <tr>\n",
       "      <th>8</th>\n",
       "      <td>0.043956</td>\n",
       "      <td>-0.002852</td>\n",
       "      <td>-0.127256</td>\n",
       "      <td>-0.013555</td>\n",
       "      <td>0.134867</td>\n",
       "      <td>0.011433</td>\n",
       "      <td>-0.033633</td>\n",
       "      <td>0.009200</td>\n",
       "      <td>1.000000</td>\n",
       "      <td>0.167277</td>\n",
       "      <td>-0.058522</td>\n",
       "      <td>0.128626</td>\n",
       "      <td>0.084063</td>\n",
       "      <td>-0.029720</td>\n",
       "      <td>-0.031667</td>\n",
       "      <td>-0.048260</td>\n",
       "      <td>-0.127329</td>\n",
       "      <td>-0.013608</td>\n",
       "      <td>0.111726</td>\n",
       "      <td>0.005402</td>\n",
       "    </tr>\n",
       "    <tr>\n",
       "      <th>9</th>\n",
       "      <td>-0.076455</td>\n",
       "      <td>0.032839</td>\n",
       "      <td>0.094992</td>\n",
       "      <td>0.046317</td>\n",
       "      <td>-0.077725</td>\n",
       "      <td>0.112203</td>\n",
       "      <td>0.008165</td>\n",
       "      <td>0.036454</td>\n",
       "      <td>0.167277</td>\n",
       "      <td>1.000000</td>\n",
       "      <td>-0.071686</td>\n",
       "      <td>0.073538</td>\n",
       "      <td>-0.067419</td>\n",
       "      <td>-0.007428</td>\n",
       "      <td>0.154910</td>\n",
       "      <td>0.183953</td>\n",
       "      <td>-0.077702</td>\n",
       "      <td>0.129965</td>\n",
       "      <td>0.109297</td>\n",
       "      <td>-0.069252</td>\n",
       "    </tr>\n",
       "    <tr>\n",
       "      <th>10</th>\n",
       "      <td>0.084357</td>\n",
       "      <td>-0.013414</td>\n",
       "      <td>0.042806</td>\n",
       "      <td>0.213739</td>\n",
       "      <td>-0.076422</td>\n",
       "      <td>-0.006337</td>\n",
       "      <td>-0.074601</td>\n",
       "      <td>0.088660</td>\n",
       "      <td>-0.058522</td>\n",
       "      <td>-0.071686</td>\n",
       "      <td>1.000000</td>\n",
       "      <td>0.003966</td>\n",
       "      <td>-0.028078</td>\n",
       "      <td>-0.058442</td>\n",
       "      <td>-0.165359</td>\n",
       "      <td>-0.014784</td>\n",
       "      <td>-0.072562</td>\n",
       "      <td>0.042172</td>\n",
       "      <td>-0.042557</td>\n",
       "      <td>-0.228384</td>\n",
       "    </tr>\n",
       "    <tr>\n",
       "      <th>11</th>\n",
       "      <td>0.054632</td>\n",
       "      <td>-0.030318</td>\n",
       "      <td>-0.194916</td>\n",
       "      <td>0.041039</td>\n",
       "      <td>-0.168468</td>\n",
       "      <td>0.118695</td>\n",
       "      <td>-0.021824</td>\n",
       "      <td>0.107441</td>\n",
       "      <td>0.128626</td>\n",
       "      <td>0.073538</td>\n",
       "      <td>0.003966</td>\n",
       "      <td>1.000000</td>\n",
       "      <td>-0.144428</td>\n",
       "      <td>-0.023368</td>\n",
       "      <td>0.051117</td>\n",
       "      <td>0.040677</td>\n",
       "      <td>-0.024341</td>\n",
       "      <td>0.001608</td>\n",
       "      <td>0.182345</td>\n",
       "      <td>0.043839</td>\n",
       "    </tr>\n",
       "    <tr>\n",
       "      <th>12</th>\n",
       "      <td>-0.039641</td>\n",
       "      <td>-0.070530</td>\n",
       "      <td>0.188536</td>\n",
       "      <td>-0.093565</td>\n",
       "      <td>0.043386</td>\n",
       "      <td>0.142316</td>\n",
       "      <td>0.011373</td>\n",
       "      <td>-0.122975</td>\n",
       "      <td>0.084063</td>\n",
       "      <td>-0.067419</td>\n",
       "      <td>-0.028078</td>\n",
       "      <td>-0.144428</td>\n",
       "      <td>1.000000</td>\n",
       "      <td>-0.066726</td>\n",
       "      <td>0.174145</td>\n",
       "      <td>0.024779</td>\n",
       "      <td>-0.171422</td>\n",
       "      <td>0.156399</td>\n",
       "      <td>0.050355</td>\n",
       "      <td>0.113035</td>\n",
       "    </tr>\n",
       "    <tr>\n",
       "      <th>13</th>\n",
       "      <td>-0.146794</td>\n",
       "      <td>0.107978</td>\n",
       "      <td>-0.089567</td>\n",
       "      <td>-0.073253</td>\n",
       "      <td>0.033541</td>\n",
       "      <td>0.148123</td>\n",
       "      <td>0.025203</td>\n",
       "      <td>-0.051254</td>\n",
       "      <td>-0.029720</td>\n",
       "      <td>-0.007428</td>\n",
       "      <td>-0.058442</td>\n",
       "      <td>-0.023368</td>\n",
       "      <td>-0.066726</td>\n",
       "      <td>1.000000</td>\n",
       "      <td>0.170635</td>\n",
       "      <td>0.002184</td>\n",
       "      <td>0.119435</td>\n",
       "      <td>-0.121819</td>\n",
       "      <td>-0.019511</td>\n",
       "      <td>0.024759</td>\n",
       "    </tr>\n",
       "    <tr>\n",
       "      <th>14</th>\n",
       "      <td>-0.012493</td>\n",
       "      <td>-0.117359</td>\n",
       "      <td>-0.046992</td>\n",
       "      <td>-0.101853</td>\n",
       "      <td>0.135511</td>\n",
       "      <td>0.062823</td>\n",
       "      <td>0.064736</td>\n",
       "      <td>0.057023</td>\n",
       "      <td>-0.031667</td>\n",
       "      <td>0.154910</td>\n",
       "      <td>-0.165359</td>\n",
       "      <td>0.051117</td>\n",
       "      <td>0.174145</td>\n",
       "      <td>0.170635</td>\n",
       "      <td>1.000000</td>\n",
       "      <td>0.113057</td>\n",
       "      <td>-0.109578</td>\n",
       "      <td>-0.128252</td>\n",
       "      <td>0.130668</td>\n",
       "      <td>0.002496</td>\n",
       "    </tr>\n",
       "    <tr>\n",
       "      <th>15</th>\n",
       "      <td>-0.092397</td>\n",
       "      <td>-0.035240</td>\n",
       "      <td>-0.076500</td>\n",
       "      <td>0.042289</td>\n",
       "      <td>0.107892</td>\n",
       "      <td>0.034785</td>\n",
       "      <td>0.073364</td>\n",
       "      <td>-0.082422</td>\n",
       "      <td>-0.048260</td>\n",
       "      <td>0.183953</td>\n",
       "      <td>-0.014784</td>\n",
       "      <td>0.040677</td>\n",
       "      <td>0.024779</td>\n",
       "      <td>0.002184</td>\n",
       "      <td>0.113057</td>\n",
       "      <td>1.000000</td>\n",
       "      <td>-0.055660</td>\n",
       "      <td>0.100980</td>\n",
       "      <td>0.057217</td>\n",
       "      <td>0.020924</td>\n",
       "    </tr>\n",
       "    <tr>\n",
       "      <th>16</th>\n",
       "      <td>-0.143799</td>\n",
       "      <td>0.040759</td>\n",
       "      <td>0.098150</td>\n",
       "      <td>0.120003</td>\n",
       "      <td>-0.034121</td>\n",
       "      <td>-0.017446</td>\n",
       "      <td>-0.049053</td>\n",
       "      <td>0.115605</td>\n",
       "      <td>-0.127329</td>\n",
       "      <td>-0.077702</td>\n",
       "      <td>-0.072562</td>\n",
       "      <td>-0.024341</td>\n",
       "      <td>-0.171422</td>\n",
       "      <td>0.119435</td>\n",
       "      <td>-0.109578</td>\n",
       "      <td>-0.055660</td>\n",
       "      <td>1.000000</td>\n",
       "      <td>-0.146900</td>\n",
       "      <td>-0.044562</td>\n",
       "      <td>0.074912</td>\n",
       "    </tr>\n",
       "    <tr>\n",
       "      <th>17</th>\n",
       "      <td>-0.088933</td>\n",
       "      <td>-0.112353</td>\n",
       "      <td>0.049944</td>\n",
       "      <td>-0.021204</td>\n",
       "      <td>-0.074995</td>\n",
       "      <td>-0.025080</td>\n",
       "      <td>-0.163623</td>\n",
       "      <td>-0.271533</td>\n",
       "      <td>-0.013608</td>\n",
       "      <td>0.129965</td>\n",
       "      <td>0.042172</td>\n",
       "      <td>0.001608</td>\n",
       "      <td>0.156399</td>\n",
       "      <td>-0.121819</td>\n",
       "      <td>-0.128252</td>\n",
       "      <td>0.100980</td>\n",
       "      <td>-0.146900</td>\n",
       "      <td>1.000000</td>\n",
       "      <td>-0.016236</td>\n",
       "      <td>0.065643</td>\n",
       "    </tr>\n",
       "    <tr>\n",
       "      <th>18</th>\n",
       "      <td>0.134237</td>\n",
       "      <td>-0.058980</td>\n",
       "      <td>-0.027335</td>\n",
       "      <td>-0.159526</td>\n",
       "      <td>-0.037652</td>\n",
       "      <td>0.042316</td>\n",
       "      <td>0.053028</td>\n",
       "      <td>-0.285803</td>\n",
       "      <td>0.111726</td>\n",
       "      <td>0.109297</td>\n",
       "      <td>-0.042557</td>\n",
       "      <td>0.182345</td>\n",
       "      <td>0.050355</td>\n",
       "      <td>-0.019511</td>\n",
       "      <td>0.130668</td>\n",
       "      <td>0.057217</td>\n",
       "      <td>-0.044562</td>\n",
       "      <td>-0.016236</td>\n",
       "      <td>1.000000</td>\n",
       "      <td>0.052406</td>\n",
       "    </tr>\n",
       "    <tr>\n",
       "      <th>19</th>\n",
       "      <td>0.082084</td>\n",
       "      <td>0.001684</td>\n",
       "      <td>-0.026813</td>\n",
       "      <td>0.015016</td>\n",
       "      <td>-0.051054</td>\n",
       "      <td>0.158593</td>\n",
       "      <td>0.116623</td>\n",
       "      <td>-0.092217</td>\n",
       "      <td>0.005402</td>\n",
       "      <td>-0.069252</td>\n",
       "      <td>-0.228384</td>\n",
       "      <td>0.043839</td>\n",
       "      <td>0.113035</td>\n",
       "      <td>0.024759</td>\n",
       "      <td>0.002496</td>\n",
       "      <td>0.020924</td>\n",
       "      <td>0.074912</td>\n",
       "      <td>0.065643</td>\n",
       "      <td>0.052406</td>\n",
       "      <td>1.000000</td>\n",
       "    </tr>\n",
       "  </tbody>\n",
       "</table>\n",
       "</div>"
      ],
      "text/plain": [
       "          0         1         2         3         4         5         6   \\\n",
       "0   1.000000  0.004548 -0.129191  0.026306  0.009072 -0.172230 -0.159638   \n",
       "1   0.004548  1.000000  0.114379 -0.003237 -0.071620  0.012699  0.028320   \n",
       "2  -0.129191  0.114379  1.000000  0.128799 -0.025503 -0.017215 -0.043973   \n",
       "3   0.026306 -0.003237  0.128799  1.000000 -0.269712 -0.075557  0.104791   \n",
       "4   0.009072 -0.071620 -0.025503 -0.269712  1.000000  0.108145 -0.132818   \n",
       "5  -0.172230  0.012699 -0.017215 -0.075557  0.108145  1.000000  0.029484   \n",
       "6  -0.159638  0.028320 -0.043973  0.104791 -0.132818  0.029484  1.000000   \n",
       "7   0.094057  0.041997 -0.050788  0.002972 -0.070478 -0.049503 -0.024925   \n",
       "8   0.043956 -0.002852 -0.127256 -0.013555  0.134867  0.011433 -0.033633   \n",
       "9  -0.076455  0.032839  0.094992  0.046317 -0.077725  0.112203  0.008165   \n",
       "10  0.084357 -0.013414  0.042806  0.213739 -0.076422 -0.006337 -0.074601   \n",
       "11  0.054632 -0.030318 -0.194916  0.041039 -0.168468  0.118695 -0.021824   \n",
       "12 -0.039641 -0.070530  0.188536 -0.093565  0.043386  0.142316  0.011373   \n",
       "13 -0.146794  0.107978 -0.089567 -0.073253  0.033541  0.148123  0.025203   \n",
       "14 -0.012493 -0.117359 -0.046992 -0.101853  0.135511  0.062823  0.064736   \n",
       "15 -0.092397 -0.035240 -0.076500  0.042289  0.107892  0.034785  0.073364   \n",
       "16 -0.143799  0.040759  0.098150  0.120003 -0.034121 -0.017446 -0.049053   \n",
       "17 -0.088933 -0.112353  0.049944 -0.021204 -0.074995 -0.025080 -0.163623   \n",
       "18  0.134237 -0.058980 -0.027335 -0.159526 -0.037652  0.042316  0.053028   \n",
       "19  0.082084  0.001684 -0.026813  0.015016 -0.051054  0.158593  0.116623   \n",
       "\n",
       "          7         8         9         10        11        12        13  \\\n",
       "0   0.094057  0.043956 -0.076455  0.084357  0.054632 -0.039641 -0.146794   \n",
       "1   0.041997 -0.002852  0.032839 -0.013414 -0.030318 -0.070530  0.107978   \n",
       "2  -0.050788 -0.127256  0.094992  0.042806 -0.194916  0.188536 -0.089567   \n",
       "3   0.002972 -0.013555  0.046317  0.213739  0.041039 -0.093565 -0.073253   \n",
       "4  -0.070478  0.134867 -0.077725 -0.076422 -0.168468  0.043386  0.033541   \n",
       "5  -0.049503  0.011433  0.112203 -0.006337  0.118695  0.142316  0.148123   \n",
       "6  -0.024925 -0.033633  0.008165 -0.074601 -0.021824  0.011373  0.025203   \n",
       "7   1.000000  0.009200  0.036454  0.088660  0.107441 -0.122975 -0.051254   \n",
       "8   0.009200  1.000000  0.167277 -0.058522  0.128626  0.084063 -0.029720   \n",
       "9   0.036454  0.167277  1.000000 -0.071686  0.073538 -0.067419 -0.007428   \n",
       "10  0.088660 -0.058522 -0.071686  1.000000  0.003966 -0.028078 -0.058442   \n",
       "11  0.107441  0.128626  0.073538  0.003966  1.000000 -0.144428 -0.023368   \n",
       "12 -0.122975  0.084063 -0.067419 -0.028078 -0.144428  1.000000 -0.066726   \n",
       "13 -0.051254 -0.029720 -0.007428 -0.058442 -0.023368 -0.066726  1.000000   \n",
       "14  0.057023 -0.031667  0.154910 -0.165359  0.051117  0.174145  0.170635   \n",
       "15 -0.082422 -0.048260  0.183953 -0.014784  0.040677  0.024779  0.002184   \n",
       "16  0.115605 -0.127329 -0.077702 -0.072562 -0.024341 -0.171422  0.119435   \n",
       "17 -0.271533 -0.013608  0.129965  0.042172  0.001608  0.156399 -0.121819   \n",
       "18 -0.285803  0.111726  0.109297 -0.042557  0.182345  0.050355 -0.019511   \n",
       "19 -0.092217  0.005402 -0.069252 -0.228384  0.043839  0.113035  0.024759   \n",
       "\n",
       "          14        15        16        17        18        19  \n",
       "0  -0.012493 -0.092397 -0.143799 -0.088933  0.134237  0.082084  \n",
       "1  -0.117359 -0.035240  0.040759 -0.112353 -0.058980  0.001684  \n",
       "2  -0.046992 -0.076500  0.098150  0.049944 -0.027335 -0.026813  \n",
       "3  -0.101853  0.042289  0.120003 -0.021204 -0.159526  0.015016  \n",
       "4   0.135511  0.107892 -0.034121 -0.074995 -0.037652 -0.051054  \n",
       "5   0.062823  0.034785 -0.017446 -0.025080  0.042316  0.158593  \n",
       "6   0.064736  0.073364 -0.049053 -0.163623  0.053028  0.116623  \n",
       "7   0.057023 -0.082422  0.115605 -0.271533 -0.285803 -0.092217  \n",
       "8  -0.031667 -0.048260 -0.127329 -0.013608  0.111726  0.005402  \n",
       "9   0.154910  0.183953 -0.077702  0.129965  0.109297 -0.069252  \n",
       "10 -0.165359 -0.014784 -0.072562  0.042172 -0.042557 -0.228384  \n",
       "11  0.051117  0.040677 -0.024341  0.001608  0.182345  0.043839  \n",
       "12  0.174145  0.024779 -0.171422  0.156399  0.050355  0.113035  \n",
       "13  0.170635  0.002184  0.119435 -0.121819 -0.019511  0.024759  \n",
       "14  1.000000  0.113057 -0.109578 -0.128252  0.130668  0.002496  \n",
       "15  0.113057  1.000000 -0.055660  0.100980  0.057217  0.020924  \n",
       "16 -0.109578 -0.055660  1.000000 -0.146900 -0.044562  0.074912  \n",
       "17 -0.128252  0.100980 -0.146900  1.000000 -0.016236  0.065643  \n",
       "18  0.130668  0.057217 -0.044562 -0.016236  1.000000  0.052406  \n",
       "19  0.002496  0.020924  0.074912  0.065643  0.052406  1.000000  "
      ]
     },
     "execution_count": 16,
     "metadata": {},
     "output_type": "execute_result"
    }
   ],
   "source": [
    "df.corr()"
   ]
  },
  {
   "cell_type": "code",
   "execution_count": 19,
   "id": "0db5d79a",
   "metadata": {},
   "outputs": [],
   "source": [
    "from sklearn.linear_model import LinearRegression, Ridge, Lasso"
   ]
  },
  {
   "cell_type": "code",
   "execution_count": 21,
   "id": "1ee178e7",
   "metadata": {},
   "outputs": [],
   "source": [
    "from sklearn.model_selection import train_test_split"
   ]
  },
  {
   "cell_type": "code",
   "execution_count": 22,
   "id": "2f1e3c23",
   "metadata": {},
   "outputs": [],
   "source": [
    "X_train, X_test, y_train, y_test = train_test_split(X, y, test_size=0.2, random_state=42)"
   ]
  },
  {
   "cell_type": "code",
   "execution_count": 20,
   "id": "3e2e87c6",
   "metadata": {},
   "outputs": [],
   "source": [
    "LRM = LinearRegression()"
   ]
  },
  {
   "cell_type": "code",
   "execution_count": 23,
   "id": "eee4f90d",
   "metadata": {},
   "outputs": [
    {
     "data": {
      "text/html": [
       "<style>#sk-container-id-1 {color: black;}#sk-container-id-1 pre{padding: 0;}#sk-container-id-1 div.sk-toggleable {background-color: white;}#sk-container-id-1 label.sk-toggleable__label {cursor: pointer;display: block;width: 100%;margin-bottom: 0;padding: 0.3em;box-sizing: border-box;text-align: center;}#sk-container-id-1 label.sk-toggleable__label-arrow:before {content: \"▸\";float: left;margin-right: 0.25em;color: #696969;}#sk-container-id-1 label.sk-toggleable__label-arrow:hover:before {color: black;}#sk-container-id-1 div.sk-estimator:hover label.sk-toggleable__label-arrow:before {color: black;}#sk-container-id-1 div.sk-toggleable__content {max-height: 0;max-width: 0;overflow: hidden;text-align: left;background-color: #f0f8ff;}#sk-container-id-1 div.sk-toggleable__content pre {margin: 0.2em;color: black;border-radius: 0.25em;background-color: #f0f8ff;}#sk-container-id-1 input.sk-toggleable__control:checked~div.sk-toggleable__content {max-height: 200px;max-width: 100%;overflow: auto;}#sk-container-id-1 input.sk-toggleable__control:checked~label.sk-toggleable__label-arrow:before {content: \"▾\";}#sk-container-id-1 div.sk-estimator input.sk-toggleable__control:checked~label.sk-toggleable__label {background-color: #d4ebff;}#sk-container-id-1 div.sk-label input.sk-toggleable__control:checked~label.sk-toggleable__label {background-color: #d4ebff;}#sk-container-id-1 input.sk-hidden--visually {border: 0;clip: rect(1px 1px 1px 1px);clip: rect(1px, 1px, 1px, 1px);height: 1px;margin: -1px;overflow: hidden;padding: 0;position: absolute;width: 1px;}#sk-container-id-1 div.sk-estimator {font-family: monospace;background-color: #f0f8ff;border: 1px dotted black;border-radius: 0.25em;box-sizing: border-box;margin-bottom: 0.5em;}#sk-container-id-1 div.sk-estimator:hover {background-color: #d4ebff;}#sk-container-id-1 div.sk-parallel-item::after {content: \"\";width: 100%;border-bottom: 1px solid gray;flex-grow: 1;}#sk-container-id-1 div.sk-label:hover label.sk-toggleable__label {background-color: #d4ebff;}#sk-container-id-1 div.sk-serial::before {content: \"\";position: absolute;border-left: 1px solid gray;box-sizing: border-box;top: 0;bottom: 0;left: 50%;z-index: 0;}#sk-container-id-1 div.sk-serial {display: flex;flex-direction: column;align-items: center;background-color: white;padding-right: 0.2em;padding-left: 0.2em;position: relative;}#sk-container-id-1 div.sk-item {position: relative;z-index: 1;}#sk-container-id-1 div.sk-parallel {display: flex;align-items: stretch;justify-content: center;background-color: white;position: relative;}#sk-container-id-1 div.sk-item::before, #sk-container-id-1 div.sk-parallel-item::before {content: \"\";position: absolute;border-left: 1px solid gray;box-sizing: border-box;top: 0;bottom: 0;left: 50%;z-index: -1;}#sk-container-id-1 div.sk-parallel-item {display: flex;flex-direction: column;z-index: 1;position: relative;background-color: white;}#sk-container-id-1 div.sk-parallel-item:first-child::after {align-self: flex-end;width: 50%;}#sk-container-id-1 div.sk-parallel-item:last-child::after {align-self: flex-start;width: 50%;}#sk-container-id-1 div.sk-parallel-item:only-child::after {width: 0;}#sk-container-id-1 div.sk-dashed-wrapped {border: 1px dashed gray;margin: 0 0.4em 0.5em 0.4em;box-sizing: border-box;padding-bottom: 0.4em;background-color: white;}#sk-container-id-1 div.sk-label label {font-family: monospace;font-weight: bold;display: inline-block;line-height: 1.2em;}#sk-container-id-1 div.sk-label-container {text-align: center;}#sk-container-id-1 div.sk-container {/* jupyter's `normalize.less` sets `[hidden] { display: none; }` but bootstrap.min.css set `[hidden] { display: none !important; }` so we also need the `!important` here to be able to override the default hidden behavior on the sphinx rendered scikit-learn.org. See: https://github.com/scikit-learn/scikit-learn/issues/21755 */display: inline-block !important;position: relative;}#sk-container-id-1 div.sk-text-repr-fallback {display: none;}</style><div id=\"sk-container-id-1\" class=\"sk-top-container\"><div class=\"sk-text-repr-fallback\"><pre>LinearRegression()</pre><b>In a Jupyter environment, please rerun this cell to show the HTML representation or trust the notebook. <br />On GitHub, the HTML representation is unable to render, please try loading this page with nbviewer.org.</b></div><div class=\"sk-container\" hidden><div class=\"sk-item\"><div class=\"sk-estimator sk-toggleable\"><input class=\"sk-toggleable__control sk-hidden--visually\" id=\"sk-estimator-id-1\" type=\"checkbox\" checked><label for=\"sk-estimator-id-1\" class=\"sk-toggleable__label sk-toggleable__label-arrow\">LinearRegression</label><div class=\"sk-toggleable__content\"><pre>LinearRegression()</pre></div></div></div></div></div>"
      ],
      "text/plain": [
       "LinearRegression()"
      ]
     },
     "execution_count": 23,
     "metadata": {},
     "output_type": "execute_result"
    }
   ],
   "source": [
    "LRM.fit(X_train, y_train)"
   ]
  },
  {
   "cell_type": "code",
   "execution_count": 37,
   "id": "80180c0a",
   "metadata": {},
   "outputs": [
    {
     "data": {
      "text/plain": [
       "0.9909439489679167"
      ]
     },
     "execution_count": 37,
     "metadata": {},
     "output_type": "execute_result"
    }
   ],
   "source": [
    "LRM.score(X_test, y_test)"
   ]
  },
  {
   "cell_type": "code",
   "execution_count": 25,
   "id": "d223e4a3",
   "metadata": {},
   "outputs": [],
   "source": [
    "R = Ridge(random_state=1)"
   ]
  },
  {
   "cell_type": "code",
   "execution_count": 26,
   "id": "b1baeccb",
   "metadata": {},
   "outputs": [
    {
     "data": {
      "text/html": [
       "<style>#sk-container-id-2 {color: black;}#sk-container-id-2 pre{padding: 0;}#sk-container-id-2 div.sk-toggleable {background-color: white;}#sk-container-id-2 label.sk-toggleable__label {cursor: pointer;display: block;width: 100%;margin-bottom: 0;padding: 0.3em;box-sizing: border-box;text-align: center;}#sk-container-id-2 label.sk-toggleable__label-arrow:before {content: \"▸\";float: left;margin-right: 0.25em;color: #696969;}#sk-container-id-2 label.sk-toggleable__label-arrow:hover:before {color: black;}#sk-container-id-2 div.sk-estimator:hover label.sk-toggleable__label-arrow:before {color: black;}#sk-container-id-2 div.sk-toggleable__content {max-height: 0;max-width: 0;overflow: hidden;text-align: left;background-color: #f0f8ff;}#sk-container-id-2 div.sk-toggleable__content pre {margin: 0.2em;color: black;border-radius: 0.25em;background-color: #f0f8ff;}#sk-container-id-2 input.sk-toggleable__control:checked~div.sk-toggleable__content {max-height: 200px;max-width: 100%;overflow: auto;}#sk-container-id-2 input.sk-toggleable__control:checked~label.sk-toggleable__label-arrow:before {content: \"▾\";}#sk-container-id-2 div.sk-estimator input.sk-toggleable__control:checked~label.sk-toggleable__label {background-color: #d4ebff;}#sk-container-id-2 div.sk-label input.sk-toggleable__control:checked~label.sk-toggleable__label {background-color: #d4ebff;}#sk-container-id-2 input.sk-hidden--visually {border: 0;clip: rect(1px 1px 1px 1px);clip: rect(1px, 1px, 1px, 1px);height: 1px;margin: -1px;overflow: hidden;padding: 0;position: absolute;width: 1px;}#sk-container-id-2 div.sk-estimator {font-family: monospace;background-color: #f0f8ff;border: 1px dotted black;border-radius: 0.25em;box-sizing: border-box;margin-bottom: 0.5em;}#sk-container-id-2 div.sk-estimator:hover {background-color: #d4ebff;}#sk-container-id-2 div.sk-parallel-item::after {content: \"\";width: 100%;border-bottom: 1px solid gray;flex-grow: 1;}#sk-container-id-2 div.sk-label:hover label.sk-toggleable__label {background-color: #d4ebff;}#sk-container-id-2 div.sk-serial::before {content: \"\";position: absolute;border-left: 1px solid gray;box-sizing: border-box;top: 0;bottom: 0;left: 50%;z-index: 0;}#sk-container-id-2 div.sk-serial {display: flex;flex-direction: column;align-items: center;background-color: white;padding-right: 0.2em;padding-left: 0.2em;position: relative;}#sk-container-id-2 div.sk-item {position: relative;z-index: 1;}#sk-container-id-2 div.sk-parallel {display: flex;align-items: stretch;justify-content: center;background-color: white;position: relative;}#sk-container-id-2 div.sk-item::before, #sk-container-id-2 div.sk-parallel-item::before {content: \"\";position: absolute;border-left: 1px solid gray;box-sizing: border-box;top: 0;bottom: 0;left: 50%;z-index: -1;}#sk-container-id-2 div.sk-parallel-item {display: flex;flex-direction: column;z-index: 1;position: relative;background-color: white;}#sk-container-id-2 div.sk-parallel-item:first-child::after {align-self: flex-end;width: 50%;}#sk-container-id-2 div.sk-parallel-item:last-child::after {align-self: flex-start;width: 50%;}#sk-container-id-2 div.sk-parallel-item:only-child::after {width: 0;}#sk-container-id-2 div.sk-dashed-wrapped {border: 1px dashed gray;margin: 0 0.4em 0.5em 0.4em;box-sizing: border-box;padding-bottom: 0.4em;background-color: white;}#sk-container-id-2 div.sk-label label {font-family: monospace;font-weight: bold;display: inline-block;line-height: 1.2em;}#sk-container-id-2 div.sk-label-container {text-align: center;}#sk-container-id-2 div.sk-container {/* jupyter's `normalize.less` sets `[hidden] { display: none; }` but bootstrap.min.css set `[hidden] { display: none !important; }` so we also need the `!important` here to be able to override the default hidden behavior on the sphinx rendered scikit-learn.org. See: https://github.com/scikit-learn/scikit-learn/issues/21755 */display: inline-block !important;position: relative;}#sk-container-id-2 div.sk-text-repr-fallback {display: none;}</style><div id=\"sk-container-id-2\" class=\"sk-top-container\"><div class=\"sk-text-repr-fallback\"><pre>Ridge(random_state=1)</pre><b>In a Jupyter environment, please rerun this cell to show the HTML representation or trust the notebook. <br />On GitHub, the HTML representation is unable to render, please try loading this page with nbviewer.org.</b></div><div class=\"sk-container\" hidden><div class=\"sk-item\"><div class=\"sk-estimator sk-toggleable\"><input class=\"sk-toggleable__control sk-hidden--visually\" id=\"sk-estimator-id-2\" type=\"checkbox\" checked><label for=\"sk-estimator-id-2\" class=\"sk-toggleable__label sk-toggleable__label-arrow\">Ridge</label><div class=\"sk-toggleable__content\"><pre>Ridge(random_state=1)</pre></div></div></div></div></div>"
      ],
      "text/plain": [
       "Ridge(random_state=1)"
      ]
     },
     "execution_count": 26,
     "metadata": {},
     "output_type": "execute_result"
    }
   ],
   "source": [
    "R.fit(X_train, y_train)"
   ]
  },
  {
   "cell_type": "code",
   "execution_count": 36,
   "id": "48158c23",
   "metadata": {},
   "outputs": [
    {
     "data": {
      "text/plain": [
       "0.9904789221938927"
      ]
     },
     "execution_count": 36,
     "metadata": {},
     "output_type": "execute_result"
    }
   ],
   "source": [
    "R.score(X_test, y_test)"
   ]
  },
  {
   "cell_type": "code",
   "execution_count": 28,
   "id": "fb1ff5e4",
   "metadata": {},
   "outputs": [],
   "source": [
    "L = Lasso()"
   ]
  },
  {
   "cell_type": "code",
   "execution_count": 29,
   "id": "9ea8cc29",
   "metadata": {},
   "outputs": [
    {
     "data": {
      "text/html": [
       "<style>#sk-container-id-3 {color: black;}#sk-container-id-3 pre{padding: 0;}#sk-container-id-3 div.sk-toggleable {background-color: white;}#sk-container-id-3 label.sk-toggleable__label {cursor: pointer;display: block;width: 100%;margin-bottom: 0;padding: 0.3em;box-sizing: border-box;text-align: center;}#sk-container-id-3 label.sk-toggleable__label-arrow:before {content: \"▸\";float: left;margin-right: 0.25em;color: #696969;}#sk-container-id-3 label.sk-toggleable__label-arrow:hover:before {color: black;}#sk-container-id-3 div.sk-estimator:hover label.sk-toggleable__label-arrow:before {color: black;}#sk-container-id-3 div.sk-toggleable__content {max-height: 0;max-width: 0;overflow: hidden;text-align: left;background-color: #f0f8ff;}#sk-container-id-3 div.sk-toggleable__content pre {margin: 0.2em;color: black;border-radius: 0.25em;background-color: #f0f8ff;}#sk-container-id-3 input.sk-toggleable__control:checked~div.sk-toggleable__content {max-height: 200px;max-width: 100%;overflow: auto;}#sk-container-id-3 input.sk-toggleable__control:checked~label.sk-toggleable__label-arrow:before {content: \"▾\";}#sk-container-id-3 div.sk-estimator input.sk-toggleable__control:checked~label.sk-toggleable__label {background-color: #d4ebff;}#sk-container-id-3 div.sk-label input.sk-toggleable__control:checked~label.sk-toggleable__label {background-color: #d4ebff;}#sk-container-id-3 input.sk-hidden--visually {border: 0;clip: rect(1px 1px 1px 1px);clip: rect(1px, 1px, 1px, 1px);height: 1px;margin: -1px;overflow: hidden;padding: 0;position: absolute;width: 1px;}#sk-container-id-3 div.sk-estimator {font-family: monospace;background-color: #f0f8ff;border: 1px dotted black;border-radius: 0.25em;box-sizing: border-box;margin-bottom: 0.5em;}#sk-container-id-3 div.sk-estimator:hover {background-color: #d4ebff;}#sk-container-id-3 div.sk-parallel-item::after {content: \"\";width: 100%;border-bottom: 1px solid gray;flex-grow: 1;}#sk-container-id-3 div.sk-label:hover label.sk-toggleable__label {background-color: #d4ebff;}#sk-container-id-3 div.sk-serial::before {content: \"\";position: absolute;border-left: 1px solid gray;box-sizing: border-box;top: 0;bottom: 0;left: 50%;z-index: 0;}#sk-container-id-3 div.sk-serial {display: flex;flex-direction: column;align-items: center;background-color: white;padding-right: 0.2em;padding-left: 0.2em;position: relative;}#sk-container-id-3 div.sk-item {position: relative;z-index: 1;}#sk-container-id-3 div.sk-parallel {display: flex;align-items: stretch;justify-content: center;background-color: white;position: relative;}#sk-container-id-3 div.sk-item::before, #sk-container-id-3 div.sk-parallel-item::before {content: \"\";position: absolute;border-left: 1px solid gray;box-sizing: border-box;top: 0;bottom: 0;left: 50%;z-index: -1;}#sk-container-id-3 div.sk-parallel-item {display: flex;flex-direction: column;z-index: 1;position: relative;background-color: white;}#sk-container-id-3 div.sk-parallel-item:first-child::after {align-self: flex-end;width: 50%;}#sk-container-id-3 div.sk-parallel-item:last-child::after {align-self: flex-start;width: 50%;}#sk-container-id-3 div.sk-parallel-item:only-child::after {width: 0;}#sk-container-id-3 div.sk-dashed-wrapped {border: 1px dashed gray;margin: 0 0.4em 0.5em 0.4em;box-sizing: border-box;padding-bottom: 0.4em;background-color: white;}#sk-container-id-3 div.sk-label label {font-family: monospace;font-weight: bold;display: inline-block;line-height: 1.2em;}#sk-container-id-3 div.sk-label-container {text-align: center;}#sk-container-id-3 div.sk-container {/* jupyter's `normalize.less` sets `[hidden] { display: none; }` but bootstrap.min.css set `[hidden] { display: none !important; }` so we also need the `!important` here to be able to override the default hidden behavior on the sphinx rendered scikit-learn.org. See: https://github.com/scikit-learn/scikit-learn/issues/21755 */display: inline-block !important;position: relative;}#sk-container-id-3 div.sk-text-repr-fallback {display: none;}</style><div id=\"sk-container-id-3\" class=\"sk-top-container\"><div class=\"sk-text-repr-fallback\"><pre>Lasso()</pre><b>In a Jupyter environment, please rerun this cell to show the HTML representation or trust the notebook. <br />On GitHub, the HTML representation is unable to render, please try loading this page with nbviewer.org.</b></div><div class=\"sk-container\" hidden><div class=\"sk-item\"><div class=\"sk-estimator sk-toggleable\"><input class=\"sk-toggleable__control sk-hidden--visually\" id=\"sk-estimator-id-3\" type=\"checkbox\" checked><label for=\"sk-estimator-id-3\" class=\"sk-toggleable__label sk-toggleable__label-arrow\">Lasso</label><div class=\"sk-toggleable__content\"><pre>Lasso()</pre></div></div></div></div></div>"
      ],
      "text/plain": [
       "Lasso()"
      ]
     },
     "execution_count": 29,
     "metadata": {},
     "output_type": "execute_result"
    }
   ],
   "source": [
    "L.fit(X_train, y_train)"
   ]
  },
  {
   "cell_type": "code",
   "execution_count": 35,
   "id": "df8dc85b",
   "metadata": {},
   "outputs": [
    {
     "data": {
      "text/plain": [
       "0.9908831106194036"
      ]
     },
     "execution_count": 35,
     "metadata": {},
     "output_type": "execute_result"
    }
   ],
   "source": [
    "L.score(X_test, y_test)"
   ]
  },
  {
   "cell_type": "code",
   "execution_count": null,
   "id": "c9bdc610",
   "metadata": {},
   "outputs": [],
   "source": []
  },
  {
   "cell_type": "code",
   "execution_count": 40,
   "id": "c8544d8e",
   "metadata": {},
   "outputs": [],
   "source": [
    "from sklearn.pipeline import make_pipeline\n",
    "from sklearn.preprocessing import StandardScaler"
   ]
  },
  {
   "cell_type": "code",
   "execution_count": 41,
   "id": "0e9695ca",
   "metadata": {},
   "outputs": [],
   "source": [
    "sLRM = make_pipeline(\n",
    "    StandardScaler(),\n",
    "    LinearRegression()\n",
    ")"
   ]
  },
  {
   "cell_type": "code",
   "execution_count": 42,
   "id": "77a1f6f0",
   "metadata": {},
   "outputs": [
    {
     "data": {
      "text/html": [
       "<style>#sk-container-id-4 {color: black;}#sk-container-id-4 pre{padding: 0;}#sk-container-id-4 div.sk-toggleable {background-color: white;}#sk-container-id-4 label.sk-toggleable__label {cursor: pointer;display: block;width: 100%;margin-bottom: 0;padding: 0.3em;box-sizing: border-box;text-align: center;}#sk-container-id-4 label.sk-toggleable__label-arrow:before {content: \"▸\";float: left;margin-right: 0.25em;color: #696969;}#sk-container-id-4 label.sk-toggleable__label-arrow:hover:before {color: black;}#sk-container-id-4 div.sk-estimator:hover label.sk-toggleable__label-arrow:before {color: black;}#sk-container-id-4 div.sk-toggleable__content {max-height: 0;max-width: 0;overflow: hidden;text-align: left;background-color: #f0f8ff;}#sk-container-id-4 div.sk-toggleable__content pre {margin: 0.2em;color: black;border-radius: 0.25em;background-color: #f0f8ff;}#sk-container-id-4 input.sk-toggleable__control:checked~div.sk-toggleable__content {max-height: 200px;max-width: 100%;overflow: auto;}#sk-container-id-4 input.sk-toggleable__control:checked~label.sk-toggleable__label-arrow:before {content: \"▾\";}#sk-container-id-4 div.sk-estimator input.sk-toggleable__control:checked~label.sk-toggleable__label {background-color: #d4ebff;}#sk-container-id-4 div.sk-label input.sk-toggleable__control:checked~label.sk-toggleable__label {background-color: #d4ebff;}#sk-container-id-4 input.sk-hidden--visually {border: 0;clip: rect(1px 1px 1px 1px);clip: rect(1px, 1px, 1px, 1px);height: 1px;margin: -1px;overflow: hidden;padding: 0;position: absolute;width: 1px;}#sk-container-id-4 div.sk-estimator {font-family: monospace;background-color: #f0f8ff;border: 1px dotted black;border-radius: 0.25em;box-sizing: border-box;margin-bottom: 0.5em;}#sk-container-id-4 div.sk-estimator:hover {background-color: #d4ebff;}#sk-container-id-4 div.sk-parallel-item::after {content: \"\";width: 100%;border-bottom: 1px solid gray;flex-grow: 1;}#sk-container-id-4 div.sk-label:hover label.sk-toggleable__label {background-color: #d4ebff;}#sk-container-id-4 div.sk-serial::before {content: \"\";position: absolute;border-left: 1px solid gray;box-sizing: border-box;top: 0;bottom: 0;left: 50%;z-index: 0;}#sk-container-id-4 div.sk-serial {display: flex;flex-direction: column;align-items: center;background-color: white;padding-right: 0.2em;padding-left: 0.2em;position: relative;}#sk-container-id-4 div.sk-item {position: relative;z-index: 1;}#sk-container-id-4 div.sk-parallel {display: flex;align-items: stretch;justify-content: center;background-color: white;position: relative;}#sk-container-id-4 div.sk-item::before, #sk-container-id-4 div.sk-parallel-item::before {content: \"\";position: absolute;border-left: 1px solid gray;box-sizing: border-box;top: 0;bottom: 0;left: 50%;z-index: -1;}#sk-container-id-4 div.sk-parallel-item {display: flex;flex-direction: column;z-index: 1;position: relative;background-color: white;}#sk-container-id-4 div.sk-parallel-item:first-child::after {align-self: flex-end;width: 50%;}#sk-container-id-4 div.sk-parallel-item:last-child::after {align-self: flex-start;width: 50%;}#sk-container-id-4 div.sk-parallel-item:only-child::after {width: 0;}#sk-container-id-4 div.sk-dashed-wrapped {border: 1px dashed gray;margin: 0 0.4em 0.5em 0.4em;box-sizing: border-box;padding-bottom: 0.4em;background-color: white;}#sk-container-id-4 div.sk-label label {font-family: monospace;font-weight: bold;display: inline-block;line-height: 1.2em;}#sk-container-id-4 div.sk-label-container {text-align: center;}#sk-container-id-4 div.sk-container {/* jupyter's `normalize.less` sets `[hidden] { display: none; }` but bootstrap.min.css set `[hidden] { display: none !important; }` so we also need the `!important` here to be able to override the default hidden behavior on the sphinx rendered scikit-learn.org. See: https://github.com/scikit-learn/scikit-learn/issues/21755 */display: inline-block !important;position: relative;}#sk-container-id-4 div.sk-text-repr-fallback {display: none;}</style><div id=\"sk-container-id-4\" class=\"sk-top-container\"><div class=\"sk-text-repr-fallback\"><pre>Pipeline(steps=[(&#x27;standardscaler&#x27;, StandardScaler()),\n",
       "                (&#x27;linearregression&#x27;, LinearRegression())])</pre><b>In a Jupyter environment, please rerun this cell to show the HTML representation or trust the notebook. <br />On GitHub, the HTML representation is unable to render, please try loading this page with nbviewer.org.</b></div><div class=\"sk-container\" hidden><div class=\"sk-item sk-dashed-wrapped\"><div class=\"sk-label-container\"><div class=\"sk-label sk-toggleable\"><input class=\"sk-toggleable__control sk-hidden--visually\" id=\"sk-estimator-id-4\" type=\"checkbox\" ><label for=\"sk-estimator-id-4\" class=\"sk-toggleable__label sk-toggleable__label-arrow\">Pipeline</label><div class=\"sk-toggleable__content\"><pre>Pipeline(steps=[(&#x27;standardscaler&#x27;, StandardScaler()),\n",
       "                (&#x27;linearregression&#x27;, LinearRegression())])</pre></div></div></div><div class=\"sk-serial\"><div class=\"sk-item\"><div class=\"sk-estimator sk-toggleable\"><input class=\"sk-toggleable__control sk-hidden--visually\" id=\"sk-estimator-id-5\" type=\"checkbox\" ><label for=\"sk-estimator-id-5\" class=\"sk-toggleable__label sk-toggleable__label-arrow\">StandardScaler</label><div class=\"sk-toggleable__content\"><pre>StandardScaler()</pre></div></div></div><div class=\"sk-item\"><div class=\"sk-estimator sk-toggleable\"><input class=\"sk-toggleable__control sk-hidden--visually\" id=\"sk-estimator-id-6\" type=\"checkbox\" ><label for=\"sk-estimator-id-6\" class=\"sk-toggleable__label sk-toggleable__label-arrow\">LinearRegression</label><div class=\"sk-toggleable__content\"><pre>LinearRegression()</pre></div></div></div></div></div></div></div>"
      ],
      "text/plain": [
       "Pipeline(steps=[('standardscaler', StandardScaler()),\n",
       "                ('linearregression', LinearRegression())])"
      ]
     },
     "execution_count": 42,
     "metadata": {},
     "output_type": "execute_result"
    }
   ],
   "source": [
    "sLRM.fit(X_train, y_train)"
   ]
  },
  {
   "cell_type": "code",
   "execution_count": 43,
   "id": "46a74125",
   "metadata": {},
   "outputs": [
    {
     "data": {
      "text/plain": [
       "0.9909439489679167"
      ]
     },
     "execution_count": 43,
     "metadata": {},
     "output_type": "execute_result"
    }
   ],
   "source": [
    "sLRM.score(X_test, y_test)"
   ]
  },
  {
   "cell_type": "code",
   "execution_count": 44,
   "id": "6861e345",
   "metadata": {},
   "outputs": [],
   "source": [
    "sR = make_pipeline(\n",
    "    StandardScaler(),\n",
    "    Ridge(random_state=1)\n",
    ")"
   ]
  },
  {
   "cell_type": "code",
   "execution_count": 45,
   "id": "29cbdeb6",
   "metadata": {},
   "outputs": [
    {
     "data": {
      "text/html": [
       "<style>#sk-container-id-5 {color: black;}#sk-container-id-5 pre{padding: 0;}#sk-container-id-5 div.sk-toggleable {background-color: white;}#sk-container-id-5 label.sk-toggleable__label {cursor: pointer;display: block;width: 100%;margin-bottom: 0;padding: 0.3em;box-sizing: border-box;text-align: center;}#sk-container-id-5 label.sk-toggleable__label-arrow:before {content: \"▸\";float: left;margin-right: 0.25em;color: #696969;}#sk-container-id-5 label.sk-toggleable__label-arrow:hover:before {color: black;}#sk-container-id-5 div.sk-estimator:hover label.sk-toggleable__label-arrow:before {color: black;}#sk-container-id-5 div.sk-toggleable__content {max-height: 0;max-width: 0;overflow: hidden;text-align: left;background-color: #f0f8ff;}#sk-container-id-5 div.sk-toggleable__content pre {margin: 0.2em;color: black;border-radius: 0.25em;background-color: #f0f8ff;}#sk-container-id-5 input.sk-toggleable__control:checked~div.sk-toggleable__content {max-height: 200px;max-width: 100%;overflow: auto;}#sk-container-id-5 input.sk-toggleable__control:checked~label.sk-toggleable__label-arrow:before {content: \"▾\";}#sk-container-id-5 div.sk-estimator input.sk-toggleable__control:checked~label.sk-toggleable__label {background-color: #d4ebff;}#sk-container-id-5 div.sk-label input.sk-toggleable__control:checked~label.sk-toggleable__label {background-color: #d4ebff;}#sk-container-id-5 input.sk-hidden--visually {border: 0;clip: rect(1px 1px 1px 1px);clip: rect(1px, 1px, 1px, 1px);height: 1px;margin: -1px;overflow: hidden;padding: 0;position: absolute;width: 1px;}#sk-container-id-5 div.sk-estimator {font-family: monospace;background-color: #f0f8ff;border: 1px dotted black;border-radius: 0.25em;box-sizing: border-box;margin-bottom: 0.5em;}#sk-container-id-5 div.sk-estimator:hover {background-color: #d4ebff;}#sk-container-id-5 div.sk-parallel-item::after {content: \"\";width: 100%;border-bottom: 1px solid gray;flex-grow: 1;}#sk-container-id-5 div.sk-label:hover label.sk-toggleable__label {background-color: #d4ebff;}#sk-container-id-5 div.sk-serial::before {content: \"\";position: absolute;border-left: 1px solid gray;box-sizing: border-box;top: 0;bottom: 0;left: 50%;z-index: 0;}#sk-container-id-5 div.sk-serial {display: flex;flex-direction: column;align-items: center;background-color: white;padding-right: 0.2em;padding-left: 0.2em;position: relative;}#sk-container-id-5 div.sk-item {position: relative;z-index: 1;}#sk-container-id-5 div.sk-parallel {display: flex;align-items: stretch;justify-content: center;background-color: white;position: relative;}#sk-container-id-5 div.sk-item::before, #sk-container-id-5 div.sk-parallel-item::before {content: \"\";position: absolute;border-left: 1px solid gray;box-sizing: border-box;top: 0;bottom: 0;left: 50%;z-index: -1;}#sk-container-id-5 div.sk-parallel-item {display: flex;flex-direction: column;z-index: 1;position: relative;background-color: white;}#sk-container-id-5 div.sk-parallel-item:first-child::after {align-self: flex-end;width: 50%;}#sk-container-id-5 div.sk-parallel-item:last-child::after {align-self: flex-start;width: 50%;}#sk-container-id-5 div.sk-parallel-item:only-child::after {width: 0;}#sk-container-id-5 div.sk-dashed-wrapped {border: 1px dashed gray;margin: 0 0.4em 0.5em 0.4em;box-sizing: border-box;padding-bottom: 0.4em;background-color: white;}#sk-container-id-5 div.sk-label label {font-family: monospace;font-weight: bold;display: inline-block;line-height: 1.2em;}#sk-container-id-5 div.sk-label-container {text-align: center;}#sk-container-id-5 div.sk-container {/* jupyter's `normalize.less` sets `[hidden] { display: none; }` but bootstrap.min.css set `[hidden] { display: none !important; }` so we also need the `!important` here to be able to override the default hidden behavior on the sphinx rendered scikit-learn.org. See: https://github.com/scikit-learn/scikit-learn/issues/21755 */display: inline-block !important;position: relative;}#sk-container-id-5 div.sk-text-repr-fallback {display: none;}</style><div id=\"sk-container-id-5\" class=\"sk-top-container\"><div class=\"sk-text-repr-fallback\"><pre>Pipeline(steps=[(&#x27;standardscaler&#x27;, StandardScaler()),\n",
       "                (&#x27;ridge&#x27;, Ridge(random_state=1))])</pre><b>In a Jupyter environment, please rerun this cell to show the HTML representation or trust the notebook. <br />On GitHub, the HTML representation is unable to render, please try loading this page with nbviewer.org.</b></div><div class=\"sk-container\" hidden><div class=\"sk-item sk-dashed-wrapped\"><div class=\"sk-label-container\"><div class=\"sk-label sk-toggleable\"><input class=\"sk-toggleable__control sk-hidden--visually\" id=\"sk-estimator-id-7\" type=\"checkbox\" ><label for=\"sk-estimator-id-7\" class=\"sk-toggleable__label sk-toggleable__label-arrow\">Pipeline</label><div class=\"sk-toggleable__content\"><pre>Pipeline(steps=[(&#x27;standardscaler&#x27;, StandardScaler()),\n",
       "                (&#x27;ridge&#x27;, Ridge(random_state=1))])</pre></div></div></div><div class=\"sk-serial\"><div class=\"sk-item\"><div class=\"sk-estimator sk-toggleable\"><input class=\"sk-toggleable__control sk-hidden--visually\" id=\"sk-estimator-id-8\" type=\"checkbox\" ><label for=\"sk-estimator-id-8\" class=\"sk-toggleable__label sk-toggleable__label-arrow\">StandardScaler</label><div class=\"sk-toggleable__content\"><pre>StandardScaler()</pre></div></div></div><div class=\"sk-item\"><div class=\"sk-estimator sk-toggleable\"><input class=\"sk-toggleable__control sk-hidden--visually\" id=\"sk-estimator-id-9\" type=\"checkbox\" ><label for=\"sk-estimator-id-9\" class=\"sk-toggleable__label sk-toggleable__label-arrow\">Ridge</label><div class=\"sk-toggleable__content\"><pre>Ridge(random_state=1)</pre></div></div></div></div></div></div></div>"
      ],
      "text/plain": [
       "Pipeline(steps=[('standardscaler', StandardScaler()),\n",
       "                ('ridge', Ridge(random_state=1))])"
      ]
     },
     "execution_count": 45,
     "metadata": {},
     "output_type": "execute_result"
    }
   ],
   "source": [
    "sR.fit(X_train, y_train)"
   ]
  },
  {
   "cell_type": "code",
   "execution_count": 46,
   "id": "f990b742",
   "metadata": {},
   "outputs": [
    {
     "data": {
      "text/plain": [
       "0.9905354690251539"
      ]
     },
     "execution_count": 46,
     "metadata": {},
     "output_type": "execute_result"
    }
   ],
   "source": [
    "sR.score(X_test, y_test)"
   ]
  },
  {
   "cell_type": "code",
   "execution_count": 47,
   "id": "26fa7cc9",
   "metadata": {},
   "outputs": [],
   "source": [
    "sL = sR = make_pipeline(\n",
    "    StandardScaler(),\n",
    "    Lasso()\n",
    ")"
   ]
  },
  {
   "cell_type": "code",
   "execution_count": 48,
   "id": "9bbff119",
   "metadata": {},
   "outputs": [
    {
     "data": {
      "text/html": [
       "<style>#sk-container-id-6 {color: black;}#sk-container-id-6 pre{padding: 0;}#sk-container-id-6 div.sk-toggleable {background-color: white;}#sk-container-id-6 label.sk-toggleable__label {cursor: pointer;display: block;width: 100%;margin-bottom: 0;padding: 0.3em;box-sizing: border-box;text-align: center;}#sk-container-id-6 label.sk-toggleable__label-arrow:before {content: \"▸\";float: left;margin-right: 0.25em;color: #696969;}#sk-container-id-6 label.sk-toggleable__label-arrow:hover:before {color: black;}#sk-container-id-6 div.sk-estimator:hover label.sk-toggleable__label-arrow:before {color: black;}#sk-container-id-6 div.sk-toggleable__content {max-height: 0;max-width: 0;overflow: hidden;text-align: left;background-color: #f0f8ff;}#sk-container-id-6 div.sk-toggleable__content pre {margin: 0.2em;color: black;border-radius: 0.25em;background-color: #f0f8ff;}#sk-container-id-6 input.sk-toggleable__control:checked~div.sk-toggleable__content {max-height: 200px;max-width: 100%;overflow: auto;}#sk-container-id-6 input.sk-toggleable__control:checked~label.sk-toggleable__label-arrow:before {content: \"▾\";}#sk-container-id-6 div.sk-estimator input.sk-toggleable__control:checked~label.sk-toggleable__label {background-color: #d4ebff;}#sk-container-id-6 div.sk-label input.sk-toggleable__control:checked~label.sk-toggleable__label {background-color: #d4ebff;}#sk-container-id-6 input.sk-hidden--visually {border: 0;clip: rect(1px 1px 1px 1px);clip: rect(1px, 1px, 1px, 1px);height: 1px;margin: -1px;overflow: hidden;padding: 0;position: absolute;width: 1px;}#sk-container-id-6 div.sk-estimator {font-family: monospace;background-color: #f0f8ff;border: 1px dotted black;border-radius: 0.25em;box-sizing: border-box;margin-bottom: 0.5em;}#sk-container-id-6 div.sk-estimator:hover {background-color: #d4ebff;}#sk-container-id-6 div.sk-parallel-item::after {content: \"\";width: 100%;border-bottom: 1px solid gray;flex-grow: 1;}#sk-container-id-6 div.sk-label:hover label.sk-toggleable__label {background-color: #d4ebff;}#sk-container-id-6 div.sk-serial::before {content: \"\";position: absolute;border-left: 1px solid gray;box-sizing: border-box;top: 0;bottom: 0;left: 50%;z-index: 0;}#sk-container-id-6 div.sk-serial {display: flex;flex-direction: column;align-items: center;background-color: white;padding-right: 0.2em;padding-left: 0.2em;position: relative;}#sk-container-id-6 div.sk-item {position: relative;z-index: 1;}#sk-container-id-6 div.sk-parallel {display: flex;align-items: stretch;justify-content: center;background-color: white;position: relative;}#sk-container-id-6 div.sk-item::before, #sk-container-id-6 div.sk-parallel-item::before {content: \"\";position: absolute;border-left: 1px solid gray;box-sizing: border-box;top: 0;bottom: 0;left: 50%;z-index: -1;}#sk-container-id-6 div.sk-parallel-item {display: flex;flex-direction: column;z-index: 1;position: relative;background-color: white;}#sk-container-id-6 div.sk-parallel-item:first-child::after {align-self: flex-end;width: 50%;}#sk-container-id-6 div.sk-parallel-item:last-child::after {align-self: flex-start;width: 50%;}#sk-container-id-6 div.sk-parallel-item:only-child::after {width: 0;}#sk-container-id-6 div.sk-dashed-wrapped {border: 1px dashed gray;margin: 0 0.4em 0.5em 0.4em;box-sizing: border-box;padding-bottom: 0.4em;background-color: white;}#sk-container-id-6 div.sk-label label {font-family: monospace;font-weight: bold;display: inline-block;line-height: 1.2em;}#sk-container-id-6 div.sk-label-container {text-align: center;}#sk-container-id-6 div.sk-container {/* jupyter's `normalize.less` sets `[hidden] { display: none; }` but bootstrap.min.css set `[hidden] { display: none !important; }` so we also need the `!important` here to be able to override the default hidden behavior on the sphinx rendered scikit-learn.org. See: https://github.com/scikit-learn/scikit-learn/issues/21755 */display: inline-block !important;position: relative;}#sk-container-id-6 div.sk-text-repr-fallback {display: none;}</style><div id=\"sk-container-id-6\" class=\"sk-top-container\"><div class=\"sk-text-repr-fallback\"><pre>Pipeline(steps=[(&#x27;standardscaler&#x27;, StandardScaler()), (&#x27;lasso&#x27;, Lasso())])</pre><b>In a Jupyter environment, please rerun this cell to show the HTML representation or trust the notebook. <br />On GitHub, the HTML representation is unable to render, please try loading this page with nbviewer.org.</b></div><div class=\"sk-container\" hidden><div class=\"sk-item sk-dashed-wrapped\"><div class=\"sk-label-container\"><div class=\"sk-label sk-toggleable\"><input class=\"sk-toggleable__control sk-hidden--visually\" id=\"sk-estimator-id-10\" type=\"checkbox\" ><label for=\"sk-estimator-id-10\" class=\"sk-toggleable__label sk-toggleable__label-arrow\">Pipeline</label><div class=\"sk-toggleable__content\"><pre>Pipeline(steps=[(&#x27;standardscaler&#x27;, StandardScaler()), (&#x27;lasso&#x27;, Lasso())])</pre></div></div></div><div class=\"sk-serial\"><div class=\"sk-item\"><div class=\"sk-estimator sk-toggleable\"><input class=\"sk-toggleable__control sk-hidden--visually\" id=\"sk-estimator-id-11\" type=\"checkbox\" ><label for=\"sk-estimator-id-11\" class=\"sk-toggleable__label sk-toggleable__label-arrow\">StandardScaler</label><div class=\"sk-toggleable__content\"><pre>StandardScaler()</pre></div></div></div><div class=\"sk-item\"><div class=\"sk-estimator sk-toggleable\"><input class=\"sk-toggleable__control sk-hidden--visually\" id=\"sk-estimator-id-12\" type=\"checkbox\" ><label for=\"sk-estimator-id-12\" class=\"sk-toggleable__label sk-toggleable__label-arrow\">Lasso</label><div class=\"sk-toggleable__content\"><pre>Lasso()</pre></div></div></div></div></div></div></div>"
      ],
      "text/plain": [
       "Pipeline(steps=[('standardscaler', StandardScaler()), ('lasso', Lasso())])"
      ]
     },
     "execution_count": 48,
     "metadata": {},
     "output_type": "execute_result"
    }
   ],
   "source": [
    "sL.fit(X_train, y_train)"
   ]
  },
  {
   "cell_type": "code",
   "execution_count": 49,
   "id": "5530b1dd",
   "metadata": {},
   "outputs": [
    {
     "data": {
      "text/plain": [
       "0.9908115288711693"
      ]
     },
     "execution_count": 49,
     "metadata": {},
     "output_type": "execute_result"
    }
   ],
   "source": [
    "sL.score(X_test, y_test)"
   ]
  },
  {
   "cell_type": "code",
   "execution_count": 51,
   "id": "29906dfe",
   "metadata": {},
   "outputs": [
    {
     "data": {
      "text/plain": [
       "(array([ 5.67967903, 94.0225149 , 40.12270665,  0.79090588,  0.9906183 ,\n",
       "        -0.5469879 , 12.57050486, 95.81154364, 80.48535992, 34.60293171,\n",
       "         1.24152143,  1.369508  ,  2.27832545,  1.42568345, -0.88043861,\n",
       "        27.44672945,  8.0178409 ,  1.29256083, -0.14809805, 54.66769774]),\n",
       " 0.15977010359453558)"
      ]
     },
     "execution_count": 51,
     "metadata": {},
     "output_type": "execute_result"
    }
   ],
   "source": [
    "LRM.coef_, LRM.intercept_"
   ]
  },
  {
   "cell_type": "code",
   "execution_count": 52,
   "id": "9ac646d6",
   "metadata": {},
   "outputs": [
    {
     "data": {
      "text/plain": [
       "(array([ 5.68924734, 93.09994602, 39.36005987,  1.14756297,  1.02144282,\n",
       "        -0.62775045, 12.25023085, 94.09266962, 79.29074236, 34.74141513,\n",
       "         0.92430242,  1.48025598,  2.67265389,  1.19701053, -1.05472982,\n",
       "        27.09862818,  7.83816375,  0.92191753, -0.47784965, 53.52249458]),\n",
       " 0.5004448429875126)"
      ]
     },
     "execution_count": 52,
     "metadata": {},
     "output_type": "execute_result"
    }
   ],
   "source": [
    "R.coef_, R.intercept_"
   ]
  },
  {
   "cell_type": "code",
   "execution_count": 53,
   "id": "b7e0be23",
   "metadata": {},
   "outputs": [
    {
     "data": {
      "text/plain": [
       "(array([ 4.07762438e+00,  9.32616198e+01,  3.87967222e+01,  5.70299921e-01,\n",
       "         0.00000000e+00, -0.00000000e+00,  1.08657966e+01,  9.44171841e+01,\n",
       "         7.95454298e+01,  3.38262570e+01,  0.00000000e+00,  5.18969971e-02,\n",
       "         1.11668702e+00,  0.00000000e+00, -0.00000000e+00,  2.67305631e+01,\n",
       "         6.53106477e+00,  1.52012781e-01, -0.00000000e+00,  5.34713260e+01]),\n",
       " 0.7160826066421784)"
      ]
     },
     "execution_count": 53,
     "metadata": {},
     "output_type": "execute_result"
    }
   ],
   "source": [
    "L.coef_, L.intercept_"
   ]
  },
  {
   "cell_type": "code",
   "execution_count": null,
   "id": "f966330b",
   "metadata": {},
   "outputs": [],
   "source": []
  }
 ],
 "metadata": {
  "kernelspec": {
   "display_name": "Python 3 (ipykernel)",
   "language": "python",
   "name": "python3"
  },
  "language_info": {
   "codemirror_mode": {
    "name": "ipython",
    "version": 3
   },
   "file_extension": ".py",
   "mimetype": "text/x-python",
   "name": "python",
   "nbconvert_exporter": "python",
   "pygments_lexer": "ipython3",
   "version": "3.11.4"
  }
 },
 "nbformat": 4,
 "nbformat_minor": 5
}
