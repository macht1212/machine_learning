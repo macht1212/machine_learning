{
 "cells": [
  {
   "cell_type": "code",
   "execution_count": 4,
   "id": "cbfed527",
   "metadata": {},
   "outputs": [],
   "source": [
    "import pandas as pd\n",
    "import numpy as np\n",
    "import matplotlib.pyplot as plt"
   ]
  },
  {
   "cell_type": "code",
   "execution_count": 5,
   "id": "d55874af",
   "metadata": {},
   "outputs": [],
   "source": [
    "from sklearn import datasets"
   ]
  },
  {
   "cell_type": "code",
   "execution_count": 6,
   "id": "d862efa2",
   "metadata": {},
   "outputs": [],
   "source": [
    "iris = datasets.load_iris()"
   ]
  },
  {
   "cell_type": "code",
   "execution_count": 7,
   "id": "fd9ecfdc",
   "metadata": {},
   "outputs": [],
   "source": [
    "data = pd.DataFrame(iris.data, columns=iris.feature_names)"
   ]
  },
  {
   "cell_type": "code",
   "execution_count": 8,
   "id": "d1b674dd",
   "metadata": {},
   "outputs": [],
   "source": [
    "target = pd.DataFrame(iris.target)\n",
    "target.rename(columns={0: 'target'}, inplace=True)"
   ]
  },
  {
   "cell_type": "code",
   "execution_count": 9,
   "id": "d103a873",
   "metadata": {},
   "outputs": [],
   "source": [
    "data = data.merge(target, how='inner', left_index=True, right_index=True)"
   ]
  },
  {
   "cell_type": "code",
   "execution_count": 10,
   "id": "bc148de0",
   "metadata": {},
   "outputs": [],
   "source": [
    "data_vv = data[data['target'] >= 1]"
   ]
  },
  {
   "cell_type": "code",
   "execution_count": 11,
   "id": "cb769a7d",
   "metadata": {},
   "outputs": [
    {
     "name": "stderr",
     "output_type": "stream",
     "text": [
      "/var/folders/tt/zvp76tps5831_lf3ld0v33pc0000gp/T/ipykernel_71553/2052264641.py:1: SettingWithCopyWarning: \n",
      "A value is trying to be set on a copy of a slice from a DataFrame.\n",
      "Try using .loc[row_indexer,col_indexer] = value instead\n",
      "\n",
      "See the caveats in the documentation: https://pandas.pydata.org/pandas-docs/stable/user_guide/indexing.html#returning-a-view-versus-a-copy\n",
      "  data_vv.target = data_vv.target.replace({1: 'versicolor', 2: 'virginica'})\n"
     ]
    }
   ],
   "source": [
    "data_vv.target = data_vv.target.replace({1: 'versicolor', 2: 'virginica'})"
   ]
  },
  {
   "cell_type": "code",
   "execution_count": 12,
   "id": "82f0cddd",
   "metadata": {},
   "outputs": [],
   "source": [
    "y = data_vv.target\n",
    "del data_vv['target']"
   ]
  },
  {
   "cell_type": "code",
   "execution_count": 13,
   "id": "72ce8486",
   "metadata": {},
   "outputs": [],
   "source": [
    "from sklearn.preprocessing import LabelEncoder\n",
    "le = LabelEncoder()"
   ]
  },
  {
   "cell_type": "code",
   "execution_count": 14,
   "id": "da9b3eb8",
   "metadata": {},
   "outputs": [
    {
     "data": {
      "text/html": [
       "<style>#sk-container-id-1 {color: black;}#sk-container-id-1 pre{padding: 0;}#sk-container-id-1 div.sk-toggleable {background-color: white;}#sk-container-id-1 label.sk-toggleable__label {cursor: pointer;display: block;width: 100%;margin-bottom: 0;padding: 0.3em;box-sizing: border-box;text-align: center;}#sk-container-id-1 label.sk-toggleable__label-arrow:before {content: \"▸\";float: left;margin-right: 0.25em;color: #696969;}#sk-container-id-1 label.sk-toggleable__label-arrow:hover:before {color: black;}#sk-container-id-1 div.sk-estimator:hover label.sk-toggleable__label-arrow:before {color: black;}#sk-container-id-1 div.sk-toggleable__content {max-height: 0;max-width: 0;overflow: hidden;text-align: left;background-color: #f0f8ff;}#sk-container-id-1 div.sk-toggleable__content pre {margin: 0.2em;color: black;border-radius: 0.25em;background-color: #f0f8ff;}#sk-container-id-1 input.sk-toggleable__control:checked~div.sk-toggleable__content {max-height: 200px;max-width: 100%;overflow: auto;}#sk-container-id-1 input.sk-toggleable__control:checked~label.sk-toggleable__label-arrow:before {content: \"▾\";}#sk-container-id-1 div.sk-estimator input.sk-toggleable__control:checked~label.sk-toggleable__label {background-color: #d4ebff;}#sk-container-id-1 div.sk-label input.sk-toggleable__control:checked~label.sk-toggleable__label {background-color: #d4ebff;}#sk-container-id-1 input.sk-hidden--visually {border: 0;clip: rect(1px 1px 1px 1px);clip: rect(1px, 1px, 1px, 1px);height: 1px;margin: -1px;overflow: hidden;padding: 0;position: absolute;width: 1px;}#sk-container-id-1 div.sk-estimator {font-family: monospace;background-color: #f0f8ff;border: 1px dotted black;border-radius: 0.25em;box-sizing: border-box;margin-bottom: 0.5em;}#sk-container-id-1 div.sk-estimator:hover {background-color: #d4ebff;}#sk-container-id-1 div.sk-parallel-item::after {content: \"\";width: 100%;border-bottom: 1px solid gray;flex-grow: 1;}#sk-container-id-1 div.sk-label:hover label.sk-toggleable__label {background-color: #d4ebff;}#sk-container-id-1 div.sk-serial::before {content: \"\";position: absolute;border-left: 1px solid gray;box-sizing: border-box;top: 0;bottom: 0;left: 50%;z-index: 0;}#sk-container-id-1 div.sk-serial {display: flex;flex-direction: column;align-items: center;background-color: white;padding-right: 0.2em;padding-left: 0.2em;position: relative;}#sk-container-id-1 div.sk-item {position: relative;z-index: 1;}#sk-container-id-1 div.sk-parallel {display: flex;align-items: stretch;justify-content: center;background-color: white;position: relative;}#sk-container-id-1 div.sk-item::before, #sk-container-id-1 div.sk-parallel-item::before {content: \"\";position: absolute;border-left: 1px solid gray;box-sizing: border-box;top: 0;bottom: 0;left: 50%;z-index: -1;}#sk-container-id-1 div.sk-parallel-item {display: flex;flex-direction: column;z-index: 1;position: relative;background-color: white;}#sk-container-id-1 div.sk-parallel-item:first-child::after {align-self: flex-end;width: 50%;}#sk-container-id-1 div.sk-parallel-item:last-child::after {align-self: flex-start;width: 50%;}#sk-container-id-1 div.sk-parallel-item:only-child::after {width: 0;}#sk-container-id-1 div.sk-dashed-wrapped {border: 1px dashed gray;margin: 0 0.4em 0.5em 0.4em;box-sizing: border-box;padding-bottom: 0.4em;background-color: white;}#sk-container-id-1 div.sk-label label {font-family: monospace;font-weight: bold;display: inline-block;line-height: 1.2em;}#sk-container-id-1 div.sk-label-container {text-align: center;}#sk-container-id-1 div.sk-container {/* jupyter's `normalize.less` sets `[hidden] { display: none; }` but bootstrap.min.css set `[hidden] { display: none !important; }` so we also need the `!important` here to be able to override the default hidden behavior on the sphinx rendered scikit-learn.org. See: https://github.com/scikit-learn/scikit-learn/issues/21755 */display: inline-block !important;position: relative;}#sk-container-id-1 div.sk-text-repr-fallback {display: none;}</style><div id=\"sk-container-id-1\" class=\"sk-top-container\"><div class=\"sk-text-repr-fallback\"><pre>LabelEncoder()</pre><b>In a Jupyter environment, please rerun this cell to show the HTML representation or trust the notebook. <br />On GitHub, the HTML representation is unable to render, please try loading this page with nbviewer.org.</b></div><div class=\"sk-container\" hidden><div class=\"sk-item\"><div class=\"sk-estimator sk-toggleable\"><input class=\"sk-toggleable__control sk-hidden--visually\" id=\"sk-estimator-id-1\" type=\"checkbox\" checked><label for=\"sk-estimator-id-1\" class=\"sk-toggleable__label sk-toggleable__label-arrow\">LabelEncoder</label><div class=\"sk-toggleable__content\"><pre>LabelEncoder()</pre></div></div></div></div></div>"
      ],
      "text/plain": [
       "LabelEncoder()"
      ]
     },
     "execution_count": 14,
     "metadata": {},
     "output_type": "execute_result"
    }
   ],
   "source": [
    "le.fit(y)"
   ]
  },
  {
   "cell_type": "code",
   "execution_count": 15,
   "id": "b921ff1a",
   "metadata": {},
   "outputs": [],
   "source": [
    "y_ = pd.Series(data=le.transform(y))"
   ]
  },
  {
   "cell_type": "code",
   "execution_count": 16,
   "id": "5de792ab",
   "metadata": {},
   "outputs": [],
   "source": [
    "from sklearn.pipeline import make_pipeline\n",
    "from sklearn.preprocessing import StandardScaler\n",
    "from sklearn.linear_model import LogisticRegression, LinearRegression\n",
    "from sklearn.model_selection import train_test_split \n",
    "\n",
    "model = make_pipeline(\n",
    "    StandardScaler(),\n",
    "    LogisticRegression(max_iter=1000)\n",
    ")"
   ]
  },
  {
   "cell_type": "code",
   "execution_count": 17,
   "id": "a5aafa54",
   "metadata": {
    "scrolled": false
   },
   "outputs": [
    {
     "data": {
      "text/html": [
       "<div>\n",
       "<style scoped>\n",
       "    .dataframe tbody tr th:only-of-type {\n",
       "        vertical-align: middle;\n",
       "    }\n",
       "\n",
       "    .dataframe tbody tr th {\n",
       "        vertical-align: top;\n",
       "    }\n",
       "\n",
       "    .dataframe thead th {\n",
       "        text-align: right;\n",
       "    }\n",
       "</style>\n",
       "<table border=\"1\" class=\"dataframe\">\n",
       "  <thead>\n",
       "    <tr style=\"text-align: right;\">\n",
       "      <th></th>\n",
       "      <th>sepal length (cm)</th>\n",
       "      <th>sepal width (cm)</th>\n",
       "      <th>petal length (cm)</th>\n",
       "      <th>petal width (cm)</th>\n",
       "      <th>target</th>\n",
       "    </tr>\n",
       "  </thead>\n",
       "  <tbody>\n",
       "    <tr>\n",
       "      <th>50</th>\n",
       "      <td>7.0</td>\n",
       "      <td>3.2</td>\n",
       "      <td>4.7</td>\n",
       "      <td>1.4</td>\n",
       "      <td>1</td>\n",
       "    </tr>\n",
       "    <tr>\n",
       "      <th>51</th>\n",
       "      <td>6.4</td>\n",
       "      <td>3.2</td>\n",
       "      <td>4.5</td>\n",
       "      <td>1.5</td>\n",
       "      <td>1</td>\n",
       "    </tr>\n",
       "    <tr>\n",
       "      <th>52</th>\n",
       "      <td>6.9</td>\n",
       "      <td>3.1</td>\n",
       "      <td>4.9</td>\n",
       "      <td>1.5</td>\n",
       "      <td>1</td>\n",
       "    </tr>\n",
       "    <tr>\n",
       "      <th>53</th>\n",
       "      <td>5.5</td>\n",
       "      <td>2.3</td>\n",
       "      <td>4.0</td>\n",
       "      <td>1.3</td>\n",
       "      <td>1</td>\n",
       "    </tr>\n",
       "    <tr>\n",
       "      <th>54</th>\n",
       "      <td>6.5</td>\n",
       "      <td>2.8</td>\n",
       "      <td>4.6</td>\n",
       "      <td>1.5</td>\n",
       "      <td>1</td>\n",
       "    </tr>\n",
       "    <tr>\n",
       "      <th>...</th>\n",
       "      <td>...</td>\n",
       "      <td>...</td>\n",
       "      <td>...</td>\n",
       "      <td>...</td>\n",
       "      <td>...</td>\n",
       "    </tr>\n",
       "    <tr>\n",
       "      <th>145</th>\n",
       "      <td>6.7</td>\n",
       "      <td>3.0</td>\n",
       "      <td>5.2</td>\n",
       "      <td>2.3</td>\n",
       "      <td>2</td>\n",
       "    </tr>\n",
       "    <tr>\n",
       "      <th>146</th>\n",
       "      <td>6.3</td>\n",
       "      <td>2.5</td>\n",
       "      <td>5.0</td>\n",
       "      <td>1.9</td>\n",
       "      <td>2</td>\n",
       "    </tr>\n",
       "    <tr>\n",
       "      <th>147</th>\n",
       "      <td>6.5</td>\n",
       "      <td>3.0</td>\n",
       "      <td>5.2</td>\n",
       "      <td>2.0</td>\n",
       "      <td>2</td>\n",
       "    </tr>\n",
       "    <tr>\n",
       "      <th>148</th>\n",
       "      <td>6.2</td>\n",
       "      <td>3.4</td>\n",
       "      <td>5.4</td>\n",
       "      <td>2.3</td>\n",
       "      <td>2</td>\n",
       "    </tr>\n",
       "    <tr>\n",
       "      <th>149</th>\n",
       "      <td>5.9</td>\n",
       "      <td>3.0</td>\n",
       "      <td>5.1</td>\n",
       "      <td>1.8</td>\n",
       "      <td>2</td>\n",
       "    </tr>\n",
       "  </tbody>\n",
       "</table>\n",
       "<p>100 rows × 5 columns</p>\n",
       "</div>"
      ],
      "text/plain": [
       "     sepal length (cm)  sepal width (cm)  petal length (cm)  petal width (cm)  \\\n",
       "50                 7.0               3.2                4.7               1.4   \n",
       "51                 6.4               3.2                4.5               1.5   \n",
       "52                 6.9               3.1                4.9               1.5   \n",
       "53                 5.5               2.3                4.0               1.3   \n",
       "54                 6.5               2.8                4.6               1.5   \n",
       "..                 ...               ...                ...               ...   \n",
       "145                6.7               3.0                5.2               2.3   \n",
       "146                6.3               2.5                5.0               1.9   \n",
       "147                6.5               3.0                5.2               2.0   \n",
       "148                6.2               3.4                5.4               2.3   \n",
       "149                5.9               3.0                5.1               1.8   \n",
       "\n",
       "     target  \n",
       "50        1  \n",
       "51        1  \n",
       "52        1  \n",
       "53        1  \n",
       "54        1  \n",
       "..      ...  \n",
       "145       2  \n",
       "146       2  \n",
       "147       2  \n",
       "148       2  \n",
       "149       2  \n",
       "\n",
       "[100 rows x 5 columns]"
      ]
     },
     "execution_count": 17,
     "metadata": {},
     "output_type": "execute_result"
    }
   ],
   "source": [
    "data_ = data.copy()\n",
    "data_ = data_[data_['target'] >= 1]\n",
    "data_"
   ]
  },
  {
   "cell_type": "code",
   "execution_count": null,
   "id": "f8b5c38f",
   "metadata": {},
   "outputs": [],
   "source": []
  },
  {
   "cell_type": "code",
   "execution_count": 19,
   "id": "83490912",
   "metadata": {},
   "outputs": [
    {
     "data": {
      "text/plain": [
       "(0.0011085547122109732, -0.2895440692501988)"
      ]
     },
     "execution_count": 19,
     "metadata": {},
     "output_type": "execute_result"
    }
   ],
   "source": [
    "EPOCHS = 200\n",
    "LEARNING_RATE = 0.001\n",
    "np.random.seed(9)\n",
    "theta0, theta1 = np.random.normal(size=(2,))\n",
    "theta0, theta1"
   ]
  },
  {
   "cell_type": "code",
   "execution_count": 20,
   "id": "06e63302",
   "metadata": {},
   "outputs": [],
   "source": [
    "func = lambda x: theta1*x + theta0\n",
    "x = np.linspace(4, 8, 1000)"
   ]
  },
  {
   "cell_type": "code",
   "execution_count": 21,
   "id": "fb2908ca",
   "metadata": {},
   "outputs": [],
   "source": [
    "class LogReg:\n",
    "\n",
    "    def __init__(self, theta0, theta1, EPOCHS, LEARNING_RATE, X, y):\n",
    "        self.theta0 = theta0\n",
    "        self.theta1 = theta1\n",
    "        self.EPOCHS = EPOCHS\n",
    "        self.LEARNING_RATE = LEARNING_RATE\n",
    "        self.X = X\n",
    "        self.y = y"
   ]
  },
  {
   "cell_type": "code",
   "execution_count": 22,
   "id": "bcb1132a",
   "metadata": {},
   "outputs": [],
   "source": [
    "class GradientDescent(LogReg):\n",
    "\n",
    "\n",
    "    def _cost_function(self):\n",
    "        \"\"\"The _cost_function method calculates the cost function for a linear regression model. It measures the\n",
    "            average squared difference between the predicted values and the actual values.\n",
    "        \"\"\"\n",
    "        total_cost = 0\n",
    "        for i in range(len(self.X)):\n",
    "            predict = self.theta0 + self.theta1 * self.X[i]\n",
    "            total_cost += (predict - self.y[i]) ** 2\n",
    "        return total_cost / len(self.X)\n",
    "\n",
    "    def _der_theta0(self):\n",
    "        \"\"\"The _der_theta0 method calculates the derivative of the cost function with respect to the intercept\n",
    "            parameter (theta0) in a linear regression model.\n",
    "        \"\"\"\n",
    "        total_cost = 0\n",
    "        for i in range(len(self.X)):\n",
    "            predict = self.theta0 + self.theta1 * self.X[i]\n",
    "            total_cost += 2 * (predict - self.y[i])\n",
    "        return total_cost / len(self.X)\n",
    "\n",
    "    def _der_theta1(self):\n",
    "        \"\"\"The _der_theta1 method calculates the derivative of the cost function with respect to the slope parameter (theta1) in a linear regression model.\n",
    "        \"\"\"\n",
    "        total_cost = 0\n",
    "        for i in range(len(self.X)):\n",
    "            predict = self.theta0 + self.theta1 * self.X[i]\n",
    "            total_cost += 2 * (predict - self.y[i]) * self.X[i]\n",
    "        return total_cost / (len(self.X))\n",
    "\n",
    "    def fit(self):\n",
    "        \"\"\"The fit method in the LogReg class is used to train the linear regression model by updating the values of\n",
    "            the intercept parameter (theta0) and the slope parameter (theta1) over a specified number of epochs.\n",
    "        \"\"\"\n",
    "        for _ in range(self.EPOCHS):\n",
    "            dt0 = self._der_theta0()\n",
    "            dt1 = self._der_theta1()\n",
    "\n",
    "            self.theta0 = self.theta0 - self.LEARNING_RATE * dt0\n",
    "            self.theta1 -= self.LEARNING_RATE * dt1\n",
    "\n",
    "    def get_coefs(self):\n",
    "        \"\"\"The get_cofs method in the LogReg class returns the values of the intercept parameter (theta0) and the slope\n",
    "            parameter (theta1) of a linear regression model.\n",
    "        \"\"\"\n",
    "        return self.theta0, self.theta1\n",
    "\n",
    "    def get_theta0(self):\n",
    "        \"\"\"The get_theta0 method in the LogReg class returns the value of the intercept parameter (theta0) in a linear regression model.\n",
    "        \"\"\"\n",
    "        return self.theta0\n",
    "\n",
    "    def get_theta1(self):\n",
    "        \"\"\"The get_theta1 method in the LogReg class returns the value of the slope parameter (theta1) in a linear regression model.\n",
    "        \"\"\"\n",
    "        return self.theta1\n",
    "\n",
    "    def get_cost(self):\n",
    "        \"\"\"The get_cost method in the LogReg class returns the cost function value for a linear regression model. The cost function measures the average squared difference between the predicted values and the actual values.\n",
    "        \"\"\"\n",
    "        return self._cost_function()\n",
    "\n"
   ]
  },
  {
   "cell_type": "code",
   "execution_count": 23,
   "id": "64f377c5",
   "metadata": {},
   "outputs": [],
   "source": [
    "reg = GradientDescent(theta0, theta1, EPOCHS, LEARNING_RATE, np.array(data_), np.array(y_))"
   ]
  },
  {
   "cell_type": "code",
   "execution_count": 24,
   "id": "f1bc38c3",
   "metadata": {},
   "outputs": [],
   "source": [
    "reg.fit()"
   ]
  },
  {
   "cell_type": "code",
   "execution_count": 25,
   "id": "c55b7300",
   "metadata": {},
   "outputs": [
    {
     "data": {
      "text/plain": [
       "(array([0.05036536, 0.13680352, 0.05759607, 0.18705608, 0.18787912]),\n",
       " array([0.07504625, 0.11971874, 0.1003593 , 0.09573696, 0.09633076]))"
      ]
     },
     "execution_count": 25,
     "metadata": {},
     "output_type": "execute_result"
    }
   ],
   "source": [
    "reg.get_coefs()"
   ]
  },
  {
   "cell_type": "code",
   "execution_count": 26,
   "id": "82ce06f2",
   "metadata": {},
   "outputs": [],
   "source": [
    "reg_2 = GradientDescent(theta0, theta1, EPOCHS, LEARNING_RATE, np.array(data_), np.array(y_))"
   ]
  },
  {
   "cell_type": "code",
   "execution_count": 27,
   "id": "a36b6552",
   "metadata": {},
   "outputs": [],
   "source": [
    "reg_2.fit()"
   ]
  },
  {
   "cell_type": "code",
   "execution_count": 28,
   "id": "7d2dae76",
   "metadata": {},
   "outputs": [
    {
     "data": {
      "text/plain": [
       "(array([0.05036536, 0.13680352, 0.05759607, 0.18705608, 0.18787912]),\n",
       " array([0.07504625, 0.11971874, 0.1003593 , 0.09573696, 0.09633076]))"
      ]
     },
     "execution_count": 28,
     "metadata": {},
     "output_type": "execute_result"
    }
   ],
   "source": [
    "theta0, theta1 = reg_2.get_coefs()\n",
    "theta0, theta1"
   ]
  },
  {
   "cell_type": "code",
   "execution_count": 29,
   "id": "5f4052c4",
   "metadata": {},
   "outputs": [
    {
     "name": "stdout",
     "output_type": "stream",
     "text": [
      "Requirement already satisfied: LogReg3==0.1.0 in /Users/alexandernazimov/anaconda3/lib/python3.11/site-packages (0.1.0)\r\n",
      "Requirement already satisfied: requests>=2.25.1 in /Users/alexandernazimov/anaconda3/lib/python3.11/site-packages (from LogReg3==0.1.0) (2.31.0)\r\n",
      "Requirement already satisfied: charset-normalizer<4,>=2 in /Users/alexandernazimov/anaconda3/lib/python3.11/site-packages (from requests>=2.25.1->LogReg3==0.1.0) (2.0.4)\r\n",
      "Requirement already satisfied: idna<4,>=2.5 in /Users/alexandernazimov/anaconda3/lib/python3.11/site-packages (from requests>=2.25.1->LogReg3==0.1.0) (3.4)\r\n",
      "Requirement already satisfied: urllib3<3,>=1.21.1 in /Users/alexandernazimov/anaconda3/lib/python3.11/site-packages (from requests>=2.25.1->LogReg3==0.1.0) (1.26.16)\r\n",
      "Requirement already satisfied: certifi>=2017.4.17 in /Users/alexandernazimov/anaconda3/lib/python3.11/site-packages (from requests>=2.25.1->LogReg3==0.1.0) (2023.7.22)\r\n"
     ]
    }
   ],
   "source": [
    "!pip install LogReg3==0.1.0"
   ]
  },
  {
   "cell_type": "code",
   "execution_count": 30,
   "id": "d411b5b1",
   "metadata": {},
   "outputs": [
    {
     "name": "stdout",
     "output_type": "stream",
     "text": [
      "Requirement already satisfied: LogReg3 in /Users/alexandernazimov/anaconda3/lib/python3.11/site-packages (0.1.0)\n",
      "Requirement already satisfied: requests>=2.25.1 in /Users/alexandernazimov/anaconda3/lib/python3.11/site-packages (from LogReg3) (2.31.0)\n",
      "Requirement already satisfied: charset-normalizer<4,>=2 in /Users/alexandernazimov/anaconda3/lib/python3.11/site-packages (from requests>=2.25.1->LogReg3) (2.0.4)\n",
      "Requirement already satisfied: idna<4,>=2.5 in /Users/alexandernazimov/anaconda3/lib/python3.11/site-packages (from requests>=2.25.1->LogReg3) (3.4)\n",
      "Requirement already satisfied: urllib3<3,>=1.21.1 in /Users/alexandernazimov/anaconda3/lib/python3.11/site-packages (from requests>=2.25.1->LogReg3) (1.26.16)\n",
      "Requirement already satisfied: certifi>=2017.4.17 in /Users/alexandernazimov/anaconda3/lib/python3.11/site-packages (from requests>=2.25.1->LogReg3) (2023.7.22)\n",
      "Note: you may need to restart the kernel to use updated packages.\n"
     ]
    }
   ],
   "source": [
    "pip install LogReg3"
   ]
  },
  {
   "cell_type": "code",
   "execution_count": 31,
   "id": "0e8e1a67",
   "metadata": {},
   "outputs": [],
   "source": [
    "from Regression import LogReg"
   ]
  },
  {
   "cell_type": "code",
   "execution_count": 34,
   "id": "83ca0764",
   "metadata": {},
   "outputs": [
    {
     "name": "stdout",
     "output_type": "stream",
     "text": [
      "[ 0.00110855 -0.28954407]\n"
     ]
    },
    {
     "ename": "ValueError",
     "evalue": "operands could not be broadcast together with shapes (100,5) (100,) ",
     "output_type": "error",
     "traceback": [
      "\u001b[0;31m---------------------------------------------------------------------------\u001b[0m",
      "\u001b[0;31mValueError\u001b[0m                                Traceback (most recent call last)",
      "Cell \u001b[0;32mIn[34], line 19\u001b[0m\n\u001b[1;32m     16\u001b[0m cost \u001b[38;5;241m=\u001b[39m np\u001b[38;5;241m.\u001b[39msum((predictions \u001b[38;5;241m-\u001b[39m np\u001b[38;5;241m.\u001b[39marray(data_)) \u001b[38;5;241m*\u001b[39m\u001b[38;5;241m*\u001b[39m \u001b[38;5;241m2\u001b[39m) \u001b[38;5;241m/\u001b[39m \u001b[38;5;28mlen\u001b[39m(predictions)\n\u001b[1;32m     17\u001b[0m costs\u001b[38;5;241m.\u001b[39mappend(cost)\n\u001b[0;32m---> 19\u001b[0m params[\u001b[38;5;241m0\u001b[39m] \u001b[38;5;241m-\u001b[39m\u001b[38;5;241m=\u001b[39m LEARNING_RATE \u001b[38;5;241m*\u001b[39m np\u001b[38;5;241m.\u001b[39msum(predictions \u001b[38;5;241m-\u001b[39m np\u001b[38;5;241m.\u001b[39marray(y_)) \u001b[38;5;241m*\u001b[39m (\u001b[38;5;241m2\u001b[39m\u001b[38;5;241m/\u001b[39m\u001b[38;5;28mlen\u001b[39m(predictions))\n\u001b[1;32m     20\u001b[0m params[\u001b[38;5;241m1\u001b[39m] \u001b[38;5;241m-\u001b[39m\u001b[38;5;241m=\u001b[39m LEARNING_RATE \u001b[38;5;241m*\u001b[39m np\u001b[38;5;241m.\u001b[39msum((predictions \u001b[38;5;241m-\u001b[39m np\u001b[38;5;241m.\u001b[39marray(y_)) \u001b[38;5;241m*\u001b[39m np\u001b[38;5;241m.\u001b[39marray(data_)) \u001b[38;5;241m*\u001b[39m (\u001b[38;5;241m2\u001b[39m\u001b[38;5;241m/\u001b[39m\u001b[38;5;28mlen\u001b[39m(predictions))    \n\u001b[1;32m     22\u001b[0m list_params_gd\u001b[38;5;241m.\u001b[39mappend(params\u001b[38;5;241m.\u001b[39mcopy())\n",
      "\u001b[0;31mValueError\u001b[0m: operands could not be broadcast together with shapes (100,5) (100,) "
     ]
    }
   ],
   "source": [
    "EPOCHS = 20\n",
    "LEARNING_RATE = 0.0001\n",
    "\n",
    "costs = []\n",
    "params = []\n",
    "preds = []\n",
    "np.random.seed(9)\n",
    "params = np.random.normal(size=(2,))\n",
    "print(params)\n",
    "\n",
    "list_params_gd = [params.copy()]\n",
    "for _ in range(EPOCHS):\n",
    "    predictions = params[0] + params[1] * np.array(data_)\n",
    "    preds.append(predictions)\n",
    "\n",
    "    cost = np.sum((predictions - np.array(y_)) ** 2) / len(predictions)\n",
    "    costs.append(cost)\n",
    "    \n",
    "    params[0] -= LEARNING_RATE * np.sum(predictions - np.array(y_)) * (2/len(predictions))\n",
    "    params[1] -= LEARNING_RATE * np.sum((predictions - np.array(y_)) * np.array(data_)) * (2/len(predictions))    \n",
    "\n",
    "    list_params_gd.append(params.copy())"
   ]
  },
  {
   "cell_type": "code",
   "execution_count": 35,
   "id": "e99cad9c",
   "metadata": {},
   "outputs": [],
   "source": [
    "def cost_function(X, y, theta0, theta1):\n",
    "    total_cost = 0\n",
    "    for i in range(len(X)):\n",
    "        pred = theta0 + theta1 * X[i]\n",
    "        total_cost += (pred - y[i]) ** 2\n",
    "    return total_cost / len(X)\n",
    "\n",
    "def der_theta0(X, y, theta0, theta1):\n",
    "    total_cost = 0\n",
    "    for i in range(len(X)):\n",
    "        pred = theta0 + theta1 * X[i]\n",
    "        total_cost += 2 * (pred - y[i])\n",
    "    return total_cost / len(X)\n",
    "\n",
    "def der_theta1(X, y, theta0, theta1):\n",
    "    total_cost = 0\n",
    "    for i in range(len(X)):\n",
    "        pred = theta0 + theta1 * X[i]\n",
    "        total_cost += 2 * (pred - y[i]) * X[i]\n",
    "    return total_cost / (len(X))  "
   ]
  },
  {
   "cell_type": "code",
   "execution_count": 48,
   "id": "b42b0041",
   "metadata": {},
   "outputs": [
    {
     "name": "stdout",
     "output_type": "stream",
     "text": [
      "[ 0.00110855 -0.28954407]\n",
      "t0: [0.00157096 0.00137465 0.00149243 0.00130539 0.0012952 ]\n",
      "t1: [-0.28659071 -0.2887633  -0.28755708 -0.28916883 -0.28919963]\n",
      "cost: [5.63727789 2.05205477 4.13684125 1.33310604 1.28507309]\n",
      "t0: [0.00202957 0.00164024 0.00187429 0.00150206 0.0014817 ]\n",
      "t1: [-0.28366135 -0.287984   -0.28558031 -0.28879389 -0.28885542]\n",
      "cost: [5.54972043 2.04528252 4.09641098 1.33131411 1.28354098]\n",
      "t0: [0.00248442 0.00190533 0.00225412 0.00169856 0.00166806]\n",
      "t1: [-0.2807558  -0.28720615 -0.28361369 -0.28841923 -0.28851144]\n",
      "cost: [5.46358042 2.03853557 4.05639553 1.329525   1.28201096]\n",
      "t0: [0.00293554 0.00216992 0.00263195 0.0018949  0.00185428]\n",
      "t1: [-0.27787385 -0.28642975 -0.28165718 -0.28804486 -0.28816768]\n",
      "cost: [5.3788349  2.03181382 4.01679065 1.32773871 1.28048302]\n",
      "t0: [0.00338297 0.00243401 0.00300779 0.00209107 0.00204036]\n",
      "t1: [-0.27501532 -0.2856548  -0.27971072 -0.28767078 -0.28782415]\n",
      "cost: [5.2954613  2.02511718 3.97759213 1.32595523 1.27895718]\n",
      "t0: [0.00382672 0.0026976  0.00338164 0.00228708 0.0022263 ]\n",
      "t1: [-0.27218002 -0.28488129 -0.27777426 -0.287297   -0.28748085]\n",
      "cost: [5.2134374  2.01844554 3.93879579 1.32417456 1.27743341]\n",
      "t0: [0.00426683 0.0029607  0.00375352 0.00248293 0.00241209]\n",
      "t1: [-0.26936775 -0.28410924 -0.27584775 -0.2869235  -0.28713778]\n",
      "cost: [5.13274136 2.01179883 3.9003975  1.3223967  1.27591173]\n",
      "t0: [0.00470333 0.0032233  0.00412343 0.00267861 0.00259775]\n",
      "t1: [-0.26657834 -0.28333862 -0.27393114 -0.28655029 -0.28679493]\n",
      "cost: [5.05335169 2.00517694 3.8623932  1.32062163 1.27439213]\n",
      "t0: [0.00513626 0.0034854  0.00449138 0.00287412 0.00278327]\n",
      "t1: [-0.26381159 -0.28256944 -0.27202438 -0.28617737 -0.28645232]\n",
      "cost: [4.97524722 1.99857978 3.82477882 1.31884936 1.27287461]\n",
      "t0: [0.00556563 0.00374701 0.0048574  0.00306947 0.00296865]\n",
      "t1: [-0.26106732 -0.2818017  -0.27012741 -0.28580473 -0.28610993]\n",
      "cost: [4.89840717 1.99200726 3.78755038 1.31707988 1.27135915]\n",
      "t0: [0.00599147 0.00400813 0.00522147 0.00326466 0.00315389]\n",
      "t1: [-0.25834536 -0.28103539 -0.26824019 -0.28543239 -0.28576776]\n",
      "cost: [4.82281105 1.98545929 3.7507039  1.31531318 1.26984577]\n",
      "t0: [0.00641383 0.00426876 0.00558363 0.00345969 0.00333899]\n",
      "t1: [-0.25564551 -0.28027052 -0.26636267 -0.28506033 -0.28542582]\n",
      "cost: [4.74843873 1.97893578 3.71423548 1.31354927 1.26833445]\n",
      "t0: [0.00683271 0.00452889 0.00594386 0.00365455 0.00352395]\n",
      "t1: [-0.25296759 -0.27950707 -0.2644948  -0.28468856 -0.28508411]\n",
      "cost: [4.6752704  1.97243663 3.67814123 1.31178813 1.2668252 ]\n",
      "t0: [0.00724816 0.00478853 0.0063022  0.00384924 0.00370877]\n",
      "t1: [-0.25031144 -0.27874505 -0.26263652 -0.28431708 -0.28474263]\n",
      "cost: [4.60328657 1.96596176 3.64241732 1.31002976 1.26531801]\n",
      "t0: [0.00766021 0.00504769 0.00665864 0.00404378 0.00389345]\n",
      "t1: [-0.24767687 -0.27798445 -0.26078779 -0.28394588 -0.28440137]\n",
      "cost: [4.53246807 1.95951107 3.60705994 1.30827417 1.26381288]\n",
      "t0: [0.00806886 0.00530635 0.00701319 0.00423815 0.00407799]\n",
      "t1: [-0.2450637  -0.27722527 -0.25894855 -0.28357498 -0.28406034]\n",
      "cost: [4.46279601 1.95308448 3.57206533 1.30652133 1.26230981]\n",
      "t0: [0.00847417 0.00556453 0.00736587 0.00443235 0.0042624 ]\n",
      "t1: [-0.24247177 -0.27646751 -0.25711877 -0.28320435 -0.28371953]\n",
      "cost: [4.39425186 1.94668188 3.53742977 1.30477126 1.26080878]\n",
      "t0: [0.00887614 0.00582222 0.00771668 0.0046264  0.00444666]\n",
      "t1: [-0.2399009  -0.27571116 -0.25529839 -0.28283402 -0.28337895]\n",
      "cost: [4.32681734 1.9403032  3.50314958 1.30302394 1.25930981]\n",
      "t0: [0.00927482 0.00607942 0.00806563 0.00482028 0.00463078]\n",
      "t1: [-0.23735091 -0.27495622 -0.25348736 -0.28246397 -0.28303859]\n",
      "cost: [4.2604745  1.93394835 3.46922111 1.30127938 1.25781289]\n",
      "t0: [0.00967022 0.00633614 0.00841274 0.00501399 0.00481477]\n",
      "t1: [-0.23482165 -0.2742027  -0.25168564 -0.28209421 -0.28269846]\n",
      "cost: [4.19520566 1.92761723 3.43564076 1.29953756 1.25631801]\n"
     ]
    }
   ],
   "source": [
    "np.random.seed(9)\n",
    "theta0, theta1 = np.random.normal(size=(2,))\n",
    "print(params)\n",
    "X = np.array(data_)\n",
    "Y = np.array(y_)\n",
    "\n",
    "\n",
    "for _ in range(EPOCHS):\n",
    "    dt0 = der_theta0(X, Y, theta0, theta1)\n",
    "    dt1 = der_theta1(X, Y, theta0, theta1)\n",
    "    \n",
    "    theta0 -= LEARNING_RATE * dt0\n",
    "    theta1 -= LEARNING_RATE * dt1\n",
    "    \n",
    "    print(f\"t0: {theta0}\")\n",
    "    print(\"t1:\", theta1)\n",
    "    print(\"cost:\", cost_function(X, Y, theta0, theta1))"
   ]
  },
  {
   "cell_type": "code",
   "execution_count": 50,
   "id": "2f7d7f88",
   "metadata": {},
   "outputs": [
    {
     "data": {
      "text/plain": [
       "0.004814769280795187"
      ]
     },
     "execution_count": 50,
     "metadata": {},
     "output_type": "execute_result"
    }
   ],
   "source": [
    "theta0[-1]"
   ]
  },
  {
   "cell_type": "code",
   "execution_count": 51,
   "id": "8daed6f5",
   "metadata": {},
   "outputs": [
    {
     "data": {
      "text/plain": [
       "-0.2826984625327074"
      ]
     },
     "execution_count": 51,
     "metadata": {},
     "output_type": "execute_result"
    }
   ],
   "source": [
    "theta1[-1]"
   ]
  },
  {
   "cell_type": "code",
   "execution_count": 58,
   "id": "1dceba62",
   "metadata": {},
   "outputs": [],
   "source": [
    "func = lambda x: theta1[-1]*x + theta0[-1]\n",
    "x = np.linspace(4, 8, 1000)"
   ]
  },
  {
   "cell_type": "code",
   "execution_count": 65,
   "id": "86fa708e",
   "metadata": {},
   "outputs": [
    {
     "data": {
      "text/plain": [
       "<matplotlib.collections.PathCollection at 0x14c338790>"
      ]
     },
     "execution_count": 65,
     "metadata": {},
     "output_type": "execute_result"
    },
    {
     "data": {
      "image/png": "[encoded data removed]",
      "text/plain": [
       "<Figure size 640x480 with 1 Axes>"
      ]
     },
     "metadata": {},
     "output_type": "display_data"
    }
   ],
   "source": [
    "plt.plot(x, func(x))\n",
    "plt.scatter(np.array(data_vv['sepal length (cm)']), np.array(data_vv['sepal width (cm)']))"
   ]
  },
  {
   "cell_type": "code",
   "execution_count": 64,
   "id": "33582536",
   "metadata": {},
   "outputs": [
    {
     "data": {
      "text/plain": [
       "<matplotlib.collections.PathCollection at 0x14c311990>"
      ]
     },
     "execution_count": 64,
     "metadata": {},
     "output_type": "execute_result"
    },
    {
     "data": {
      "image/png": "[encoded data removed]",
      "text/plain": [
       "<Figure size 640x480 with 1 Axes>"
      ]
     },
     "metadata": {},
     "output_type": "display_data"
    }
   ],
   "source": [
    "plt.scatter(np.array(data_vv['sepal length (cm)']), np.array(data_vv['sepal width (cm)']))"
   ]
  },
  {
   "cell_type": "code",
   "execution_count": 63,
   "id": "1475f3a0",
   "metadata": {},
   "outputs": [
    {
     "data": {
      "text/html": [
       "<div>\n",
       "<style scoped>\n",
       "    .dataframe tbody tr th:only-of-type {\n",
       "        vertical-align: middle;\n",
       "    }\n",
       "\n",
       "    .dataframe tbody tr th {\n",
       "        vertical-align: top;\n",
       "    }\n",
       "\n",
       "    .dataframe thead th {\n",
       "        text-align: right;\n",
       "    }\n",
       "</style>\n",
       "<table border=\"1\" class=\"dataframe\">\n",
       "  <thead>\n",
       "    <tr style=\"text-align: right;\">\n",
       "      <th></th>\n",
       "      <th>sepal length (cm)</th>\n",
       "      <th>sepal width (cm)</th>\n",
       "      <th>petal length (cm)</th>\n",
       "      <th>petal width (cm)</th>\n",
       "      <th>target</th>\n",
       "    </tr>\n",
       "  </thead>\n",
       "  <tbody>\n",
       "    <tr>\n",
       "      <th>50</th>\n",
       "      <td>7.0</td>\n",
       "      <td>3.2</td>\n",
       "      <td>4.7</td>\n",
       "      <td>1.4</td>\n",
       "      <td>1</td>\n",
       "    </tr>\n",
       "    <tr>\n",
       "      <th>51</th>\n",
       "      <td>6.4</td>\n",
       "      <td>3.2</td>\n",
       "      <td>4.5</td>\n",
       "      <td>1.5</td>\n",
       "      <td>1</td>\n",
       "    </tr>\n",
       "    <tr>\n",
       "      <th>52</th>\n",
       "      <td>6.9</td>\n",
       "      <td>3.1</td>\n",
       "      <td>4.9</td>\n",
       "      <td>1.5</td>\n",
       "      <td>1</td>\n",
       "    </tr>\n",
       "    <tr>\n",
       "      <th>53</th>\n",
       "      <td>5.5</td>\n",
       "      <td>2.3</td>\n",
       "      <td>4.0</td>\n",
       "      <td>1.3</td>\n",
       "      <td>1</td>\n",
       "    </tr>\n",
       "    <tr>\n",
       "      <th>54</th>\n",
       "      <td>6.5</td>\n",
       "      <td>2.8</td>\n",
       "      <td>4.6</td>\n",
       "      <td>1.5</td>\n",
       "      <td>1</td>\n",
       "    </tr>\n",
       "    <tr>\n",
       "      <th>...</th>\n",
       "      <td>...</td>\n",
       "      <td>...</td>\n",
       "      <td>...</td>\n",
       "      <td>...</td>\n",
       "      <td>...</td>\n",
       "    </tr>\n",
       "    <tr>\n",
       "      <th>145</th>\n",
       "      <td>6.7</td>\n",
       "      <td>3.0</td>\n",
       "      <td>5.2</td>\n",
       "      <td>2.3</td>\n",
       "      <td>2</td>\n",
       "    </tr>\n",
       "    <tr>\n",
       "      <th>146</th>\n",
       "      <td>6.3</td>\n",
       "      <td>2.5</td>\n",
       "      <td>5.0</td>\n",
       "      <td>1.9</td>\n",
       "      <td>2</td>\n",
       "    </tr>\n",
       "    <tr>\n",
       "      <th>147</th>\n",
       "      <td>6.5</td>\n",
       "      <td>3.0</td>\n",
       "      <td>5.2</td>\n",
       "      <td>2.0</td>\n",
       "      <td>2</td>\n",
       "    </tr>\n",
       "    <tr>\n",
       "      <th>148</th>\n",
       "      <td>6.2</td>\n",
       "      <td>3.4</td>\n",
       "      <td>5.4</td>\n",
       "      <td>2.3</td>\n",
       "      <td>2</td>\n",
       "    </tr>\n",
       "    <tr>\n",
       "      <th>149</th>\n",
       "      <td>5.9</td>\n",
       "      <td>3.0</td>\n",
       "      <td>5.1</td>\n",
       "      <td>1.8</td>\n",
       "      <td>2</td>\n",
       "    </tr>\n",
       "  </tbody>\n",
       "</table>\n",
       "<p>100 rows × 5 columns</p>\n",
       "</div>"
      ],
      "text/plain": [
       "     sepal length (cm)  sepal width (cm)  petal length (cm)  petal width (cm)  \\\n",
       "50                 7.0               3.2                4.7               1.4   \n",
       "51                 6.4               3.2                4.5               1.5   \n",
       "52                 6.9               3.1                4.9               1.5   \n",
       "53                 5.5               2.3                4.0               1.3   \n",
       "54                 6.5               2.8                4.6               1.5   \n",
       "..                 ...               ...                ...               ...   \n",
       "145                6.7               3.0                5.2               2.3   \n",
       "146                6.3               2.5                5.0               1.9   \n",
       "147                6.5               3.0                5.2               2.0   \n",
       "148                6.2               3.4                5.4               2.3   \n",
       "149                5.9               3.0                5.1               1.8   \n",
       "\n",
       "     target  \n",
       "50        1  \n",
       "51        1  \n",
       "52        1  \n",
       "53        1  \n",
       "54        1  \n",
       "..      ...  \n",
       "145       2  \n",
       "146       2  \n",
       "147       2  \n",
       "148       2  \n",
       "149       2  \n",
       "\n",
       "[100 rows x 5 columns]"
      ]
     },
     "execution_count": 63,
     "metadata": {},
     "output_type": "execute_result"
    }
   ],
   "source": [
    "data_"
   ]
  },
  {
   "cell_type": "code",
   "execution_count": null,
   "id": "a9d4db0f",
   "metadata": {},
   "outputs": [],
   "source": []
  }
 ],
 "metadata": {
  "kernelspec": {
   "display_name": "Python 3 (ipykernel)",
   "language": "python",
   "name": "python3"
  },
  "language_info": {
   "codemirror_mode": {
    "name": "ipython",
    "version": 3
   },
   "file_extension": ".py",
   "mimetype": "text/x-python",
   "name": "python",
   "nbconvert_exporter": "python",
   "pygments_lexer": "ipython3",
   "version": "3.11.4"
  }
 },
 "nbformat": 4,
 "nbformat_minor": 5
}
