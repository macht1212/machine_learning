{
 "cells": [
  {
   "cell_type": "code",
   "execution_count": 1,
   "id": "5071e820",
   "metadata": {},
   "outputs": [],
   "source": [
    "import pandas as pd\n",
    "import numpy as np\n",
    "import matplotlib.pyplot as plt\n",
    "\n",
    "from sklearn import datasets"
   ]
  },
  {
   "cell_type": "markdown",
   "id": "c34dd966",
   "metadata": {},
   "source": [
    "# Подготовка датасета"
   ]
  },
  {
   "cell_type": "markdown",
   "id": "24d12b51",
   "metadata": {},
   "source": [
    "## Выбор двух классов: versicolor и virginica"
   ]
  },
  {
   "cell_type": "code",
   "execution_count": 2,
   "id": "b4f556b8",
   "metadata": {},
   "outputs": [
    {
     "name": "stderr",
     "output_type": "stream",
     "text": [
      "/var/folders/tt/zvp76tps5831_lf3ld0v33pc0000gp/T/ipykernel_23994/364151573.py:7: SettingWithCopyWarning: \n",
      "A value is trying to be set on a copy of a slice from a DataFrame.\n",
      "Try using .loc[row_indexer,col_indexer] = value instead\n",
      "\n",
      "See the caveats in the documentation: https://pandas.pydata.org/pandas-docs/stable/user_guide/indexing.html#returning-a-view-versus-a-copy\n",
      "  data_vv.target = data_vv.target.replace({1: 'versicolor', 2: 'virginica'})\n"
     ]
    }
   ],
   "source": [
    "iris = datasets.load_iris()\n",
    "data = pd.DataFrame(iris.data, columns=iris.feature_names)\n",
    "target = pd.DataFrame(iris.target)\n",
    "target.rename(columns={0: 'target'}, inplace=True)\n",
    "data = data.merge(target, how='inner', left_index=True, right_index=True)\n",
    "data_vv = data[data['target'] >= 1]\n",
    "data_vv.target = data_vv.target.replace({1: 'versicolor', 2: 'virginica'})\n",
    "\n",
    "data_to_regression = data_vv.copy()"
   ]
  },
  {
   "cell_type": "code",
   "execution_count": 3,
   "id": "955a08ce",
   "metadata": {},
   "outputs": [],
   "source": [
    "y = data_to_regression.target\n",
    "del data_to_regression['target']"
   ]
  },
  {
   "cell_type": "code",
   "execution_count": 4,
   "id": "23191829",
   "metadata": {},
   "outputs": [],
   "source": [
    "from sklearn.preprocessing import LabelEncoder\n",
    "le = LabelEncoder()"
   ]
  },
  {
   "cell_type": "code",
   "execution_count": 5,
   "id": "bc12242c",
   "metadata": {},
   "outputs": [
    {
     "data": {
      "text/html": [
       "<style>#sk-container-id-1 {color: black;}#sk-container-id-1 pre{padding: 0;}#sk-container-id-1 div.sk-toggleable {background-color: white;}#sk-container-id-1 label.sk-toggleable__label {cursor: pointer;display: block;width: 100%;margin-bottom: 0;padding: 0.3em;box-sizing: border-box;text-align: center;}#sk-container-id-1 label.sk-toggleable__label-arrow:before {content: \"▸\";float: left;margin-right: 0.25em;color: #696969;}#sk-container-id-1 label.sk-toggleable__label-arrow:hover:before {color: black;}#sk-container-id-1 div.sk-estimator:hover label.sk-toggleable__label-arrow:before {color: black;}#sk-container-id-1 div.sk-toggleable__content {max-height: 0;max-width: 0;overflow: hidden;text-align: left;background-color: #f0f8ff;}#sk-container-id-1 div.sk-toggleable__content pre {margin: 0.2em;color: black;border-radius: 0.25em;background-color: #f0f8ff;}#sk-container-id-1 input.sk-toggleable__control:checked~div.sk-toggleable__content {max-height: 200px;max-width: 100%;overflow: auto;}#sk-container-id-1 input.sk-toggleable__control:checked~label.sk-toggleable__label-arrow:before {content: \"▾\";}#sk-container-id-1 div.sk-estimator input.sk-toggleable__control:checked~label.sk-toggleable__label {background-color: #d4ebff;}#sk-container-id-1 div.sk-label input.sk-toggleable__control:checked~label.sk-toggleable__label {background-color: #d4ebff;}#sk-container-id-1 input.sk-hidden--visually {border: 0;clip: rect(1px 1px 1px 1px);clip: rect(1px, 1px, 1px, 1px);height: 1px;margin: -1px;overflow: hidden;padding: 0;position: absolute;width: 1px;}#sk-container-id-1 div.sk-estimator {font-family: monospace;background-color: #f0f8ff;border: 1px dotted black;border-radius: 0.25em;box-sizing: border-box;margin-bottom: 0.5em;}#sk-container-id-1 div.sk-estimator:hover {background-color: #d4ebff;}#sk-container-id-1 div.sk-parallel-item::after {content: \"\";width: 100%;border-bottom: 1px solid gray;flex-grow: 1;}#sk-container-id-1 div.sk-label:hover label.sk-toggleable__label {background-color: #d4ebff;}#sk-container-id-1 div.sk-serial::before {content: \"\";position: absolute;border-left: 1px solid gray;box-sizing: border-box;top: 0;bottom: 0;left: 50%;z-index: 0;}#sk-container-id-1 div.sk-serial {display: flex;flex-direction: column;align-items: center;background-color: white;padding-right: 0.2em;padding-left: 0.2em;position: relative;}#sk-container-id-1 div.sk-item {position: relative;z-index: 1;}#sk-container-id-1 div.sk-parallel {display: flex;align-items: stretch;justify-content: center;background-color: white;position: relative;}#sk-container-id-1 div.sk-item::before, #sk-container-id-1 div.sk-parallel-item::before {content: \"\";position: absolute;border-left: 1px solid gray;box-sizing: border-box;top: 0;bottom: 0;left: 50%;z-index: -1;}#sk-container-id-1 div.sk-parallel-item {display: flex;flex-direction: column;z-index: 1;position: relative;background-color: white;}#sk-container-id-1 div.sk-parallel-item:first-child::after {align-self: flex-end;width: 50%;}#sk-container-id-1 div.sk-parallel-item:last-child::after {align-self: flex-start;width: 50%;}#sk-container-id-1 div.sk-parallel-item:only-child::after {width: 0;}#sk-container-id-1 div.sk-dashed-wrapped {border: 1px dashed gray;margin: 0 0.4em 0.5em 0.4em;box-sizing: border-box;padding-bottom: 0.4em;background-color: white;}#sk-container-id-1 div.sk-label label {font-family: monospace;font-weight: bold;display: inline-block;line-height: 1.2em;}#sk-container-id-1 div.sk-label-container {text-align: center;}#sk-container-id-1 div.sk-container {/* jupyter's `normalize.less` sets `[hidden] { display: none; }` but bootstrap.min.css set `[hidden] { display: none !important; }` so we also need the `!important` here to be able to override the default hidden behavior on the sphinx rendered scikit-learn.org. See: https://github.com/scikit-learn/scikit-learn/issues/21755 */display: inline-block !important;position: relative;}#sk-container-id-1 div.sk-text-repr-fallback {display: none;}</style><div id=\"sk-container-id-1\" class=\"sk-top-container\"><div class=\"sk-text-repr-fallback\"><pre>LabelEncoder()</pre><b>In a Jupyter environment, please rerun this cell to show the HTML representation or trust the notebook. <br />On GitHub, the HTML representation is unable to render, please try loading this page with nbviewer.org.</b></div><div class=\"sk-container\" hidden><div class=\"sk-item\"><div class=\"sk-estimator sk-toggleable\"><input class=\"sk-toggleable__control sk-hidden--visually\" id=\"sk-estimator-id-1\" type=\"checkbox\" checked><label for=\"sk-estimator-id-1\" class=\"sk-toggleable__label sk-toggleable__label-arrow\">LabelEncoder</label><div class=\"sk-toggleable__content\"><pre>LabelEncoder()</pre></div></div></div></div></div>"
      ],
      "text/plain": [
       "LabelEncoder()"
      ]
     },
     "execution_count": 5,
     "metadata": {},
     "output_type": "execute_result"
    }
   ],
   "source": [
    "le.fit(y)"
   ]
  },
  {
   "cell_type": "code",
   "execution_count": 6,
   "id": "5f9b20ba",
   "metadata": {},
   "outputs": [],
   "source": [
    "y_ = np.array(pd.Series(data=le.transform(y)))"
   ]
  },
  {
   "cell_type": "markdown",
   "id": "f7c058b0",
   "metadata": {},
   "source": [
    "Получаем готовый датасет для дальнейшей работы.  \n",
    "Его характеристики: 100 строк, 4 параметра.  \n",
    "Отдельно выделяем Y (предсказание)"
   ]
  },
  {
   "cell_type": "code",
   "execution_count": 7,
   "id": "6279142c",
   "metadata": {},
   "outputs": [
    {
     "data": {
      "text/html": [
       "<div>\n",
       "<style scoped>\n",
       "    .dataframe tbody tr th:only-of-type {\n",
       "        vertical-align: middle;\n",
       "    }\n",
       "\n",
       "    .dataframe tbody tr th {\n",
       "        vertical-align: top;\n",
       "    }\n",
       "\n",
       "    .dataframe thead th {\n",
       "        text-align: right;\n",
       "    }\n",
       "</style>\n",
       "<table border=\"1\" class=\"dataframe\">\n",
       "  <thead>\n",
       "    <tr style=\"text-align: right;\">\n",
       "      <th></th>\n",
       "      <th>sepal length (cm)</th>\n",
       "      <th>sepal width (cm)</th>\n",
       "      <th>petal length (cm)</th>\n",
       "      <th>petal width (cm)</th>\n",
       "    </tr>\n",
       "  </thead>\n",
       "  <tbody>\n",
       "    <tr>\n",
       "      <th>50</th>\n",
       "      <td>7.0</td>\n",
       "      <td>3.2</td>\n",
       "      <td>4.7</td>\n",
       "      <td>1.4</td>\n",
       "    </tr>\n",
       "    <tr>\n",
       "      <th>51</th>\n",
       "      <td>6.4</td>\n",
       "      <td>3.2</td>\n",
       "      <td>4.5</td>\n",
       "      <td>1.5</td>\n",
       "    </tr>\n",
       "    <tr>\n",
       "      <th>52</th>\n",
       "      <td>6.9</td>\n",
       "      <td>3.1</td>\n",
       "      <td>4.9</td>\n",
       "      <td>1.5</td>\n",
       "    </tr>\n",
       "    <tr>\n",
       "      <th>53</th>\n",
       "      <td>5.5</td>\n",
       "      <td>2.3</td>\n",
       "      <td>4.0</td>\n",
       "      <td>1.3</td>\n",
       "    </tr>\n",
       "    <tr>\n",
       "      <th>54</th>\n",
       "      <td>6.5</td>\n",
       "      <td>2.8</td>\n",
       "      <td>4.6</td>\n",
       "      <td>1.5</td>\n",
       "    </tr>\n",
       "  </tbody>\n",
       "</table>\n",
       "</div>"
      ],
      "text/plain": [
       "    sepal length (cm)  sepal width (cm)  petal length (cm)  petal width (cm)\n",
       "50                7.0               3.2                4.7               1.4\n",
       "51                6.4               3.2                4.5               1.5\n",
       "52                6.9               3.1                4.9               1.5\n",
       "53                5.5               2.3                4.0               1.3\n",
       "54                6.5               2.8                4.6               1.5"
      ]
     },
     "execution_count": 7,
     "metadata": {},
     "output_type": "execute_result"
    }
   ],
   "source": [
    "data_to_regression.head()"
   ]
  },
  {
   "cell_type": "code",
   "execution_count": 8,
   "id": "3c4fd97e",
   "metadata": {},
   "outputs": [],
   "source": [
    "X = np.array(data_to_regression)"
   ]
  },
  {
   "cell_type": "markdown",
   "id": "21d02d2b",
   "metadata": {},
   "source": [
    "## Создаем класс Логистической регрессии  \n",
    "Исходя из определения логистической регрессии (линейная регрессия + сигмоида)"
   ]
  },
  {
   "cell_type": "code",
   "execution_count": 9,
   "id": "d7cdffa5",
   "metadata": {},
   "outputs": [],
   "source": [
    "def sigmoid(L):\n",
    "    \"\"\"Функция сигмоиды\"\"\"\n",
    "    return 1 / (1 + np.exp(-L))"
   ]
  },
  {
   "cell_type": "code",
   "execution_count": 12,
   "id": "fb0b22a0",
   "metadata": {},
   "outputs": [],
   "source": [
    "def lin_reg(X, W0, W):\n",
    "    \"\"\"Линейная регрессия\"\"\"\n",
    "    return W0 + np.sum(np.dot(X, W))"
   ]
  },
  {
   "cell_type": "code",
   "execution_count": 13,
   "id": "ec69ad93",
   "metadata": {},
   "outputs": [],
   "source": [
    "from sklearn.linear_model import LinearRegression\n",
    "from sklearn.preprocessing import StandardScaler\n",
    "from sklearn.pipeline import make_pipeline\n",
    "\n",
    "\n",
    "scaler = StandardScaler()\n",
    "X = scaler.fit_transform(X)\n",
    "\n",
    "from sklearn.model_selection import train_test_split\n",
    "\n",
    "X_train, X_test, y_train, y_test = train_test_split(X, y_, test_size=0.3, random_state=42)"
   ]
  },
  {
   "cell_type": "code",
   "execution_count": 14,
   "id": "0d5fb5c3",
   "metadata": {},
   "outputs": [],
   "source": [
    "model = LinearRegression()"
   ]
  },
  {
   "cell_type": "code",
   "execution_count": 15,
   "id": "e8273e84",
   "metadata": {},
   "outputs": [
    {
     "data": {
      "text/html": [
       "<style>#sk-container-id-2 {color: black;}#sk-container-id-2 pre{padding: 0;}#sk-container-id-2 div.sk-toggleable {background-color: white;}#sk-container-id-2 label.sk-toggleable__label {cursor: pointer;display: block;width: 100%;margin-bottom: 0;padding: 0.3em;box-sizing: border-box;text-align: center;}#sk-container-id-2 label.sk-toggleable__label-arrow:before {content: \"▸\";float: left;margin-right: 0.25em;color: #696969;}#sk-container-id-2 label.sk-toggleable__label-arrow:hover:before {color: black;}#sk-container-id-2 div.sk-estimator:hover label.sk-toggleable__label-arrow:before {color: black;}#sk-container-id-2 div.sk-toggleable__content {max-height: 0;max-width: 0;overflow: hidden;text-align: left;background-color: #f0f8ff;}#sk-container-id-2 div.sk-toggleable__content pre {margin: 0.2em;color: black;border-radius: 0.25em;background-color: #f0f8ff;}#sk-container-id-2 input.sk-toggleable__control:checked~div.sk-toggleable__content {max-height: 200px;max-width: 100%;overflow: auto;}#sk-container-id-2 input.sk-toggleable__control:checked~label.sk-toggleable__label-arrow:before {content: \"▾\";}#sk-container-id-2 div.sk-estimator input.sk-toggleable__control:checked~label.sk-toggleable__label {background-color: #d4ebff;}#sk-container-id-2 div.sk-label input.sk-toggleable__control:checked~label.sk-toggleable__label {background-color: #d4ebff;}#sk-container-id-2 input.sk-hidden--visually {border: 0;clip: rect(1px 1px 1px 1px);clip: rect(1px, 1px, 1px, 1px);height: 1px;margin: -1px;overflow: hidden;padding: 0;position: absolute;width: 1px;}#sk-container-id-2 div.sk-estimator {font-family: monospace;background-color: #f0f8ff;border: 1px dotted black;border-radius: 0.25em;box-sizing: border-box;margin-bottom: 0.5em;}#sk-container-id-2 div.sk-estimator:hover {background-color: #d4ebff;}#sk-container-id-2 div.sk-parallel-item::after {content: \"\";width: 100%;border-bottom: 1px solid gray;flex-grow: 1;}#sk-container-id-2 div.sk-label:hover label.sk-toggleable__label {background-color: #d4ebff;}#sk-container-id-2 div.sk-serial::before {content: \"\";position: absolute;border-left: 1px solid gray;box-sizing: border-box;top: 0;bottom: 0;left: 50%;z-index: 0;}#sk-container-id-2 div.sk-serial {display: flex;flex-direction: column;align-items: center;background-color: white;padding-right: 0.2em;padding-left: 0.2em;position: relative;}#sk-container-id-2 div.sk-item {position: relative;z-index: 1;}#sk-container-id-2 div.sk-parallel {display: flex;align-items: stretch;justify-content: center;background-color: white;position: relative;}#sk-container-id-2 div.sk-item::before, #sk-container-id-2 div.sk-parallel-item::before {content: \"\";position: absolute;border-left: 1px solid gray;box-sizing: border-box;top: 0;bottom: 0;left: 50%;z-index: -1;}#sk-container-id-2 div.sk-parallel-item {display: flex;flex-direction: column;z-index: 1;position: relative;background-color: white;}#sk-container-id-2 div.sk-parallel-item:first-child::after {align-self: flex-end;width: 50%;}#sk-container-id-2 div.sk-parallel-item:last-child::after {align-self: flex-start;width: 50%;}#sk-container-id-2 div.sk-parallel-item:only-child::after {width: 0;}#sk-container-id-2 div.sk-dashed-wrapped {border: 1px dashed gray;margin: 0 0.4em 0.5em 0.4em;box-sizing: border-box;padding-bottom: 0.4em;background-color: white;}#sk-container-id-2 div.sk-label label {font-family: monospace;font-weight: bold;display: inline-block;line-height: 1.2em;}#sk-container-id-2 div.sk-label-container {text-align: center;}#sk-container-id-2 div.sk-container {/* jupyter's `normalize.less` sets `[hidden] { display: none; }` but bootstrap.min.css set `[hidden] { display: none !important; }` so we also need the `!important` here to be able to override the default hidden behavior on the sphinx rendered scikit-learn.org. See: https://github.com/scikit-learn/scikit-learn/issues/21755 */display: inline-block !important;position: relative;}#sk-container-id-2 div.sk-text-repr-fallback {display: none;}</style><div id=\"sk-container-id-2\" class=\"sk-top-container\"><div class=\"sk-text-repr-fallback\"><pre>LinearRegression()</pre><b>In a Jupyter environment, please rerun this cell to show the HTML representation or trust the notebook. <br />On GitHub, the HTML representation is unable to render, please try loading this page with nbviewer.org.</b></div><div class=\"sk-container\" hidden><div class=\"sk-item\"><div class=\"sk-estimator sk-toggleable\"><input class=\"sk-toggleable__control sk-hidden--visually\" id=\"sk-estimator-id-2\" type=\"checkbox\" checked><label for=\"sk-estimator-id-2\" class=\"sk-toggleable__label sk-toggleable__label-arrow\">LinearRegression</label><div class=\"sk-toggleable__content\"><pre>LinearRegression()</pre></div></div></div></div></div>"
      ],
      "text/plain": [
       "LinearRegression()"
      ]
     },
     "execution_count": 15,
     "metadata": {},
     "output_type": "execute_result"
    }
   ],
   "source": [
    "model.fit(X_train, y_train)"
   ]
  },
  {
   "cell_type": "code",
   "execution_count": 16,
   "id": "0fc60123",
   "metadata": {},
   "outputs": [
    {
     "data": {
      "text/plain": [
       "array([-0.11325364, -0.12382787,  0.32713203,  0.26952252])"
      ]
     },
     "execution_count": 16,
     "metadata": {},
     "output_type": "execute_result"
    }
   ],
   "source": [
    "model.coef_"
   ]
  },
  {
   "cell_type": "code",
   "execution_count": 17,
   "id": "59223497",
   "metadata": {},
   "outputs": [
    {
     "data": {
      "text/plain": [
       "0.5037019938445668"
      ]
     },
     "execution_count": 17,
     "metadata": {},
     "output_type": "execute_result"
    }
   ],
   "source": [
    "model.intercept_"
   ]
  },
  {
   "cell_type": "code",
   "execution_count": 18,
   "id": "4387c045",
   "metadata": {},
   "outputs": [],
   "source": [
    "L = model.intercept_ + np.dot(model.coef_, X.T)"
   ]
  },
  {
   "cell_type": "code",
   "execution_count": 19,
   "id": "ba66cc49",
   "metadata": {},
   "outputs": [
    {
     "data": {
      "text/plain": [
       "array([0.49906218, 0.52083934, 0.5484083 , 0.56165974, 0.56356935,\n",
       "       0.55617999, 0.55146628, 0.46094241, 0.51837801, 0.5433314 ,\n",
       "       0.51387897, 0.53110888, 0.5020315 , 0.56537419, 0.46183103,\n",
       "       0.49142434, 0.57336315, 0.47384657, 0.62052067, 0.49714002,\n",
       "       0.61776059, 0.48946718, 0.6275407 , 0.54310787, 0.49710434,\n",
       "       0.50506662, 0.55478442, 0.60667427, 0.56569243, 0.42822879,\n",
       "       0.50082723, 0.47494936, 0.48580004, 0.6551638 , 0.58174253,\n",
       "       0.53520779, 0.5371658 , 0.56704843, 0.50218666, 0.54316704,\n",
       "       0.55754976, 0.54631121, 0.5051023 , 0.46597248, 0.54010701,\n",
       "       0.49190753, 0.51719307, 0.50569023, 0.42947433, 0.51658792,\n",
       "       0.78554083, 0.70421988, 0.72674446, 0.69892008, 0.75122356,\n",
       "       0.76333932, 0.67487972, 0.7209556 , 0.73159363, 0.74484855,\n",
       "       0.65113568, 0.69932564, 0.70482637, 0.72778142, 0.7593154 ,\n",
       "       0.71344392, 0.67493493, 0.72277963, 0.82498904, 0.67375645,\n",
       "       0.72821889, 0.700261  , 0.76937004, 0.65434485, 0.7016162 ,\n",
       "       0.67583665, 0.64063935, 0.63653006, 0.74148534, 0.64618566,\n",
       "       0.72183016, 0.66305355, 0.75351992, 0.61990066, 0.67559975,\n",
       "       0.74693361, 0.73842222, 0.67048123, 0.6312733 , 0.6848153 ,\n",
       "       0.7467394 , 0.68655454, 0.70421988, 0.7469527 , 0.75214609,\n",
       "       0.71005064, 0.69351203, 0.67670295, 0.71331453, 0.66247162])"
      ]
     },
     "execution_count": 19,
     "metadata": {},
     "output_type": "execute_result"
    }
   ],
   "source": [
    "sigmoid(L)"
   ]
  },
  {
   "cell_type": "code",
   "execution_count": 20,
   "id": "24560a29",
   "metadata": {},
   "outputs": [
    {
     "data": {
      "text/plain": [
       "[<matplotlib.lines.Line2D at 0x1295cfa50>]"
      ]
     },
     "execution_count": 20,
     "metadata": {},
     "output_type": "execute_result"
    },
    {
     "data": {
      "image/png": "[encoded data removed]",
      "text/plain": [
       "<Figure size 640x480 with 1 Axes>"
      ]
     },
     "metadata": {},
     "output_type": "display_data"
    }
   ],
   "source": [
    "plt.plot(sigmoid(L))"
   ]
  },
  {
   "cell_type": "code",
   "execution_count": null,
   "id": "c040e3bc",
   "metadata": {},
   "outputs": [],
   "source": []
  },
  {
   "cell_type": "code",
   "execution_count": null,
   "id": "25574555",
   "metadata": {},
   "outputs": [],
   "source": []
  },
  {
   "cell_type": "code",
   "execution_count": null,
   "id": "a95a6d8d",
   "metadata": {},
   "outputs": [],
   "source": []
  },
  {
   "cell_type": "code",
   "execution_count": null,
   "id": "7b6b60cf",
   "metadata": {},
   "outputs": [],
   "source": []
  },
  {
   "cell_type": "code",
   "execution_count": null,
   "id": "0f0df583",
   "metadata": {},
   "outputs": [],
   "source": []
  },
  {
   "cell_type": "code",
   "execution_count": 32,
   "id": "f632641b",
   "metadata": {},
   "outputs": [],
   "source": [
    "def log_reg(X, W0, W):\n",
    "    \"\"\"Логистическая регрессия\"\"\"\n",
    "    return sigmoid(lin_reg(X, W0, W))"
   ]
  },
  {
   "cell_type": "code",
   "execution_count": 33,
   "id": "a10f1dca",
   "metadata": {},
   "outputs": [],
   "source": [
    "def binary_entropy(y, X, W0, W):\n",
    "    \"\"\"Бинарная энтропия\"\"\"\n",
    "    return (-1 / X.shape[0]) * np.sum( y * np.log(log_reg(X, W0, W) + (1 - y) * np.log(1 - log_reg(X, W0, W))))"
   ]
  },
  {
   "cell_type": "code",
   "execution_count": 34,
   "id": "1de24e16",
   "metadata": {},
   "outputs": [],
   "source": [
    "def d_binary_entropy(y, X, W0, W):\n",
    "    \"\"\"Производная от бинарной энтропии\"\"\"\n",
    "    return (1 / X.shape[0]) * np.dot(X.T, log_reg(X, W0, W) - y)"
   ]
  },
  {
   "cell_type": "code",
   "execution_count": 35,
   "id": "cc41a918",
   "metadata": {},
   "outputs": [],
   "source": [
    "def GD(y, X, EPOCHS, LEARNING_RATE):\n",
    "    \"\"\"Градиентный спуск\"\"\"\n",
    "    W = []\n",
    "    np.random.seed(9)\n",
    "    W = np.random.normal(size=(5,))\n",
    "\n",
    "    list_params_gd = [W.copy()]\n",
    "    \n",
    "    for _ in range(EPOCHS):\n",
    "        for i in range(len(W)):\n",
    "            if i == 0:\n",
    "                W[i] -= LEARNING_RATE * np.sum(W[0] + np.sum([W[j] * X.T[j-1] for j in range(1, len(W))]) - y) * (2/X.shape[0])\n",
    "            else:\n",
    "                W[i] -= LEARNING_RATE * np.sum((W[0] + np.sum([W[j] * X.T[j-1] for j in range(1, len(W))]) - y) * X.T[i-1]) * (2/X.shape[0])    \n",
    "\n",
    "            list_params_gd.append(W.copy())\n",
    "        \n",
    "    return W\n"
   ]
  },
  {
   "cell_type": "markdown",
   "id": "c8b09449",
   "metadata": {},
   "source": [
    "Находим веса"
   ]
  },
  {
   "cell_type": "code",
   "execution_count": 36,
   "id": "ac7789b5",
   "metadata": {},
   "outputs": [
    {
     "data": {
      "text/plain": [
       "array([ 0.00310033, -0.28855546, -1.11545014, -0.01130991, -0.37670521])"
      ]
     },
     "execution_count": 36,
     "metadata": {},
     "output_type": "execute_result"
    }
   ],
   "source": [
    "W = GD(y_, X, 20, .0001)\n",
    "W"
   ]
  },
  {
   "cell_type": "code",
   "execution_count": null,
   "id": "21dc63b6",
   "metadata": {},
   "outputs": [],
   "source": []
  },
  {
   "cell_type": "code",
   "execution_count": 37,
   "id": "e0f0211c",
   "metadata": {},
   "outputs": [],
   "source": [
    "W0, W = W[0], W[1:]"
   ]
  },
  {
   "cell_type": "code",
   "execution_count": 38,
   "id": "b5112250",
   "metadata": {},
   "outputs": [],
   "source": [
    "L_ = W0 + np.dot(W, X.T)"
   ]
  },
  {
   "cell_type": "code",
   "execution_count": 39,
   "id": "395b179b",
   "metadata": {},
   "outputs": [
    {
     "data": {
      "text/plain": [
       "[<matplotlib.lines.Line2D at 0x14acb8c10>]"
      ]
     },
     "execution_count": 39,
     "metadata": {},
     "output_type": "execute_result"
    },
    {
     "data": {
      "image/png": "[encoded data removed]",
      "text/plain": [
       "<Figure size 640x480 with 1 Axes>"
      ]
     },
     "metadata": {},
     "output_type": "display_data"
    }
   ],
   "source": [
    "plt.plot(sigmoid(L_))"
   ]
  },
  {
   "cell_type": "code",
   "execution_count": 40,
   "id": "4bd0703b",
   "metadata": {},
   "outputs": [
    {
     "name": "stderr",
     "output_type": "stream",
     "text": [
      "/var/folders/tt/zvp76tps5831_lf3ld0v33pc0000gp/T/ipykernel_23994/3224833765.py:3: RuntimeWarning: invalid value encountered in log\n",
      "  return (-1 / X.shape[0]) * np.sum( y * np.log(log_reg(X, W0, W) + (1 - y) * np.log(1 - log_reg(X, W0, W))))\n"
     ]
    },
    {
     "data": {
      "text/plain": [
       "nan"
      ]
     },
     "execution_count": 40,
     "metadata": {},
     "output_type": "execute_result"
    }
   ],
   "source": [
    "binary_entropy(y_, X, W0, W)"
   ]
  },
  {
   "cell_type": "code",
   "execution_count": 41,
   "id": "2da6278e",
   "metadata": {},
   "outputs": [
    {
     "data": {
      "text/plain": [
       "0.5007750827452265"
      ]
     },
     "execution_count": 41,
     "metadata": {},
     "output_type": "execute_result"
    }
   ],
   "source": [
    "log_reg(X, W0, W)"
   ]
  },
  {
   "cell_type": "code",
   "execution_count": null,
   "id": "cf7208e7",
   "metadata": {},
   "outputs": [],
   "source": []
  },
  {
   "cell_type": "code",
   "execution_count": null,
   "id": "67cd20b7",
   "metadata": {},
   "outputs": [],
   "source": []
  }
 ],
 "metadata": {
  "kernelspec": {
   "display_name": "Python 3 (ipykernel)",
   "language": "python",
   "name": "python3"
  },
  "language_info": {
   "codemirror_mode": {
    "name": "ipython",
    "version": 3
   },
   "file_extension": ".py",
   "mimetype": "text/x-python",
   "name": "python",
   "nbconvert_exporter": "python",
   "pygments_lexer": "ipython3",
   "version": "3.11.4"
  }
 },
 "nbformat": 4,
 "nbformat_minor": 5
}
